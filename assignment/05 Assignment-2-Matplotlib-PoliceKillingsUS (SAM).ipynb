{
 "cells": [
  {
   "cell_type": "markdown",
   "metadata": {
    "id": "xSwVOspA2Zin"
   },
   "source": [
    "# WITH PANDAS AND MATPLOTLIB"
   ]
  },
  {
   "cell_type": "code",
   "execution_count": 1,
   "metadata": {
    "_cell_guid": "5fdcd462-5466-40f5-9992-dc31a9a174f2",
    "_uuid": "dab5021d92c7210270cec270470e4ae179a1de01",
    "id": "22qiZVq32Zir"
   },
   "outputs": [],
   "source": [
    "import numpy as np \n",
    "import pandas as pd\n",
    "import seaborn as sns\n",
    "import matplotlib.pyplot as plt\n",
    "from collections import Counter\n",
    "import warnings\n",
    "warnings.filterwarnings('ignore') "
   ]
  },
  {
   "cell_type": "markdown",
   "metadata": {
    "id": "Rsu0y4Ha2Zit"
   },
   "source": [
    "INSTRUCTIONS\n",
    "\n",
    "1. Number of people by gender\n",
    "1. Kill weapon\n",
    "1. Age of killed people\n",
    "1. Race of killed people\n",
    "1. Killed People According to Races (Pie Chart)\n",
    "1. Most common 15 Name or Surname of killed people\n",
    "\n",
    "<br>"
   ]
  },
  {
   "cell_type": "markdown",
   "metadata": {
    "id": "OTDjgwf53tr5"
   },
   "source": [
    "read data\n",
    "\n",
    "if didn't work you can use this parameters: encoding=\"windows-1252\""
   ]
  },
  {
   "cell_type": "code",
   "execution_count": 2,
   "metadata": {
    "_cell_guid": "abb0685f-f844-43f8-84c0-4cd54361c7bf",
    "_uuid": "9c06ed7c41db79ae9d940f2d52aeff23621b3037",
    "id": "NYz5lAPp2Ziu"
   },
   "outputs": [
    {
     "data": {
      "text/html": [
       "<div>\n",
       "<style scoped>\n",
       "    .dataframe tbody tr th:only-of-type {\n",
       "        vertical-align: middle;\n",
       "    }\n",
       "\n",
       "    .dataframe tbody tr th {\n",
       "        vertical-align: top;\n",
       "    }\n",
       "\n",
       "    .dataframe thead th {\n",
       "        text-align: right;\n",
       "    }\n",
       "</style>\n",
       "<table border=\"1\" class=\"dataframe\">\n",
       "  <thead>\n",
       "    <tr style=\"text-align: right;\">\n",
       "      <th></th>\n",
       "      <th>id</th>\n",
       "      <th>name</th>\n",
       "      <th>date</th>\n",
       "      <th>manner_of_death</th>\n",
       "      <th>armed</th>\n",
       "      <th>age</th>\n",
       "      <th>gender</th>\n",
       "      <th>race</th>\n",
       "      <th>city</th>\n",
       "      <th>state</th>\n",
       "      <th>signs_of_mental_illness</th>\n",
       "      <th>threat_level</th>\n",
       "      <th>flee</th>\n",
       "      <th>body_camera</th>\n",
       "    </tr>\n",
       "  </thead>\n",
       "  <tbody>\n",
       "    <tr>\n",
       "      <th>0</th>\n",
       "      <td>3</td>\n",
       "      <td>Tim Elliot</td>\n",
       "      <td>02/01/15</td>\n",
       "      <td>shot</td>\n",
       "      <td>gun</td>\n",
       "      <td>53.0</td>\n",
       "      <td>M</td>\n",
       "      <td>A</td>\n",
       "      <td>Shelton</td>\n",
       "      <td>WA</td>\n",
       "      <td>True</td>\n",
       "      <td>attack</td>\n",
       "      <td>Not fleeing</td>\n",
       "      <td>False</td>\n",
       "    </tr>\n",
       "    <tr>\n",
       "      <th>1</th>\n",
       "      <td>4</td>\n",
       "      <td>Lewis Lee Lembke</td>\n",
       "      <td>02/01/15</td>\n",
       "      <td>shot</td>\n",
       "      <td>gun</td>\n",
       "      <td>47.0</td>\n",
       "      <td>M</td>\n",
       "      <td>W</td>\n",
       "      <td>Aloha</td>\n",
       "      <td>OR</td>\n",
       "      <td>False</td>\n",
       "      <td>attack</td>\n",
       "      <td>Not fleeing</td>\n",
       "      <td>False</td>\n",
       "    </tr>\n",
       "    <tr>\n",
       "      <th>2</th>\n",
       "      <td>5</td>\n",
       "      <td>John Paul Quintero</td>\n",
       "      <td>03/01/15</td>\n",
       "      <td>shot and Tasered</td>\n",
       "      <td>unarmed</td>\n",
       "      <td>23.0</td>\n",
       "      <td>M</td>\n",
       "      <td>H</td>\n",
       "      <td>Wichita</td>\n",
       "      <td>KS</td>\n",
       "      <td>False</td>\n",
       "      <td>other</td>\n",
       "      <td>Not fleeing</td>\n",
       "      <td>False</td>\n",
       "    </tr>\n",
       "    <tr>\n",
       "      <th>3</th>\n",
       "      <td>8</td>\n",
       "      <td>Matthew Hoffman</td>\n",
       "      <td>04/01/15</td>\n",
       "      <td>shot</td>\n",
       "      <td>toy weapon</td>\n",
       "      <td>32.0</td>\n",
       "      <td>M</td>\n",
       "      <td>W</td>\n",
       "      <td>San Francisco</td>\n",
       "      <td>CA</td>\n",
       "      <td>True</td>\n",
       "      <td>attack</td>\n",
       "      <td>Not fleeing</td>\n",
       "      <td>False</td>\n",
       "    </tr>\n",
       "    <tr>\n",
       "      <th>4</th>\n",
       "      <td>9</td>\n",
       "      <td>Michael Rodriguez</td>\n",
       "      <td>04/01/15</td>\n",
       "      <td>shot</td>\n",
       "      <td>nail gun</td>\n",
       "      <td>39.0</td>\n",
       "      <td>M</td>\n",
       "      <td>H</td>\n",
       "      <td>Evans</td>\n",
       "      <td>CO</td>\n",
       "      <td>False</td>\n",
       "      <td>attack</td>\n",
       "      <td>Not fleeing</td>\n",
       "      <td>False</td>\n",
       "    </tr>\n",
       "  </tbody>\n",
       "</table>\n",
       "</div>"
      ],
      "text/plain": [
       "   id                name      date   manner_of_death       armed   age  \\\n",
       "0   3          Tim Elliot  02/01/15              shot         gun  53.0   \n",
       "1   4    Lewis Lee Lembke  02/01/15              shot         gun  47.0   \n",
       "2   5  John Paul Quintero  03/01/15  shot and Tasered     unarmed  23.0   \n",
       "3   8     Matthew Hoffman  04/01/15              shot  toy weapon  32.0   \n",
       "4   9   Michael Rodriguez  04/01/15              shot    nail gun  39.0   \n",
       "\n",
       "  gender race           city state  signs_of_mental_illness threat_level  \\\n",
       "0      M    A        Shelton    WA                     True       attack   \n",
       "1      M    W          Aloha    OR                    False       attack   \n",
       "2      M    H        Wichita    KS                    False        other   \n",
       "3      M    W  San Francisco    CA                     True       attack   \n",
       "4      M    H          Evans    CO                    False       attack   \n",
       "\n",
       "          flee  body_camera  \n",
       "0  Not fleeing        False  \n",
       "1  Not fleeing        False  \n",
       "2  Not fleeing        False  \n",
       "3  Not fleeing        False  \n",
       "4  Not fleeing        False  "
      ]
     },
     "execution_count": 2,
     "metadata": {},
     "output_type": "execute_result"
    }
   ],
   "source": [
    "df = pd.read_csv('PoliceKillingsUS.csv')\n",
    "df.head()"
   ]
  },
  {
   "cell_type": "markdown",
   "metadata": {
    "id": "wMFloMjW2Zi8"
   },
   "source": [
    "## 1: Plot number of people by gender"
   ]
  },
  {
   "cell_type": "code",
   "execution_count": 3,
   "metadata": {
    "colab": {
     "base_uri": "https://localhost:8080/",
     "height": 307
    },
    "id": "g73Ix7402Zi9",
    "outputId": "3cc46e86-dfdd-46ef-b738-e1f0f1dd6d82"
   },
   "outputs": [
    {
     "data": {
      "text/html": [
       "<div>\n",
       "<style scoped>\n",
       "    .dataframe tbody tr th:only-of-type {\n",
       "        vertical-align: middle;\n",
       "    }\n",
       "\n",
       "    .dataframe tbody tr th {\n",
       "        vertical-align: top;\n",
       "    }\n",
       "\n",
       "    .dataframe thead th {\n",
       "        text-align: right;\n",
       "    }\n",
       "</style>\n",
       "<table border=\"1\" class=\"dataframe\">\n",
       "  <thead>\n",
       "    <tr style=\"text-align: right;\">\n",
       "      <th></th>\n",
       "      <th>id</th>\n",
       "      <th>name</th>\n",
       "      <th>date</th>\n",
       "      <th>manner_of_death</th>\n",
       "      <th>armed</th>\n",
       "      <th>age</th>\n",
       "      <th>gender</th>\n",
       "      <th>race</th>\n",
       "      <th>city</th>\n",
       "      <th>state</th>\n",
       "      <th>signs_of_mental_illness</th>\n",
       "      <th>threat_level</th>\n",
       "      <th>flee</th>\n",
       "      <th>body_camera</th>\n",
       "    </tr>\n",
       "  </thead>\n",
       "  <tbody>\n",
       "    <tr>\n",
       "      <th>0</th>\n",
       "      <td>3</td>\n",
       "      <td>Tim Elliot</td>\n",
       "      <td>02/01/15</td>\n",
       "      <td>shot</td>\n",
       "      <td>gun</td>\n",
       "      <td>53.0</td>\n",
       "      <td>M</td>\n",
       "      <td>A</td>\n",
       "      <td>Shelton</td>\n",
       "      <td>WA</td>\n",
       "      <td>True</td>\n",
       "      <td>attack</td>\n",
       "      <td>Not fleeing</td>\n",
       "      <td>False</td>\n",
       "    </tr>\n",
       "    <tr>\n",
       "      <th>1</th>\n",
       "      <td>4</td>\n",
       "      <td>Lewis Lee Lembke</td>\n",
       "      <td>02/01/15</td>\n",
       "      <td>shot</td>\n",
       "      <td>gun</td>\n",
       "      <td>47.0</td>\n",
       "      <td>M</td>\n",
       "      <td>W</td>\n",
       "      <td>Aloha</td>\n",
       "      <td>OR</td>\n",
       "      <td>False</td>\n",
       "      <td>attack</td>\n",
       "      <td>Not fleeing</td>\n",
       "      <td>False</td>\n",
       "    </tr>\n",
       "    <tr>\n",
       "      <th>2</th>\n",
       "      <td>5</td>\n",
       "      <td>John Paul Quintero</td>\n",
       "      <td>03/01/15</td>\n",
       "      <td>shot and Tasered</td>\n",
       "      <td>unarmed</td>\n",
       "      <td>23.0</td>\n",
       "      <td>M</td>\n",
       "      <td>H</td>\n",
       "      <td>Wichita</td>\n",
       "      <td>KS</td>\n",
       "      <td>False</td>\n",
       "      <td>other</td>\n",
       "      <td>Not fleeing</td>\n",
       "      <td>False</td>\n",
       "    </tr>\n",
       "    <tr>\n",
       "      <th>3</th>\n",
       "      <td>8</td>\n",
       "      <td>Matthew Hoffman</td>\n",
       "      <td>04/01/15</td>\n",
       "      <td>shot</td>\n",
       "      <td>toy weapon</td>\n",
       "      <td>32.0</td>\n",
       "      <td>M</td>\n",
       "      <td>W</td>\n",
       "      <td>San Francisco</td>\n",
       "      <td>CA</td>\n",
       "      <td>True</td>\n",
       "      <td>attack</td>\n",
       "      <td>Not fleeing</td>\n",
       "      <td>False</td>\n",
       "    </tr>\n",
       "    <tr>\n",
       "      <th>4</th>\n",
       "      <td>9</td>\n",
       "      <td>Michael Rodriguez</td>\n",
       "      <td>04/01/15</td>\n",
       "      <td>shot</td>\n",
       "      <td>nail gun</td>\n",
       "      <td>39.0</td>\n",
       "      <td>M</td>\n",
       "      <td>H</td>\n",
       "      <td>Evans</td>\n",
       "      <td>CO</td>\n",
       "      <td>False</td>\n",
       "      <td>attack</td>\n",
       "      <td>Not fleeing</td>\n",
       "      <td>False</td>\n",
       "    </tr>\n",
       "  </tbody>\n",
       "</table>\n",
       "</div>"
      ],
      "text/plain": [
       "   id                name      date   manner_of_death       armed   age  \\\n",
       "0   3          Tim Elliot  02/01/15              shot         gun  53.0   \n",
       "1   4    Lewis Lee Lembke  02/01/15              shot         gun  47.0   \n",
       "2   5  John Paul Quintero  03/01/15  shot and Tasered     unarmed  23.0   \n",
       "3   8     Matthew Hoffman  04/01/15              shot  toy weapon  32.0   \n",
       "4   9   Michael Rodriguez  04/01/15              shot    nail gun  39.0   \n",
       "\n",
       "  gender race           city state  signs_of_mental_illness threat_level  \\\n",
       "0      M    A        Shelton    WA                     True       attack   \n",
       "1      M    W          Aloha    OR                    False       attack   \n",
       "2      M    H        Wichita    KS                    False        other   \n",
       "3      M    W  San Francisco    CA                     True       attack   \n",
       "4      M    H          Evans    CO                    False       attack   \n",
       "\n",
       "          flee  body_camera  \n",
       "0  Not fleeing        False  \n",
       "1  Not fleeing        False  \n",
       "2  Not fleeing        False  \n",
       "3  Not fleeing        False  \n",
       "4  Not fleeing        False  "
      ]
     },
     "execution_count": 3,
     "metadata": {},
     "output_type": "execute_result"
    }
   ],
   "source": [
    "df.head()"
   ]
  },
  {
   "cell_type": "code",
   "execution_count": 4,
   "metadata": {},
   "outputs": [
    {
     "data": {
      "text/plain": [
       "M    2428\n",
       "F     107\n",
       "Name: gender, dtype: int64"
      ]
     },
     "execution_count": 4,
     "metadata": {},
     "output_type": "execute_result"
    }
   ],
   "source": [
    "gender_distribution = df[\"gender\"].value_counts()\n",
    "gender_distribution"
   ]
  },
  {
   "cell_type": "code",
   "execution_count": 37,
   "metadata": {
    "colab": {
     "base_uri": "https://localhost:8080/",
     "height": 282
    },
    "id": "9l_gl3On2Zi9",
    "outputId": "1ed7b4da-1d76-40e4-cbab-d5afba9a34aa"
   },
   "outputs": [
    {
     "data": {
      "image/png": "[encoded data removed]",
      "text/plain": [
       "<Figure size 576x360 with 1 Axes>"
      ]
     },
     "metadata": {
      "needs_background": "light"
     },
     "output_type": "display_data"
    }
   ],
   "source": [
    "# with pandas\n",
    "gender_distribution.plot(kind = \"bar\",figsize=(8,5))\n",
    "plt.title(\"Gender Distribution\",fontsize=15)\n",
    "for index, value in enumerate(gender_distribution.values):\n",
    "    plt.text(index, value, str(value), ha = \"center\")\n",
    "\n",
    "plt.show()"
   ]
  },
  {
   "cell_type": "code",
   "execution_count": 36,
   "metadata": {
    "colab": {
     "base_uri": "https://localhost:8080/",
     "height": 283
    },
    "id": "KtJXC38R2Zi9",
    "outputId": "99c4a881-e389-4469-984c-31d6b2bf67a2"
   },
   "outputs": [
    {
     "data": {
      "image/png": "[encoded data removed]",
      "text/plain": [
       "<Figure size 576x360 with 1 Axes>"
      ]
     },
     "metadata": {
      "needs_background": "light"
     },
     "output_type": "display_data"
    }
   ],
   "source": [
    "# with matplotlib\n",
    "fig, ax = plt.subplots(figsize=(8,5))\n",
    "plt.bar(gender_distribution.index, gender_distribution.values);\n",
    "plt.title(\"Gender Distribution\", fontsize=15)\n",
    "for index, value in enumerate(gender_distribution.values):\n",
    "    plt.text(index, value, str(value), ha = \"center\")\n",
    "    \n",
    "plt.show()"
   ]
  },
  {
   "cell_type": "markdown",
   "metadata": {
    "id": "3CDiN8a22Zi9"
   },
   "source": [
    "## 2: Plot 7 most common kill weapons"
   ]
  },
  {
   "cell_type": "code",
   "execution_count": 17,
   "metadata": {
    "colab": {
     "base_uri": "https://localhost:8080/"
    },
    "id": "BAU2H77b2Zi9",
    "outputId": "a893d160-7464-448d-de16-6e4399c36a75"
   },
   "outputs": [
    {
     "data": {
      "text/plain": [
       "gun             1398\n",
       "knife            373\n",
       "vehicle          177\n",
       "unarmed          171\n",
       "undetermined     117\n",
       "toy weapon       104\n",
       "machete           18\n",
       "Name: armed, dtype: int64"
      ]
     },
     "execution_count": 17,
     "metadata": {},
     "output_type": "execute_result"
    }
   ],
   "source": [
    "most_common_kill_weapons = df[\"armed\"].value_counts()[0:7]\n",
    "most_common_kill_weapons"
   ]
  },
  {
   "cell_type": "code",
   "execution_count": 30,
   "metadata": {
    "colab": {
     "base_uri": "https://localhost:8080/",
     "height": 379
    },
    "id": "WznuMe522Zi-",
    "outputId": "aa03186c-558b-4fa2-f7e0-471d827565c0"
   },
   "outputs": [
    {
     "data": {
      "image/png": "[encoded data removed]",
      "text/plain": [
       "<Figure size 576x360 with 1 Axes>"
      ]
     },
     "metadata": {
      "needs_background": "light"
     },
     "output_type": "display_data"
    }
   ],
   "source": [
    "# with pandas\n",
    "most_common_kill_weapons.plot.bar(figsize=(8,5))\n",
    "for index, value in enumerate(most_common_kill_weapons.values):\n",
    "    plt.text(index, value, str(value), ha = \"center\")\n",
    "plt.xticks(rotation=60)\n",
    "\n",
    "plt.show()"
   ]
  },
  {
   "cell_type": "code",
   "execution_count": 35,
   "metadata": {
    "colab": {
     "base_uri": "https://localhost:8080/",
     "height": 379
    },
    "id": "v6AvLOw82Zi-",
    "outputId": "b0539d81-1511-4ec4-b5dd-4160319f2096"
   },
   "outputs": [
    {
     "data": {
      "image/png": "[encoded data removed]",
      "text/plain": [
       "<Figure size 576x360 with 1 Axes>"
      ]
     },
     "metadata": {
      "needs_background": "light"
     },
     "output_type": "display_data"
    }
   ],
   "source": [
    "# with matplotlib\n",
    "fig, ax = plt.subplots(figsize=(8,5))\n",
    "plt.bar(most_common_kill_weapons.index, most_common_kill_weapons.values);\n",
    "for index, value in enumerate(most_common_kill_weapons.values):\n",
    "    plt.text(index, value, str(value), ha = \"center\")\n",
    "plt.xticks(rotation=60)\n",
    "\n",
    "plt.show()"
   ]
  },
  {
   "cell_type": "markdown",
   "metadata": {
    "id": "GqXH5Xag2Zi-"
   },
   "source": [
    "## 3: Plot number of age of killed people under two groups : Under 25 and Above 25"
   ]
  },
  {
   "cell_type": "code",
   "execution_count": 38,
   "metadata": {
    "colab": {
     "base_uri": "https://localhost:8080/",
     "height": 307
    },
    "id": "V4mng-vC2Zi-",
    "outputId": "01c48c2d-3344-4b26-ff0b-632378fb59f2"
   },
   "outputs": [
    {
     "data": {
      "text/html": [
       "<div>\n",
       "<style scoped>\n",
       "    .dataframe tbody tr th:only-of-type {\n",
       "        vertical-align: middle;\n",
       "    }\n",
       "\n",
       "    .dataframe tbody tr th {\n",
       "        vertical-align: top;\n",
       "    }\n",
       "\n",
       "    .dataframe thead th {\n",
       "        text-align: right;\n",
       "    }\n",
       "</style>\n",
       "<table border=\"1\" class=\"dataframe\">\n",
       "  <thead>\n",
       "    <tr style=\"text-align: right;\">\n",
       "      <th></th>\n",
       "      <th>id</th>\n",
       "      <th>name</th>\n",
       "      <th>date</th>\n",
       "      <th>manner_of_death</th>\n",
       "      <th>armed</th>\n",
       "      <th>age</th>\n",
       "      <th>gender</th>\n",
       "      <th>race</th>\n",
       "      <th>city</th>\n",
       "      <th>state</th>\n",
       "      <th>signs_of_mental_illness</th>\n",
       "      <th>threat_level</th>\n",
       "      <th>flee</th>\n",
       "      <th>body_camera</th>\n",
       "    </tr>\n",
       "  </thead>\n",
       "  <tbody>\n",
       "    <tr>\n",
       "      <th>0</th>\n",
       "      <td>3</td>\n",
       "      <td>Tim Elliot</td>\n",
       "      <td>02/01/15</td>\n",
       "      <td>shot</td>\n",
       "      <td>gun</td>\n",
       "      <td>53.0</td>\n",
       "      <td>M</td>\n",
       "      <td>A</td>\n",
       "      <td>Shelton</td>\n",
       "      <td>WA</td>\n",
       "      <td>True</td>\n",
       "      <td>attack</td>\n",
       "      <td>Not fleeing</td>\n",
       "      <td>False</td>\n",
       "    </tr>\n",
       "    <tr>\n",
       "      <th>1</th>\n",
       "      <td>4</td>\n",
       "      <td>Lewis Lee Lembke</td>\n",
       "      <td>02/01/15</td>\n",
       "      <td>shot</td>\n",
       "      <td>gun</td>\n",
       "      <td>47.0</td>\n",
       "      <td>M</td>\n",
       "      <td>W</td>\n",
       "      <td>Aloha</td>\n",
       "      <td>OR</td>\n",
       "      <td>False</td>\n",
       "      <td>attack</td>\n",
       "      <td>Not fleeing</td>\n",
       "      <td>False</td>\n",
       "    </tr>\n",
       "    <tr>\n",
       "      <th>2</th>\n",
       "      <td>5</td>\n",
       "      <td>John Paul Quintero</td>\n",
       "      <td>03/01/15</td>\n",
       "      <td>shot and Tasered</td>\n",
       "      <td>unarmed</td>\n",
       "      <td>23.0</td>\n",
       "      <td>M</td>\n",
       "      <td>H</td>\n",
       "      <td>Wichita</td>\n",
       "      <td>KS</td>\n",
       "      <td>False</td>\n",
       "      <td>other</td>\n",
       "      <td>Not fleeing</td>\n",
       "      <td>False</td>\n",
       "    </tr>\n",
       "    <tr>\n",
       "      <th>3</th>\n",
       "      <td>8</td>\n",
       "      <td>Matthew Hoffman</td>\n",
       "      <td>04/01/15</td>\n",
       "      <td>shot</td>\n",
       "      <td>toy weapon</td>\n",
       "      <td>32.0</td>\n",
       "      <td>M</td>\n",
       "      <td>W</td>\n",
       "      <td>San Francisco</td>\n",
       "      <td>CA</td>\n",
       "      <td>True</td>\n",
       "      <td>attack</td>\n",
       "      <td>Not fleeing</td>\n",
       "      <td>False</td>\n",
       "    </tr>\n",
       "    <tr>\n",
       "      <th>4</th>\n",
       "      <td>9</td>\n",
       "      <td>Michael Rodriguez</td>\n",
       "      <td>04/01/15</td>\n",
       "      <td>shot</td>\n",
       "      <td>nail gun</td>\n",
       "      <td>39.0</td>\n",
       "      <td>M</td>\n",
       "      <td>H</td>\n",
       "      <td>Evans</td>\n",
       "      <td>CO</td>\n",
       "      <td>False</td>\n",
       "      <td>attack</td>\n",
       "      <td>Not fleeing</td>\n",
       "      <td>False</td>\n",
       "    </tr>\n",
       "  </tbody>\n",
       "</table>\n",
       "</div>"
      ],
      "text/plain": [
       "   id                name      date   manner_of_death       armed   age  \\\n",
       "0   3          Tim Elliot  02/01/15              shot         gun  53.0   \n",
       "1   4    Lewis Lee Lembke  02/01/15              shot         gun  47.0   \n",
       "2   5  John Paul Quintero  03/01/15  shot and Tasered     unarmed  23.0   \n",
       "3   8     Matthew Hoffman  04/01/15              shot  toy weapon  32.0   \n",
       "4   9   Michael Rodriguez  04/01/15              shot    nail gun  39.0   \n",
       "\n",
       "  gender race           city state  signs_of_mental_illness threat_level  \\\n",
       "0      M    A        Shelton    WA                     True       attack   \n",
       "1      M    W          Aloha    OR                    False       attack   \n",
       "2      M    H        Wichita    KS                    False        other   \n",
       "3      M    W  San Francisco    CA                     True       attack   \n",
       "4      M    H          Evans    CO                    False       attack   \n",
       "\n",
       "          flee  body_camera  \n",
       "0  Not fleeing        False  \n",
       "1  Not fleeing        False  \n",
       "2  Not fleeing        False  \n",
       "3  Not fleeing        False  \n",
       "4  Not fleeing        False  "
      ]
     },
     "execution_count": 38,
     "metadata": {},
     "output_type": "execute_result"
    }
   ],
   "source": [
    "df.head()"
   ]
  },
  {
   "cell_type": "code",
   "execution_count": 40,
   "metadata": {
    "id": "1zfmB3FS2Zi-"
   },
   "outputs": [],
   "source": [
    "def age_cat(age):\n",
    "    if age > 25.0:\n",
    "        return \"above25\"\n",
    "    else:\n",
    "        return \"below25\"  "
   ]
  },
  {
   "cell_type": "code",
   "execution_count": 41,
   "metadata": {},
   "outputs": [
    {
     "data": {
      "text/html": [
       "<div>\n",
       "<style scoped>\n",
       "    .dataframe tbody tr th:only-of-type {\n",
       "        vertical-align: middle;\n",
       "    }\n",
       "\n",
       "    .dataframe tbody tr th {\n",
       "        vertical-align: top;\n",
       "    }\n",
       "\n",
       "    .dataframe thead th {\n",
       "        text-align: right;\n",
       "    }\n",
       "</style>\n",
       "<table border=\"1\" class=\"dataframe\">\n",
       "  <thead>\n",
       "    <tr style=\"text-align: right;\">\n",
       "      <th></th>\n",
       "      <th>id</th>\n",
       "      <th>name</th>\n",
       "      <th>date</th>\n",
       "      <th>manner_of_death</th>\n",
       "      <th>armed</th>\n",
       "      <th>age</th>\n",
       "      <th>gender</th>\n",
       "      <th>race</th>\n",
       "      <th>city</th>\n",
       "      <th>state</th>\n",
       "      <th>signs_of_mental_illness</th>\n",
       "      <th>threat_level</th>\n",
       "      <th>flee</th>\n",
       "      <th>body_camera</th>\n",
       "      <th>age_cat</th>\n",
       "    </tr>\n",
       "  </thead>\n",
       "  <tbody>\n",
       "    <tr>\n",
       "      <th>0</th>\n",
       "      <td>3</td>\n",
       "      <td>Tim Elliot</td>\n",
       "      <td>02/01/15</td>\n",
       "      <td>shot</td>\n",
       "      <td>gun</td>\n",
       "      <td>53.0</td>\n",
       "      <td>M</td>\n",
       "      <td>A</td>\n",
       "      <td>Shelton</td>\n",
       "      <td>WA</td>\n",
       "      <td>True</td>\n",
       "      <td>attack</td>\n",
       "      <td>Not fleeing</td>\n",
       "      <td>False</td>\n",
       "      <td>above25</td>\n",
       "    </tr>\n",
       "    <tr>\n",
       "      <th>1</th>\n",
       "      <td>4</td>\n",
       "      <td>Lewis Lee Lembke</td>\n",
       "      <td>02/01/15</td>\n",
       "      <td>shot</td>\n",
       "      <td>gun</td>\n",
       "      <td>47.0</td>\n",
       "      <td>M</td>\n",
       "      <td>W</td>\n",
       "      <td>Aloha</td>\n",
       "      <td>OR</td>\n",
       "      <td>False</td>\n",
       "      <td>attack</td>\n",
       "      <td>Not fleeing</td>\n",
       "      <td>False</td>\n",
       "      <td>above25</td>\n",
       "    </tr>\n",
       "    <tr>\n",
       "      <th>2</th>\n",
       "      <td>5</td>\n",
       "      <td>John Paul Quintero</td>\n",
       "      <td>03/01/15</td>\n",
       "      <td>shot and Tasered</td>\n",
       "      <td>unarmed</td>\n",
       "      <td>23.0</td>\n",
       "      <td>M</td>\n",
       "      <td>H</td>\n",
       "      <td>Wichita</td>\n",
       "      <td>KS</td>\n",
       "      <td>False</td>\n",
       "      <td>other</td>\n",
       "      <td>Not fleeing</td>\n",
       "      <td>False</td>\n",
       "      <td>below25</td>\n",
       "    </tr>\n",
       "    <tr>\n",
       "      <th>3</th>\n",
       "      <td>8</td>\n",
       "      <td>Matthew Hoffman</td>\n",
       "      <td>04/01/15</td>\n",
       "      <td>shot</td>\n",
       "      <td>toy weapon</td>\n",
       "      <td>32.0</td>\n",
       "      <td>M</td>\n",
       "      <td>W</td>\n",
       "      <td>San Francisco</td>\n",
       "      <td>CA</td>\n",
       "      <td>True</td>\n",
       "      <td>attack</td>\n",
       "      <td>Not fleeing</td>\n",
       "      <td>False</td>\n",
       "      <td>above25</td>\n",
       "    </tr>\n",
       "    <tr>\n",
       "      <th>4</th>\n",
       "      <td>9</td>\n",
       "      <td>Michael Rodriguez</td>\n",
       "      <td>04/01/15</td>\n",
       "      <td>shot</td>\n",
       "      <td>nail gun</td>\n",
       "      <td>39.0</td>\n",
       "      <td>M</td>\n",
       "      <td>H</td>\n",
       "      <td>Evans</td>\n",
       "      <td>CO</td>\n",
       "      <td>False</td>\n",
       "      <td>attack</td>\n",
       "      <td>Not fleeing</td>\n",
       "      <td>False</td>\n",
       "      <td>above25</td>\n",
       "    </tr>\n",
       "  </tbody>\n",
       "</table>\n",
       "</div>"
      ],
      "text/plain": [
       "   id                name      date   manner_of_death       armed   age  \\\n",
       "0   3          Tim Elliot  02/01/15              shot         gun  53.0   \n",
       "1   4    Lewis Lee Lembke  02/01/15              shot         gun  47.0   \n",
       "2   5  John Paul Quintero  03/01/15  shot and Tasered     unarmed  23.0   \n",
       "3   8     Matthew Hoffman  04/01/15              shot  toy weapon  32.0   \n",
       "4   9   Michael Rodriguez  04/01/15              shot    nail gun  39.0   \n",
       "\n",
       "  gender race           city state  signs_of_mental_illness threat_level  \\\n",
       "0      M    A        Shelton    WA                     True       attack   \n",
       "1      M    W          Aloha    OR                    False       attack   \n",
       "2      M    H        Wichita    KS                    False        other   \n",
       "3      M    W  San Francisco    CA                     True       attack   \n",
       "4      M    H          Evans    CO                    False       attack   \n",
       "\n",
       "          flee  body_camera  age_cat  \n",
       "0  Not fleeing        False  above25  \n",
       "1  Not fleeing        False  above25  \n",
       "2  Not fleeing        False  below25  \n",
       "3  Not fleeing        False  above25  \n",
       "4  Not fleeing        False  above25  "
      ]
     },
     "execution_count": 41,
     "metadata": {},
     "output_type": "execute_result"
    }
   ],
   "source": [
    "df[\"age_cat\"] = df[\"age\"].apply(age_cat)\n",
    "df.head()"
   ]
  },
  {
   "cell_type": "code",
   "execution_count": 43,
   "metadata": {
    "colab": {
     "base_uri": "https://localhost:8080/"
    },
    "id": "fSQ8BTUD2Zi_",
    "outputId": "89645134-4eb3-4034-bb3d-e446399aaad0"
   },
   "outputs": [
    {
     "data": {
      "text/plain": [
       "above25    1905\n",
       "below25     630\n",
       "Name: age_cat, dtype: int64"
      ]
     },
     "execution_count": 43,
     "metadata": {},
     "output_type": "execute_result"
    }
   ],
   "source": [
    "age_cat = df[\"age_cat\"].value_counts()\n",
    "age_cat"
   ]
  },
  {
   "cell_type": "code",
   "execution_count": 46,
   "metadata": {
    "colab": {
     "base_uri": "https://localhost:8080/",
     "height": 302
    },
    "id": "O5TT5DGG2Zi_",
    "outputId": "c052b208-6dbd-4f6e-c8a9-63df71c610ee"
   },
   "outputs": [
    {
     "data": {
      "image/png": "[encoded data removed]",
      "text/plain": [
       "<Figure size 432x288 with 1 Axes>"
      ]
     },
     "metadata": {
      "needs_background": "light"
     },
     "output_type": "display_data"
    }
   ],
   "source": [
    "# with pandas\n",
    "age_cat.plot.bar(figsize=(6,4))\n",
    "for index, value in enumerate(age_cat.values):\n",
    "    plt.text(index, value, str(value), ha = \"center\")\n",
    "plt.xticks(rotation=90)\n",
    "\n",
    "plt.show()"
   ]
  },
  {
   "cell_type": "code",
   "execution_count": 47,
   "metadata": {
    "colab": {
     "base_uri": "https://localhost:8080/",
     "height": 269
    },
    "id": "gpOukiYx2Zi_",
    "outputId": "84b257d1-14e1-4bef-d6a4-08cf0a236acb"
   },
   "outputs": [
    {
     "data": {
      "image/png": "[encoded data removed]",
      "text/plain": [
       "<Figure size 432x288 with 1 Axes>"
      ]
     },
     "metadata": {
      "needs_background": "light"
     },
     "output_type": "display_data"
    }
   ],
   "source": [
    "# with matplotlib\n",
    "fig, ax = plt.subplots(figsize=(6,4))\n",
    "plt.bar(age_cat.index, age_cat.values);\n",
    "for index, value in enumerate(age_cat.values):\n",
    "    plt.text(index, value, str(value), ha = \"center\")\n",
    "plt.xticks()\n",
    "\n",
    "plt.show()"
   ]
  },
  {
   "cell_type": "markdown",
   "metadata": {
    "id": "SZ-wps772Zi_"
   },
   "source": [
    "## 4: Plot number of killed poeple by race"
   ]
  },
  {
   "cell_type": "code",
   "execution_count": 48,
   "metadata": {
    "colab": {
     "base_uri": "https://localhost:8080/"
    },
    "id": "Uqh-Od7X2Zi_",
    "outputId": "9d3da4ed-bc38-45c9-a66f-7d5ba5fb9f5c"
   },
   "outputs": [
    {
     "data": {
      "text/plain": [
       "W    1201\n",
       "B     618\n",
       "H     423\n",
       "A      39\n",
       "N      31\n",
       "O      28\n",
       "Name: race, dtype: int64"
      ]
     },
     "execution_count": 48,
     "metadata": {},
     "output_type": "execute_result"
    }
   ],
   "source": [
    "race_of_killed_people = df[\"race\"].value_counts()\n",
    "race_of_killed_people"
   ]
  },
  {
   "cell_type": "code",
   "execution_count": 50,
   "metadata": {
    "colab": {
     "base_uri": "https://localhost:8080/",
     "height": 283
    },
    "id": "-q2lckGI2ZjA",
    "outputId": "aeed5936-fc89-4370-cdc2-1be0f9c5dcca"
   },
   "outputs": [
    {
     "data": {
      "image/png": "[encoded data removed]",
      "text/plain": [
       "<Figure size 432x288 with 1 Axes>"
      ]
     },
     "metadata": {
      "needs_background": "light"
     },
     "output_type": "display_data"
    }
   ],
   "source": [
    "# with pandas\n",
    "race_of_killed_people.plot.bar(figsize=(6,4))\n",
    "plt.title(\"Race of killed people\",color=\"Blue\",fontsize=15)\n",
    "plt.xticks(rotation=90)\n",
    "\n",
    "plt.show()"
   ]
  },
  {
   "cell_type": "code",
   "execution_count": 51,
   "metadata": {
    "colab": {
     "base_uri": "https://localhost:8080/",
     "height": 283
    },
    "id": "Bb16OmdB2ZjA",
    "outputId": "7e601245-42a2-4547-8d3f-8151bc5a1005"
   },
   "outputs": [
    {
     "data": {
      "image/png": "[encoded data removed]",
      "text/plain": [
       "<Figure size 432x288 with 1 Axes>"
      ]
     },
     "metadata": {
      "needs_background": "light"
     },
     "output_type": "display_data"
    }
   ],
   "source": [
    "# with matplotlib\n",
    "fig, ax = plt.subplots(figsize=(6,4))\n",
    "plt.bar(race_of_killed_people.index, race_of_killed_people.values);\n",
    "plt.title(\"Race of killed people\",color=\"Blue\",fontsize=15)\n",
    "\n",
    "plt.show()"
   ]
  },
  {
   "cell_type": "code",
   "execution_count": null,
   "metadata": {
    "id": "o7z6kXmQ-EPT"
   },
   "outputs": [],
   "source": []
  },
  {
   "cell_type": "markdown",
   "metadata": {
    "id": "9pGSRTxe-l5B"
   },
   "source": [
    "## 5: Killed People According to Races (Pie Chart)"
   ]
  },
  {
   "cell_type": "code",
   "execution_count": 52,
   "metadata": {
    "colab": {
     "base_uri": "https://localhost:8080/",
     "height": 307
    },
    "id": "gq_OO4tB-l5E",
    "outputId": "0a45ca8f-7df9-4b85-d72f-8b0d4115561c"
   },
   "outputs": [
    {
     "data": {
      "text/html": [
       "<div>\n",
       "<style scoped>\n",
       "    .dataframe tbody tr th:only-of-type {\n",
       "        vertical-align: middle;\n",
       "    }\n",
       "\n",
       "    .dataframe tbody tr th {\n",
       "        vertical-align: top;\n",
       "    }\n",
       "\n",
       "    .dataframe thead th {\n",
       "        text-align: right;\n",
       "    }\n",
       "</style>\n",
       "<table border=\"1\" class=\"dataframe\">\n",
       "  <thead>\n",
       "    <tr style=\"text-align: right;\">\n",
       "      <th></th>\n",
       "      <th>id</th>\n",
       "      <th>name</th>\n",
       "      <th>date</th>\n",
       "      <th>manner_of_death</th>\n",
       "      <th>armed</th>\n",
       "      <th>age</th>\n",
       "      <th>gender</th>\n",
       "      <th>race</th>\n",
       "      <th>city</th>\n",
       "      <th>state</th>\n",
       "      <th>signs_of_mental_illness</th>\n",
       "      <th>threat_level</th>\n",
       "      <th>flee</th>\n",
       "      <th>body_camera</th>\n",
       "      <th>age_cat</th>\n",
       "    </tr>\n",
       "  </thead>\n",
       "  <tbody>\n",
       "    <tr>\n",
       "      <th>0</th>\n",
       "      <td>3</td>\n",
       "      <td>Tim Elliot</td>\n",
       "      <td>02/01/15</td>\n",
       "      <td>shot</td>\n",
       "      <td>gun</td>\n",
       "      <td>53.0</td>\n",
       "      <td>M</td>\n",
       "      <td>A</td>\n",
       "      <td>Shelton</td>\n",
       "      <td>WA</td>\n",
       "      <td>True</td>\n",
       "      <td>attack</td>\n",
       "      <td>Not fleeing</td>\n",
       "      <td>False</td>\n",
       "      <td>above25</td>\n",
       "    </tr>\n",
       "    <tr>\n",
       "      <th>1</th>\n",
       "      <td>4</td>\n",
       "      <td>Lewis Lee Lembke</td>\n",
       "      <td>02/01/15</td>\n",
       "      <td>shot</td>\n",
       "      <td>gun</td>\n",
       "      <td>47.0</td>\n",
       "      <td>M</td>\n",
       "      <td>W</td>\n",
       "      <td>Aloha</td>\n",
       "      <td>OR</td>\n",
       "      <td>False</td>\n",
       "      <td>attack</td>\n",
       "      <td>Not fleeing</td>\n",
       "      <td>False</td>\n",
       "      <td>above25</td>\n",
       "    </tr>\n",
       "    <tr>\n",
       "      <th>2</th>\n",
       "      <td>5</td>\n",
       "      <td>John Paul Quintero</td>\n",
       "      <td>03/01/15</td>\n",
       "      <td>shot and Tasered</td>\n",
       "      <td>unarmed</td>\n",
       "      <td>23.0</td>\n",
       "      <td>M</td>\n",
       "      <td>H</td>\n",
       "      <td>Wichita</td>\n",
       "      <td>KS</td>\n",
       "      <td>False</td>\n",
       "      <td>other</td>\n",
       "      <td>Not fleeing</td>\n",
       "      <td>False</td>\n",
       "      <td>below25</td>\n",
       "    </tr>\n",
       "    <tr>\n",
       "      <th>3</th>\n",
       "      <td>8</td>\n",
       "      <td>Matthew Hoffman</td>\n",
       "      <td>04/01/15</td>\n",
       "      <td>shot</td>\n",
       "      <td>toy weapon</td>\n",
       "      <td>32.0</td>\n",
       "      <td>M</td>\n",
       "      <td>W</td>\n",
       "      <td>San Francisco</td>\n",
       "      <td>CA</td>\n",
       "      <td>True</td>\n",
       "      <td>attack</td>\n",
       "      <td>Not fleeing</td>\n",
       "      <td>False</td>\n",
       "      <td>above25</td>\n",
       "    </tr>\n",
       "    <tr>\n",
       "      <th>4</th>\n",
       "      <td>9</td>\n",
       "      <td>Michael Rodriguez</td>\n",
       "      <td>04/01/15</td>\n",
       "      <td>shot</td>\n",
       "      <td>nail gun</td>\n",
       "      <td>39.0</td>\n",
       "      <td>M</td>\n",
       "      <td>H</td>\n",
       "      <td>Evans</td>\n",
       "      <td>CO</td>\n",
       "      <td>False</td>\n",
       "      <td>attack</td>\n",
       "      <td>Not fleeing</td>\n",
       "      <td>False</td>\n",
       "      <td>above25</td>\n",
       "    </tr>\n",
       "  </tbody>\n",
       "</table>\n",
       "</div>"
      ],
      "text/plain": [
       "   id                name      date   manner_of_death       armed   age  \\\n",
       "0   3          Tim Elliot  02/01/15              shot         gun  53.0   \n",
       "1   4    Lewis Lee Lembke  02/01/15              shot         gun  47.0   \n",
       "2   5  John Paul Quintero  03/01/15  shot and Tasered     unarmed  23.0   \n",
       "3   8     Matthew Hoffman  04/01/15              shot  toy weapon  32.0   \n",
       "4   9   Michael Rodriguez  04/01/15              shot    nail gun  39.0   \n",
       "\n",
       "  gender race           city state  signs_of_mental_illness threat_level  \\\n",
       "0      M    A        Shelton    WA                     True       attack   \n",
       "1      M    W          Aloha    OR                    False       attack   \n",
       "2      M    H        Wichita    KS                    False        other   \n",
       "3      M    W  San Francisco    CA                     True       attack   \n",
       "4      M    H          Evans    CO                    False       attack   \n",
       "\n",
       "          flee  body_camera  age_cat  \n",
       "0  Not fleeing        False  above25  \n",
       "1  Not fleeing        False  above25  \n",
       "2  Not fleeing        False  below25  \n",
       "3  Not fleeing        False  above25  \n",
       "4  Not fleeing        False  above25  "
      ]
     },
     "execution_count": 52,
     "metadata": {},
     "output_type": "execute_result"
    }
   ],
   "source": [
    "df.head()"
   ]
  },
  {
   "cell_type": "code",
   "execution_count": 53,
   "metadata": {
    "_uuid": "73ef9a67518196c14338e28236b5054186fabdc1",
    "colab": {
     "base_uri": "https://localhost:8080/"
    },
    "id": "_ZPh_aCz-l5F",
    "outputId": "8ee30bed-c707-4e5d-b0a0-ae4e896e35e8"
   },
   "outputs": [
    {
     "data": {
      "text/plain": [
       "array(['A', 'W', 'H', 'B', 'O', nan, 'N'], dtype=object)"
      ]
     },
     "execution_count": 53,
     "metadata": {},
     "output_type": "execute_result"
    }
   ],
   "source": [
    "df[\"race\"].unique()"
   ]
  },
  {
   "cell_type": "code",
   "execution_count": 54,
   "metadata": {
    "colab": {
     "base_uri": "https://localhost:8080/"
    },
    "id": "4lJAFvsx-l5F",
    "outputId": "014ec220-87cf-4b96-da5c-b0f600130869"
   },
   "outputs": [
    {
     "data": {
      "text/plain": [
       "W      1201\n",
       "B       618\n",
       "H       423\n",
       "NaN     195\n",
       "A        39\n",
       "N        31\n",
       "O        28\n",
       "Name: race, dtype: int64"
      ]
     },
     "execution_count": 54,
     "metadata": {},
     "output_type": "execute_result"
    }
   ],
   "source": [
    "df['race'].value_counts(dropna=False)"
   ]
  },
  {
   "cell_type": "markdown",
   "metadata": {
    "id": "VuWSIYCm-l5F"
   },
   "source": [
    "Problem: missing value on race column."
   ]
  },
  {
   "cell_type": "markdown",
   "metadata": {
    "id": "mmCQXFcg-l5G"
   },
   "source": [
    "**INSTRUCTION-1: Drop the all raws that contain missing value (dropna)**"
   ]
  },
  {
   "cell_type": "code",
   "execution_count": 55,
   "metadata": {
    "id": "CzwSuxgQ-l5G"
   },
   "outputs": [],
   "source": [
    "df1 = df.dropna()"
   ]
  },
  {
   "cell_type": "code",
   "execution_count": 56,
   "metadata": {
    "colab": {
     "base_uri": "https://localhost:8080/"
    },
    "id": "3DzEkUNo-l5G",
    "outputId": "fe3f08e2-9ffa-40b2-edad-963b7ee8e29d"
   },
   "outputs": [
    {
     "data": {
      "text/plain": [
       "(2254, 15)"
      ]
     },
     "execution_count": 56,
     "metadata": {},
     "output_type": "execute_result"
    }
   ],
   "source": [
    "df1.shape"
   ]
  },
  {
   "cell_type": "markdown",
   "metadata": {
    "id": "DRb2AH84-l5G"
   },
   "source": [
    "**INSTRUCTION-2: Demonstrate Race Ratio of Killed People by a Pie Chart (You can use Matplotlib)**"
   ]
  },
  {
   "cell_type": "code",
   "execution_count": 59,
   "metadata": {
    "colab": {
     "base_uri": "https://localhost:8080/"
    },
    "id": "Pq0aSdnz-l5G",
    "outputId": "313c6efc-d2cd-4030-8ee8-1cd496565d2c"
   },
   "outputs": [
    {
     "data": {
      "text/plain": [
       "W    1168\n",
       "B     592\n",
       "H     401\n",
       "A      36\n",
       "N      29\n",
       "O      28\n",
       "Name: race, dtype: int64"
      ]
     },
     "execution_count": 59,
     "metadata": {},
     "output_type": "execute_result"
    }
   ],
   "source": [
    "race_of_killed_the_people = df1[\"race\"].value_counts()\n",
    "race_of_killed_the_people"
   ]
  },
  {
   "cell_type": "code",
   "execution_count": 62,
   "metadata": {
    "colab": {
     "base_uri": "https://localhost:8080/"
    },
    "id": "z3CnjKfh-l5H",
    "outputId": "f138b9ff-11c1-48e2-e616-6a8db21e7dbe"
   },
   "outputs": [
    {
     "data": {
      "text/plain": [
       "array(['W', 'B', 'H', 'A', 'N', 'O'], dtype=object)"
      ]
     },
     "execution_count": 62,
     "metadata": {},
     "output_type": "execute_result"
    }
   ],
   "source": [
    "index = np.array(race_of_killed_the_people.index)\n",
    "index"
   ]
  },
  {
   "cell_type": "code",
   "execution_count": 63,
   "metadata": {
    "colab": {
     "base_uri": "https://localhost:8080/"
    },
    "id": "dNnqgLCM-l5H",
    "outputId": "939f3639-058d-4bf3-abd0-19105f334802"
   },
   "outputs": [
    {
     "data": {
      "text/plain": [
       "array([1168,  592,  401,   36,   29,   28], dtype=int64)"
      ]
     },
     "execution_count": 63,
     "metadata": {},
     "output_type": "execute_result"
    }
   ],
   "source": [
    "values = np.array(race_of_killed_the_people.values)\n",
    "values"
   ]
  },
  {
   "cell_type": "code",
   "execution_count": 106,
   "metadata": {
    "colab": {
     "base_uri": "https://localhost:8080/",
     "height": 575
    },
    "id": "F1CSkbxa-l5H",
    "outputId": "18bae490-b8d5-49b0-b124-f1c4f75a0129"
   },
   "outputs": [
    {
     "data": {
      "image/png": "[encoded data removed]",
      "text/plain": [
       "<Figure size 864x648 with 1 Axes>"
      ]
     },
     "metadata": {},
     "output_type": "display_data"
    }
   ],
   "source": [
    "# matplotlib\n",
    "plt.figure(figsize=(12,9))\n",
    "y = values\n",
    "mylabels = index\n",
    "myexplode = [0, 0, 0.3, 0, 0, 0]\n",
    "\n",
    "plt.pie(y, labels = mylabels, labeldistance=1.1, explode = myexplode, startangle=70, autopct='%1.1f%%')\n",
    "\n",
    "plt.show()"
   ]
  },
  {
   "cell_type": "markdown",
   "metadata": {
    "id": "zOQ2PusO-G-U"
   },
   "source": [
    "## 6: Most common 15 Name or Surname of killed people "
   ]
  },
  {
   "cell_type": "code",
   "execution_count": 65,
   "metadata": {
    "_uuid": "bfb975b648fbcbd1c6cdf1634f01e01371924a8c",
    "colab": {
     "base_uri": "https://localhost:8080/",
     "height": 307
    },
    "id": "7s9SsMsj-G-U",
    "outputId": "2d3cc676-d586-402c-cabd-938eb19880bf"
   },
   "outputs": [
    {
     "data": {
      "text/html": [
       "<div>\n",
       "<style scoped>\n",
       "    .dataframe tbody tr th:only-of-type {\n",
       "        vertical-align: middle;\n",
       "    }\n",
       "\n",
       "    .dataframe tbody tr th {\n",
       "        vertical-align: top;\n",
       "    }\n",
       "\n",
       "    .dataframe thead th {\n",
       "        text-align: right;\n",
       "    }\n",
       "</style>\n",
       "<table border=\"1\" class=\"dataframe\">\n",
       "  <thead>\n",
       "    <tr style=\"text-align: right;\">\n",
       "      <th></th>\n",
       "      <th>id</th>\n",
       "      <th>name</th>\n",
       "      <th>date</th>\n",
       "      <th>manner_of_death</th>\n",
       "      <th>armed</th>\n",
       "      <th>age</th>\n",
       "      <th>gender</th>\n",
       "      <th>race</th>\n",
       "      <th>city</th>\n",
       "      <th>state</th>\n",
       "      <th>signs_of_mental_illness</th>\n",
       "      <th>threat_level</th>\n",
       "      <th>flee</th>\n",
       "      <th>body_camera</th>\n",
       "      <th>age_cat</th>\n",
       "    </tr>\n",
       "  </thead>\n",
       "  <tbody>\n",
       "    <tr>\n",
       "      <th>0</th>\n",
       "      <td>3</td>\n",
       "      <td>Tim Elliot</td>\n",
       "      <td>02/01/15</td>\n",
       "      <td>shot</td>\n",
       "      <td>gun</td>\n",
       "      <td>53.0</td>\n",
       "      <td>M</td>\n",
       "      <td>A</td>\n",
       "      <td>Shelton</td>\n",
       "      <td>WA</td>\n",
       "      <td>True</td>\n",
       "      <td>attack</td>\n",
       "      <td>Not fleeing</td>\n",
       "      <td>False</td>\n",
       "      <td>above25</td>\n",
       "    </tr>\n",
       "    <tr>\n",
       "      <th>1</th>\n",
       "      <td>4</td>\n",
       "      <td>Lewis Lee Lembke</td>\n",
       "      <td>02/01/15</td>\n",
       "      <td>shot</td>\n",
       "      <td>gun</td>\n",
       "      <td>47.0</td>\n",
       "      <td>M</td>\n",
       "      <td>W</td>\n",
       "      <td>Aloha</td>\n",
       "      <td>OR</td>\n",
       "      <td>False</td>\n",
       "      <td>attack</td>\n",
       "      <td>Not fleeing</td>\n",
       "      <td>False</td>\n",
       "      <td>above25</td>\n",
       "    </tr>\n",
       "    <tr>\n",
       "      <th>2</th>\n",
       "      <td>5</td>\n",
       "      <td>John Paul Quintero</td>\n",
       "      <td>03/01/15</td>\n",
       "      <td>shot and Tasered</td>\n",
       "      <td>unarmed</td>\n",
       "      <td>23.0</td>\n",
       "      <td>M</td>\n",
       "      <td>H</td>\n",
       "      <td>Wichita</td>\n",
       "      <td>KS</td>\n",
       "      <td>False</td>\n",
       "      <td>other</td>\n",
       "      <td>Not fleeing</td>\n",
       "      <td>False</td>\n",
       "      <td>below25</td>\n",
       "    </tr>\n",
       "    <tr>\n",
       "      <th>3</th>\n",
       "      <td>8</td>\n",
       "      <td>Matthew Hoffman</td>\n",
       "      <td>04/01/15</td>\n",
       "      <td>shot</td>\n",
       "      <td>toy weapon</td>\n",
       "      <td>32.0</td>\n",
       "      <td>M</td>\n",
       "      <td>W</td>\n",
       "      <td>San Francisco</td>\n",
       "      <td>CA</td>\n",
       "      <td>True</td>\n",
       "      <td>attack</td>\n",
       "      <td>Not fleeing</td>\n",
       "      <td>False</td>\n",
       "      <td>above25</td>\n",
       "    </tr>\n",
       "    <tr>\n",
       "      <th>4</th>\n",
       "      <td>9</td>\n",
       "      <td>Michael Rodriguez</td>\n",
       "      <td>04/01/15</td>\n",
       "      <td>shot</td>\n",
       "      <td>nail gun</td>\n",
       "      <td>39.0</td>\n",
       "      <td>M</td>\n",
       "      <td>H</td>\n",
       "      <td>Evans</td>\n",
       "      <td>CO</td>\n",
       "      <td>False</td>\n",
       "      <td>attack</td>\n",
       "      <td>Not fleeing</td>\n",
       "      <td>False</td>\n",
       "      <td>above25</td>\n",
       "    </tr>\n",
       "  </tbody>\n",
       "</table>\n",
       "</div>"
      ],
      "text/plain": [
       "   id                name      date   manner_of_death       armed   age  \\\n",
       "0   3          Tim Elliot  02/01/15              shot         gun  53.0   \n",
       "1   4    Lewis Lee Lembke  02/01/15              shot         gun  47.0   \n",
       "2   5  John Paul Quintero  03/01/15  shot and Tasered     unarmed  23.0   \n",
       "3   8     Matthew Hoffman  04/01/15              shot  toy weapon  32.0   \n",
       "4   9   Michael Rodriguez  04/01/15              shot    nail gun  39.0   \n",
       "\n",
       "  gender race           city state  signs_of_mental_illness threat_level  \\\n",
       "0      M    A        Shelton    WA                     True       attack   \n",
       "1      M    W          Aloha    OR                    False       attack   \n",
       "2      M    H        Wichita    KS                    False        other   \n",
       "3      M    W  San Francisco    CA                     True       attack   \n",
       "4      M    H          Evans    CO                    False       attack   \n",
       "\n",
       "          flee  body_camera  age_cat  \n",
       "0  Not fleeing        False  above25  \n",
       "1  Not fleeing        False  above25  \n",
       "2  Not fleeing        False  below25  \n",
       "3  Not fleeing        False  above25  \n",
       "4  Not fleeing        False  above25  "
      ]
     },
     "execution_count": 65,
     "metadata": {},
     "output_type": "execute_result"
    }
   ],
   "source": [
    "df1.head()"
   ]
  },
  {
   "cell_type": "code",
   "execution_count": 66,
   "metadata": {
    "colab": {
     "base_uri": "https://localhost:8080/"
    },
    "id": "R7idQSfR-G-V",
    "outputId": "617558e5-408e-4392-bf31-50db2d071323"
   },
   "outputs": [
    {
     "data": {
      "text/plain": [
       "(2254, 15)"
      ]
     },
     "execution_count": 66,
     "metadata": {},
     "output_type": "execute_result"
    }
   ],
   "source": [
    "df1.shape"
   ]
  },
  {
   "cell_type": "code",
   "execution_count": 67,
   "metadata": {
    "colab": {
     "base_uri": "https://localhost:8080/"
    },
    "id": "xx5JDVqZ-G-V",
    "outputId": "9ee6b2a8-b264-40c6-f187-6dd7d1c32efe"
   },
   "outputs": [
    {
     "data": {
      "text/plain": [
       "Michael Johnson             2\n",
       "Eric Harris                 2\n",
       "Michael Brown               2\n",
       "Daquan Antonio Westbrook    2\n",
       "Brandon Jones               2\n",
       "                           ..\n",
       "Danny Pirtle                1\n",
       "Austin M. Baier             1\n",
       "Burt Johnson                1\n",
       "John Deming                 1\n",
       "Timothy Case                1\n",
       "Name: name, Length: 2249, dtype: int64"
      ]
     },
     "execution_count": 67,
     "metadata": {},
     "output_type": "execute_result"
    }
   ],
   "source": [
    "df1[\"name\"].value_counts()"
   ]
  },
  {
   "cell_type": "code",
   "execution_count": null,
   "metadata": {
    "_cell_guid": "c2cd6681-42a4-44c2-ba1a-46d4d61b6eea",
    "_uuid": "b3b53866f9c794ca5f85f59bc5bfc0d01a830baf",
    "colab": {
     "base_uri": "https://localhost:8080/"
    },
    "id": "YsaT2vLg-G-W",
    "outputId": "f3de216b-2176-4b7e-8fc2-c9e3858bd298",
    "scrolled": true
   },
   "outputs": [
    {
     "data": {
      "text/plain": [
       "0             [Tim, Elliot]\n",
       "1      [Lewis, Lee, Lembke]\n",
       "2    [John, Paul, Quintero]\n",
       "3        [Matthew, Hoffman]\n",
       "4      [Michael, Rodriguez]\n",
       "Name: name, dtype: object"
      ]
     },
     "execution_count": 30,
     "metadata": {
      "tags": []
     },
     "output_type": "execute_result"
    }
   ],
   "source": [
    "# Problem: TK TK is most probably not a name or surname. We will clean them.\n"
   ]
  },
  {
   "cell_type": "code",
   "execution_count": null,
   "metadata": {
    "colab": {
     "base_uri": "https://localhost:8080/"
    },
    "id": "Tm35sunM-G-W",
    "outputId": "f6fc6156-5af6-4a3d-f509-9c16f85fb1c8"
   },
   "outputs": [
    {
     "data": {
      "text/plain": [
       "pandas.core.series.Series"
      ]
     },
     "execution_count": 31,
     "metadata": {
      "tags": []
     },
     "output_type": "execute_result"
    }
   ],
   "source": [
    "type(pairs)"
   ]
  },
  {
   "cell_type": "code",
   "execution_count": 71,
   "metadata": {},
   "outputs": [
    {
     "data": {
      "text/plain": [
       "Int64Index([2465], dtype='int64')"
      ]
     },
     "execution_count": 71,
     "metadata": {},
     "output_type": "execute_result"
    }
   ],
   "source": [
    "df1[df1['name'] == 'TK TK'].index"
   ]
  },
  {
   "cell_type": "code",
   "execution_count": 72,
   "metadata": {},
   "outputs": [],
   "source": [
    "df2 = df1.drop([2465], axis=0)"
   ]
  },
  {
   "cell_type": "code",
   "execution_count": 73,
   "metadata": {},
   "outputs": [
    {
     "data": {
      "text/plain": [
       "(2253, 15)"
      ]
     },
     "execution_count": 73,
     "metadata": {},
     "output_type": "execute_result"
    }
   ],
   "source": [
    "df2.shape"
   ]
  },
  {
   "cell_type": "code",
   "execution_count": 107,
   "metadata": {},
   "outputs": [
    {
     "data": {
      "text/plain": [
       "0                [Tim, Elliot]\n",
       "1         [Lewis, Lee, Lembke]\n",
       "2       [John, Paul, Quintero]\n",
       "3           [Matthew, Hoffman]\n",
       "4         [Michael, Rodriguez]\n",
       "                 ...          \n",
       "2519            [Aries, Clark]\n",
       "2523     [Kesharn, K., Burney]\n",
       "2525       [Deltra, Henderson]\n",
       "2533          [Isaiah, Tucker]\n",
       "2534           [Dwayne, Jeune]\n",
       "Name: name, Length: 2253, dtype: object"
      ]
     },
     "execution_count": 107,
     "metadata": {},
     "output_type": "execute_result"
    }
   ],
   "source": [
    "pairs = df2['name'].str.split()\n",
    "pairs"
   ]
  },
  {
   "cell_type": "markdown",
   "metadata": {
    "id": "SDeKoDA3-G-W"
   },
   "source": [
    "**INSTRUCTION : Plot Most common 15 Name OR Surname of killed people** "
   ]
  },
  {
   "cell_type": "raw",
   "metadata": {
    "id": "GDrfQsvl-G-W"
   },
   "source": [
    "### Clue 1: You need to separate the names and surnames because we are asking most common name OR surname.\n",
    "\n",
    "### Clue 2 :After seperation make a whole list that contains both names and surnames.\n",
    "\n",
    "### Clue 3 : How to separate the name and surname pairs?\n",
    "\n",
    ">>> pairs = [(1, 'a'), (2, 'b'), (3, 'c'), (4, 'd')]\n",
    ">>> numbers, letters = zip(*pairs)\n",
    ">>> numbers\n",
    "(1, 2, 3, 4)\n",
    ">>> letters\n",
    "('a', 'b', 'c', 'd')\n",
    "\n",
    "### Clue 4: You can use Counter() and most_common() built in functions together to find the most common names or surnames, or you can write your own functions for this purpose."
   ]
  },
  {
   "cell_type": "markdown",
   "metadata": {
    "id": "enYjZO9j5Cn9"
   },
   "source": [
    "shape"
   ]
  },
  {
   "cell_type": "code",
   "execution_count": 108,
   "metadata": {
    "colab": {
     "base_uri": "https://localhost:8080/"
    },
    "id": "wTOlNN6V-G-W",
    "outputId": "d02b14f6-6ec4-4294-a850-ef94ce1572fa"
   },
   "outputs": [
    {
     "data": {
      "text/plain": [
       "(2253,)"
      ]
     },
     "execution_count": 108,
     "metadata": {},
     "output_type": "execute_result"
    }
   ],
   "source": [
    "pairs.shape"
   ]
  },
  {
   "cell_type": "code",
   "execution_count": 109,
   "metadata": {
    "colab": {
     "base_uri": "https://localhost:8080/"
    },
    "id": "0Ml-0Jbo-G-X",
    "outputId": "ccd66eaa-e0c5-4dc6-9aec-a99008ae63eb"
   },
   "outputs": [
    {
     "data": {
      "text/plain": [
       "['Tim', 'Elliot']"
      ]
     },
     "execution_count": 109,
     "metadata": {},
     "output_type": "execute_result"
    }
   ],
   "source": [
    "pairs[0]"
   ]
  },
  {
   "cell_type": "code",
   "execution_count": 110,
   "metadata": {
    "colab": {
     "base_uri": "https://localhost:8080/",
     "height": 35
    },
    "id": "B4S3UjP--G-X",
    "outputId": "c4aeaea4-b782-4c61-cb49-c588ecbed42b"
   },
   "outputs": [
    {
     "data": {
      "text/plain": [
       "'Tim'"
      ]
     },
     "execution_count": 110,
     "metadata": {},
     "output_type": "execute_result"
    }
   ],
   "source": [
    "pairs.iloc[0][0]"
   ]
  },
  {
   "cell_type": "code",
   "execution_count": null,
   "metadata": {
    "colab": {
     "base_uri": "https://localhost:8080/"
    },
    "id": "qzpsa-8C-G-X",
    "outputId": "9a4b6062-d0e1-49c6-f8a5-763c904ca17f"
   },
   "outputs": [
    {
     "data": {
      "text/plain": [
       "5339"
      ]
     },
     "execution_count": 36,
     "metadata": {
      "tags": []
     },
     "output_type": "execute_result"
    }
   ],
   "source": []
  },
  {
   "cell_type": "code",
   "execution_count": 113,
   "metadata": {},
   "outputs": [],
   "source": [
    "names, surnames = zip(*pairs)"
   ]
  },
  {
   "cell_type": "code",
   "execution_count": 116,
   "metadata": {},
   "outputs": [],
   "source": [
    "name_surname = names + surnames\n",
    "name_surname_counts = Counter(name_surname)"
   ]
  },
  {
   "cell_type": "code",
   "execution_count": 117,
   "metadata": {
    "id": "eIN9wmQZ-G-X"
   },
   "outputs": [
    {
     "data": {
      "text/plain": [
       "Counter({'Tim': 3,\n",
       "         'Lewis': 5,\n",
       "         'John': 36,\n",
       "         'Matthew': 22,\n",
       "         'Michael': 82,\n",
       "         'Kenneth': 17,\n",
       "         'Brock': 1,\n",
       "         'Autumn': 1,\n",
       "         'Leslie': 2,\n",
       "         'Patrick': 12,\n",
       "         'Ron': 2,\n",
       "         'Hashim': 1,\n",
       "         'Nicholas': 13,\n",
       "         'Omarr': 1,\n",
       "         'Loren': 3,\n",
       "         'James': 46,\n",
       "         'Artago': 1,\n",
       "         'Thomas': 23,\n",
       "         'Jimmy': 5,\n",
       "         'Andy': 1,\n",
       "         'Tommy': 3,\n",
       "         'Brian': 9,\n",
       "         'Salvador': 4,\n",
       "         'Richard': 33,\n",
       "         'Marcus': 4,\n",
       "         'Mario': 8,\n",
       "         'Talbot': 1,\n",
       "         'Robert': 44,\n",
       "         'Jeffrey': 17,\n",
       "         'Donte': 3,\n",
       "         'Kavonda': 1,\n",
       "         'Quincy': 2,\n",
       "         'Jose': 23,\n",
       "         'Nathan': 6,\n",
       "         'Scott': 21,\n",
       "         'Zaki': 1,\n",
       "         'Terence': 3,\n",
       "         'Pablo': 3,\n",
       "         'Daniel': 40,\n",
       "         'Jonathan': 10,\n",
       "         'Carter': 2,\n",
       "         'Paul': 16,\n",
       "         'Dewayne': 3,\n",
       "         'Todd': 9,\n",
       "         'Miguel': 9,\n",
       "         'Isaac': 2,\n",
       "         'Andrew': 19,\n",
       "         'Tiano': 1,\n",
       "         'Kristiana': 1,\n",
       "         'Demaris': 1,\n",
       "         'Wendell': 1,\n",
       "         'Daryl': 1,\n",
       "         'Darin': 1,\n",
       "         'Orlando': 1,\n",
       "         'Jessie': 3,\n",
       "         'Raymond': 10,\n",
       "         'Joshua': 27,\n",
       "         'David': 53,\n",
       "         'Nicolas': 2,\n",
       "         'Chris': 3,\n",
       "         'Jermonte': 1,\n",
       "         'Tiffany': 2,\n",
       "         'Alan': 11,\n",
       "         'Matautu': 1,\n",
       "         'Cody': 6,\n",
       "         'Ralph': 3,\n",
       "         'Victor': 6,\n",
       "         'Edward': 15,\n",
       "         'Jacob': 6,\n",
       "         'Francis': 11,\n",
       "         'Ledarius': 1,\n",
       "         'Yuvette': 1,\n",
       "         'Anthony': 25,\n",
       "         'Jeremy': 12,\n",
       "         'Izzy': 1,\n",
       "         'Joaquin': 1,\n",
       "         'Markell': 2,\n",
       "         'Herbert': 5,\n",
       "         'Sawyer': 2,\n",
       "         'Vincent': 5,\n",
       "         'Joseph': 43,\n",
       "         'Larry': 6,\n",
       "         'Desmond': 3,\n",
       "         'Antonio': 14,\n",
       "         'Phillip': 9,\n",
       "         'Fletcher': 3,\n",
       "         'Andres': 1,\n",
       "         'Jason': 22,\n",
       "         'Roy': 6,\n",
       "         'Lavall': 1,\n",
       "         'Howard': 1,\n",
       "         'Bruce': 7,\n",
       "         'Lawrence': 4,\n",
       "         'Betty': 1,\n",
       "         'Douglas': 9,\n",
       "         'Pedro': 4,\n",
       "         'Janisha': 1,\n",
       "         'Ruben': 6,\n",
       "         'Stanley': 3,\n",
       "         'Kent': 1,\n",
       "         'Bradford': 1,\n",
       "         'Jerome': 5,\n",
       "         \"A'Donte\": 1,\n",
       "         'Glenn': 4,\n",
       "         'Alexander': 13,\n",
       "         'Amilcar': 1,\n",
       "         'Rodney': 9,\n",
       "         'Crystal': 1,\n",
       "         'Ernesto': 3,\n",
       "         'Chazsten': 1,\n",
       "         'Deven': 1,\n",
       "         'Jessica': 2,\n",
       "         'Cornelius': 2,\n",
       "         'Ian': 2,\n",
       "         'Stephanie': 1,\n",
       "         'Donald': 9,\n",
       "         'Charly': 1,\n",
       "         'Hung': 1,\n",
       "         'Shaquille': 1,\n",
       "         'Fednel': 1,\n",
       "         'Derek': 9,\n",
       "         'Carl': 4,\n",
       "         'Tyrone': 5,\n",
       "         'Sergio': 6,\n",
       "         'Tyson': 1,\n",
       "         'Naeschylus': 1,\n",
       "         'Tony': 2,\n",
       "         'Adam': 6,\n",
       "         'Aurelio': 1,\n",
       "         'Monique': 1,\n",
       "         'Lester': 1,\n",
       "         'Cedrick': 1,\n",
       "         'Jamie': 5,\n",
       "         'Christopher': 35,\n",
       "         'Edixon': 1,\n",
       "         'Theodore': 1,\n",
       "         'Benito': 1,\n",
       "         'Ryan': 15,\n",
       "         'Aaron': 8,\n",
       "         'Gilbert': 4,\n",
       "         'William': 40,\n",
       "         'Terry': 6,\n",
       "         'Bobby': 7,\n",
       "         'Fred': 4,\n",
       "         'Clifton': 2,\n",
       "         'Troy': 2,\n",
       "         'Justin': 9,\n",
       "         'Eugene': 11,\n",
       "         'Roberto': 3,\n",
       "         'Declan': 1,\n",
       "         'Alice': 1,\n",
       "         'Jeff': 5,\n",
       "         'Kaylene': 1,\n",
       "         'Garland': 2,\n",
       "         'Kendre': 1,\n",
       "         'Jamison': 2,\n",
       "         'Shane': 7,\n",
       "         'Brandon': 19,\n",
       "         'Tyrel': 1,\n",
       "         'Gary': 10,\n",
       "         'Enoch': 1,\n",
       "         'Denzel': 1,\n",
       "         'Devin': 5,\n",
       "         'Stephen': 10,\n",
       "         'Walter': 4,\n",
       "         'Deanne': 1,\n",
       "         'Adrian': 4,\n",
       "         'Jamalis': 1,\n",
       "         'Neil': 3,\n",
       "         'Megan': 1,\n",
       "         'Harvey': 1,\n",
       "         'Angelo': 3,\n",
       "         'Byron': 1,\n",
       "         'Benjamin': 5,\n",
       "         'Mya': 1,\n",
       "         'Shawn': 6,\n",
       "         'Darrin': 3,\n",
       "         'Eric': 16,\n",
       "         'Justus': 1,\n",
       "         'Ethan': 3,\n",
       "         'Ken': 1,\n",
       "         'Tyrell': 1,\n",
       "         'Erick': 2,\n",
       "         'Dexter': 2,\n",
       "         'Gordon': 1,\n",
       "         'Don': 5,\n",
       "         'Jess': 1,\n",
       "         'Angel': 14,\n",
       "         'Mack': 2,\n",
       "         'Colby': 2,\n",
       "         'Tevin': 1,\n",
       "         'Dante': 2,\n",
       "         'Frank': 4,\n",
       "         'Mark': 20,\n",
       "         'Rodolfo': 1,\n",
       "         'Elias': 2,\n",
       "         'Thaddeus': 2,\n",
       "         'Erik': 3,\n",
       "         'Grover': 1,\n",
       "         'Dana': 3,\n",
       "         'Santos': 2,\n",
       "         'Kimber': 1,\n",
       "         'Luis': 7,\n",
       "         'Carlos': 12,\n",
       "         'Reginald': 3,\n",
       "         'Lue': 1,\n",
       "         'Hector': 5,\n",
       "         'Karen': 1,\n",
       "         'Billy': 5,\n",
       "         'Albert': 5,\n",
       "         'Dean': 7,\n",
       "         'Terrance': 1,\n",
       "         'Jared': 1,\n",
       "         'Alexia': 1,\n",
       "         'Fridoon': 1,\n",
       "         'Kevin': 16,\n",
       "         'Elton': 1,\n",
       "         'Nadir': 1,\n",
       "         'Roark': 1,\n",
       "         'Brendon': 1,\n",
       "         'Thong': 1,\n",
       "         'Nephi': 2,\n",
       "         'Shaun': 2,\n",
       "         'Dedrick': 1,\n",
       "         'Sam': 2,\n",
       "         'Lionel': 4,\n",
       "         'Kelvin': 1,\n",
       "         \"D'Angelo\": 1,\n",
       "         'Alec': 1,\n",
       "         'Sean': 6,\n",
       "         'Cary': 1,\n",
       "         'Matt': 2,\n",
       "         'Ronell': 1,\n",
       "         'Dennis': 8,\n",
       "         'Austin': 6,\n",
       "         'Timothy': 12,\n",
       "         'Alfredo': 1,\n",
       "         'Chrislon': 1,\n",
       "         'Nikki': 1,\n",
       "         'Javoris': 1,\n",
       "         'Elvin': 1,\n",
       "         'Caso': 1,\n",
       "         'Cassandra': 1,\n",
       "         'Millard': 2,\n",
       "         'Dalton': 2,\n",
       "         'Garrett': 1,\n",
       "         'Harry': 1,\n",
       "         'Feras': 1,\n",
       "         'Simon': 2,\n",
       "         'Darrell': 3,\n",
       "         'Kyle': 8,\n",
       "         'Nehemiah': 1,\n",
       "         'Ebin': 1,\n",
       "         'Usaamah': 1,\n",
       "         'Kamal': 1,\n",
       "         'Lorenzo': 4,\n",
       "         'Rudy': 1,\n",
       "         'Edelmiro': 1,\n",
       "         'Ronald': 7,\n",
       "         'Jesus': 6,\n",
       "         'Christie': 1,\n",
       "         'Demouria': 1,\n",
       "         'Alejandro': 5,\n",
       "         'Joe': 9,\n",
       "         'Damien': 2,\n",
       "         'Gene': 5,\n",
       "         'Rene': 4,\n",
       "         'Greg': 2,\n",
       "         'QuanDavier': 1,\n",
       "         'Isiah': 1,\n",
       "         'Charles': 23,\n",
       "         'Fritz': 1,\n",
       "         'Shelly': 2,\n",
       "         'Deng': 1,\n",
       "         'Zane': 1,\n",
       "         'Kris': 2,\n",
       "         'Wendy': 1,\n",
       "         'Oleg': 1,\n",
       "         'Trepierre': 1,\n",
       "         'Louis': 3,\n",
       "         'Alfontish': 1,\n",
       "         'Eduardo': 3,\n",
       "         'Tyler': 10,\n",
       "         'Randall': 4,\n",
       "         'Taylor': 5,\n",
       "         'Spencer': 3,\n",
       "         'Clay': 2,\n",
       "         'Kaleb': 2,\n",
       "         'Ton': 1,\n",
       "         'Cesar': 4,\n",
       "         'Arturo': 3,\n",
       "         'Oscar': 4,\n",
       "         'Kawanza': 1,\n",
       "         'Bryan': 5,\n",
       "         'Johnny': 3,\n",
       "         'Hagen': 1,\n",
       "         'Marcellus': 1,\n",
       "         'Tremaine': 1,\n",
       "         'Dallas': 1,\n",
       "         'Rocco': 1,\n",
       "         'Martice': 1,\n",
       "         'Cyrus': 1,\n",
       "         'Javon': 1,\n",
       "         'Freddie': 1,\n",
       "         'Salvado': 1,\n",
       "         'Frederick': 4,\n",
       "         'Rafael': 3,\n",
       "         'Chacarion': 1,\n",
       "         'Anthonie': 1,\n",
       "         'Mohammad': 4,\n",
       "         'Saige': 1,\n",
       "         'Pierre': 2,\n",
       "         'Samuel': 5,\n",
       "         'Jackie': 2,\n",
       "         'Darrius': 1,\n",
       "         'Darren': 4,\n",
       "         'Jerrod': 2,\n",
       "         'Francisco': 6,\n",
       "         'Andre': 3,\n",
       "         'Devon': 2,\n",
       "         'Dontae': 1,\n",
       "         'Robbie': 1,\n",
       "         'Tamala': 1,\n",
       "         'Seth': 1,\n",
       "         'Lee': 36,\n",
       "         'Roger': 5,\n",
       "         'Earl': 9,\n",
       "         'Khari': 1,\n",
       "         'Zachary': 2,\n",
       "         'Jean': 3,\n",
       "         'Philip': 5,\n",
       "         'Armando': 4,\n",
       "         'Virgil': 1,\n",
       "         'Franklin': 1,\n",
       "         'Darius': 4,\n",
       "         'Keshawn': 1,\n",
       "         'Vincente': 1,\n",
       "         'Gustavo': 2,\n",
       "         'Christian': 8,\n",
       "         'Abel': 1,\n",
       "         'Tsombe': 1,\n",
       "         'Derrick': 2,\n",
       "         'Shamir': 1,\n",
       "         'Edrian': 1,\n",
       "         'Casey': 3,\n",
       "         'Nathaniel': 4,\n",
       "         'Redel': 1,\n",
       "         'Asshams': 1,\n",
       "         'Allen': 19,\n",
       "         'Jonathon': 1,\n",
       "         'Steven': 13,\n",
       "         'Mansur': 1,\n",
       "         'Deviere': 1,\n",
       "         'Wade': 3,\n",
       "         'Jeffory': 1,\n",
       "         'Raul': 3,\n",
       "         'Timmy': 1,\n",
       "         'Julian': 3,\n",
       "         'Marvin': 4,\n",
       "         'Curtis': 4,\n",
       "         'Brent': 6,\n",
       "         'Bertrand': 1,\n",
       "         'Yonas': 1,\n",
       "         'Manuel': 6,\n",
       "         'Felix': 2,\n",
       "         'Cedric': 4,\n",
       "         'Arthur': 5,\n",
       "         'Freddy': 2,\n",
       "         'Sully': 1,\n",
       "         'Harrison': 2,\n",
       "         \"La'vante\": 1,\n",
       "         'India': 2,\n",
       "         'Mohamed': 2,\n",
       "         'Casimero': 1,\n",
       "         'Tristan': 3,\n",
       "         'Dustin': 2,\n",
       "         'Tian': 1,\n",
       "         'Eddie': 4,\n",
       "         'Derick': 1,\n",
       "         'Jack': 4,\n",
       "         'Martin': 9,\n",
       "         'Clifford': 3,\n",
       "         'Florencio': 2,\n",
       "         'Jorge': 8,\n",
       "         'Rory': 1,\n",
       "         'Gregory': 4,\n",
       "         'Lucien': 1,\n",
       "         'Jerrald': 1,\n",
       "         'Gerardo': 4,\n",
       "         'Tina': 2,\n",
       "         'Dominic': 4,\n",
       "         'Joel': 7,\n",
       "         'Keith': 14,\n",
       "         'Norma': 1,\n",
       "         'Junior': 2,\n",
       "         'Alberto': 2,\n",
       "         'Phyllis': 1,\n",
       "         'Jeffery': 2,\n",
       "         'Omar': 6,\n",
       "         'Amado': 1,\n",
       "         'Travis': 9,\n",
       "         'Bernard': 3,\n",
       "         'Rudolph': 2,\n",
       "         'Michelle': 4,\n",
       "         'Linda': 1,\n",
       "         'Ricky': 3,\n",
       "         'Gino': 2,\n",
       "         'Dequan': 1,\n",
       "         'Corey': 4,\n",
       "         'Krikor': 1,\n",
       "         'Dion': 2,\n",
       "         'Lamontez': 1,\n",
       "         'Darien': 1,\n",
       "         'Adriene': 1,\n",
       "         'Juan': 12,\n",
       "         'Rolly': 1,\n",
       "         'Jon': 2,\n",
       "         'Marquesha': 1,\n",
       "         'Kobvey': 1,\n",
       "         'Tyrie': 1,\n",
       "         'Jerry': 3,\n",
       "         'Jasper': 1,\n",
       "         'Floyd': 1,\n",
       "         'Noah': 1,\n",
       "         'Bennie': 1,\n",
       "         'Luverne': 1,\n",
       "         'Killian': 1,\n",
       "         'Faisal': 1,\n",
       "         'Laura': 1,\n",
       "         'Kim': 2,\n",
       "         'Delvin': 1,\n",
       "         'Dale': 4,\n",
       "         'Leonel': 1,\n",
       "         'Javier': 4,\n",
       "         'Moises': 1,\n",
       "         'Ramon': 5,\n",
       "         'Jamar': 1,\n",
       "         'Cameron': 5,\n",
       "         'Yohans': 1,\n",
       "         'Demetrius': 4,\n",
       "         'Jeray': 1,\n",
       "         'Derry': 1,\n",
       "         'Steve': 2,\n",
       "         'Darick': 1,\n",
       "         'Henry': 9,\n",
       "         'Barry': 6,\n",
       "         'Magnum': 1,\n",
       "         'Somer': 1,\n",
       "         'Rick': 1,\n",
       "         'Hugo': 1,\n",
       "         'Tuan': 1,\n",
       "         'Fernando': 6,\n",
       "         'Tashfeen': 1,\n",
       "         'Syed': 1,\n",
       "         'Ivan': 2,\n",
       "         'Raymone': 1,\n",
       "         'Colten': 1,\n",
       "         'Sheilah': 1,\n",
       "         'Carlumandarlo': 1,\n",
       "         'Javario': 1,\n",
       "         'Shirley': 1,\n",
       "         'Enrique': 1,\n",
       "         'Calvin': 2,\n",
       "         'Brenda': 1,\n",
       "         'Mharloun': 1,\n",
       "         'Ronnie': 4,\n",
       "         'Erica': 1,\n",
       "         'Amos': 1,\n",
       "         'Leroy': 5,\n",
       "         'Guadalupe': 2,\n",
       "         'Chan': 1,\n",
       "         'Schuylar': 1,\n",
       "         'Terrozza': 1,\n",
       "         'Daquan': 3,\n",
       "         'Lonnie': 3,\n",
       "         'Quintonio': 1,\n",
       "         'Gayneaux': 1,\n",
       "         'Siolosega': 1,\n",
       "         'Lance': 5,\n",
       "         'Germonta': 1,\n",
       "         'Carlton': 1,\n",
       "         'Christine': 1,\n",
       "         'Ramone': 1,\n",
       "         'Ciara': 1,\n",
       "         'Herman': 2,\n",
       "         'Willie': 3,\n",
       "         'Rakeem': 1,\n",
       "         'Alfred': 4,\n",
       "         'Ashton': 1,\n",
       "         'Kelsey': 1,\n",
       "         'Clarence': 2,\n",
       "         'Crayton': 1,\n",
       "         'Efrain': 2,\n",
       "         'Jordan': 5,\n",
       "         'Levi': 2,\n",
       "         'Vasilios': 1,\n",
       "         'Jim': 1,\n",
       "         'Randy': 6,\n",
       "         'Johnathan': 2,\n",
       "         'Thongsavanh': 1,\n",
       "         'Janet': 1,\n",
       "         'Israel': 2,\n",
       "         'Jacqueline': 2,\n",
       "         'Randolph': 2,\n",
       "         'Angela': 1,\n",
       "         'Peter': 9,\n",
       "         'Edgar': 4,\n",
       "         'Cristiaan': 1,\n",
       "         'Kayden': 1,\n",
       "         'Antronie': 1,\n",
       "         'Blake': 5,\n",
       "         'Vinson': 2,\n",
       "         'Marese': 1,\n",
       "         'Shalamar': 1,\n",
       "         'Scottie': 1,\n",
       "         'Alijah': 1,\n",
       "         'Sahlah': 1,\n",
       "         'Ali': 2,\n",
       "         'Calin': 1,\n",
       "         'Dyzhawn': 1,\n",
       "         'Rammy': 1,\n",
       "         'Marc': 2,\n",
       "         'Destry': 1,\n",
       "         'Danny': 2,\n",
       "         'Marcos': 2,\n",
       "         'Che': 1,\n",
       "         'Sherrisa': 1,\n",
       "         'Kisha': 2,\n",
       "         'Marquintan': 1,\n",
       "         'Patricia': 1,\n",
       "         'Gerardino': 1,\n",
       "         'Rouven': 1,\n",
       "         'Baltazar': 1,\n",
       "         'Alex': 2,\n",
       "         'Luke': 3,\n",
       "         'Kionte': 1,\n",
       "         'Abraham': 4,\n",
       "         'Akiel': 1,\n",
       "         'Dimitri': 1,\n",
       "         'Mickey': 1,\n",
       "         'Osvaldo': 1,\n",
       "         'Bryon': 1,\n",
       "         'Wesley': 5,\n",
       "         'Arteair': 1,\n",
       "         'German': 1,\n",
       "         'Tyre': 3,\n",
       "         'Manford': 1,\n",
       "         'Teodoro': 1,\n",
       "         'Marco': 2,\n",
       "         'Gevork': 1,\n",
       "         'Amy': 1,\n",
       "         'Jacai': 1,\n",
       "         'Lamar': 4,\n",
       "         'Ed': 2,\n",
       "         'Cristian': 1,\n",
       "         'Map': 1,\n",
       "         'Sunny': 1,\n",
       "         'Thurman': 1,\n",
       "         'Dylan': 6,\n",
       "         'Boyd': 2,\n",
       "         'Daven': 1,\n",
       "         'Alexio': 1,\n",
       "         'Dominique': 2,\n",
       "         'Jermon': 1,\n",
       "         'Terrence': 4,\n",
       "         'Loreal': 1,\n",
       "         'Deriante': 1,\n",
       "         'Denise': 1,\n",
       "         'Kimani': 1,\n",
       "         'Melissa': 3,\n",
       "         'Laronda': 1,\n",
       "         'Dazion': 1,\n",
       "         'Lamont': 7,\n",
       "         'Diahlo': 1,\n",
       "         'Quron': 1,\n",
       "         'Efren': 1,\n",
       "         'Koltlee': 1,\n",
       "         'Clemente': 1,\n",
       "         'Storm': 1,\n",
       "         'Gerald': 2,\n",
       "         'George': 9,\n",
       "         'Edson': 1,\n",
       "         'Rico': 1,\n",
       "         'Sylasone': 1,\n",
       "         'Jorevis': 1,\n",
       "         'Demarcus': 1,\n",
       "         'Mitchell': 3,\n",
       "         'Jakob': 1,\n",
       "         'Kay': 1,\n",
       "         'Robin': 3,\n",
       "         'Jacquelyn': 1,\n",
       "         'Darrel': 2,\n",
       "         'Cin': 1,\n",
       "         'Damon': 5,\n",
       "         'Kendar': 1,\n",
       "         'Ashtian': 1,\n",
       "         'Oswald': 1,\n",
       "         'Bender': 1,\n",
       "         'Marion': 2,\n",
       "         'Charlin': 1,\n",
       "         'Cayce': 1,\n",
       "         'Gerry': 1,\n",
       "         'Burt': 1,\n",
       "         'Deresha': 1,\n",
       "         'Alton': 3,\n",
       "         'Jaffort': 1,\n",
       "         'Thongsoune': 1,\n",
       "         'Dracy': 1,\n",
       "         'Jabril': 1,\n",
       "         'Garry': 1,\n",
       "         'Jeremias': 1,\n",
       "         'Jaime': 1,\n",
       "         'Kentrill': 1,\n",
       "         'Norman': 4,\n",
       "         'Vernell': 1,\n",
       "         'Bryson': 1,\n",
       "         'Verl': 1,\n",
       "         'Bodhi': 1,\n",
       "         'Doll': 1,\n",
       "         'Warren': 1,\n",
       "         'Devonte': 1,\n",
       "         'Dionisio': 1,\n",
       "         'Osee': 1,\n",
       "         'Hubert': 1,\n",
       "         'Demarco': 2,\n",
       "         'Kalyp': 1,\n",
       "         'Willis': 3,\n",
       "         'Clayton': 1,\n",
       "         'J.': 30,\n",
       "         'Lyndarius': 1,\n",
       "         'Noel': 4,\n",
       "         'Russell': 4,\n",
       "         'Sergey': 1,\n",
       "         'Antwun': 1,\n",
       "         'Rashaun': 1,\n",
       "         'Raufeal': 1,\n",
       "         'Lane': 3,\n",
       "         'Josiah': 1,\n",
       "         'Isaiah': 5,\n",
       "         'Quencezola': 1,\n",
       "         'Deravis': 1,\n",
       "         'Jay': 5,\n",
       "         'Ismael': 2,\n",
       "         'Christy': 1,\n",
       "         'Jamil': 1,\n",
       "         'Waldemar': 1,\n",
       "         'Rodrigo': 1,\n",
       "         'Germichael': 1,\n",
       "         'Sherman': 1,\n",
       "         'Walden': 1,\n",
       "         'Lafayette': 1,\n",
       "         'Jasen': 1,\n",
       "         'Alexis': 1,\n",
       "         'Helmut': 1,\n",
       "         'Jai': 1,\n",
       "         'Shannon': 3,\n",
       "         'Sidney': 1,\n",
       "         'Philando': 1,\n",
       "         'Earnest': 1,\n",
       "         'Alva': 1,\n",
       "         'Orville': 1,\n",
       "         'Dayten': 1,\n",
       "         'Jermaine': 2,\n",
       "         'Gavin': 3,\n",
       "         'BJ': 1,\n",
       "         'Alvin': 1,\n",
       "         'Scot': 2,\n",
       "         'Dalvin': 1,\n",
       "         'Saddam': 1,\n",
       "         'Emil': 1,\n",
       "         'Donnell': 2,\n",
       "         'Melvin': 2,\n",
       "         'Amanda': 1,\n",
       "         'Limichael': 1,\n",
       "         'Korryn': 1,\n",
       "         'DeMarco': 1,\n",
       "         'Bradley': 4,\n",
       "         'E.J.': 1,\n",
       "         'Johannes': 2,\n",
       "         'Jamarion': 1,\n",
       "         'Jawari': 1,\n",
       "         'Darnell': 6,\n",
       "         'Jesse': 6,\n",
       "         'Sylville': 1,\n",
       "         'Perry': 2,\n",
       "         'Jovany': 1,\n",
       "         'Kenney': 1,\n",
       "         'Omer': 1,\n",
       "         'Chad': 5,\n",
       "         'Trenton': 1,\n",
       "         'Marcelo': 1,\n",
       "         'Kole': 1,\n",
       "         'Kelley': 2,\n",
       "         'Donta': 1,\n",
       "         'Jaqwan': 1,\n",
       "         'Paula': 1,\n",
       "         'Levonia': 1,\n",
       "         'Lyle': 1,\n",
       "         'Caleb': 2,\n",
       "         'Donny': 1,\n",
       "         'Moses': 1,\n",
       "         'Sadiq': 1,\n",
       "         'Ricardo': 3,\n",
       "         'Morgan': 4,\n",
       "         'Lucas': 2,\n",
       "         'Dahir': 1,\n",
       "         'Sandy': 1,\n",
       "         'Oddis': 1,\n",
       "         'Leeland': 1,\n",
       "         'Najier': 1,\n",
       "         'Jacquarius': 1,\n",
       "         'Carnell': 1,\n",
       "         'Isaias': 1,\n",
       "         'Deric': 1,\n",
       "         'Maurico': 1,\n",
       "         'Devan': 1,\n",
       "         'Dominick': 1,\n",
       "         'Blaine': 2,\n",
       "         'Kirk': 2,\n",
       "         'Chaz': 1,\n",
       "         'Micah': 2,\n",
       "         'Rolando': 1,\n",
       "         'Keegan': 1,\n",
       "         'Deborah': 1,\n",
       "         'Renee': 1,\n",
       "         'Kristofer': 1,\n",
       "         'Kenny': 1,\n",
       "         'Chelsea': 1,\n",
       "         'Malcolm': 1,\n",
       "         'Thad': 1,\n",
       "         'Edwin': 2,\n",
       "         'Jun': 1,\n",
       "         'Ashley': 1,\n",
       "         'Wilton': 1,\n",
       "         'Ferguson': 2,\n",
       "         'Darryl': 2,\n",
       "         'Kenton': 1,\n",
       "         'Evan': 1,\n",
       "         'Rasheem': 1,\n",
       "         'Edmund': 1,\n",
       "         'Samson': 2,\n",
       "         'Dontrell': 2,\n",
       "         'Adalid': 1,\n",
       "         'Erickson': 2,\n",
       "         'Ivory': 1,\n",
       "         'Talif': 1,\n",
       "         'Kajuan': 1,\n",
       "         'Terrell': 2,\n",
       "         'Abdul': 1,\n",
       "         'Irecas': 1,\n",
       "         'Toby': 1,\n",
       "         'Quinton': 1,\n",
       "         'Josh': 1,\n",
       "         'Saif': 1,\n",
       "         'Westley': 1,\n",
       "         'Wayne': 10,\n",
       "         'Redrick': 1,\n",
       "         'Waltki': 1,\n",
       "         'Amber': 1,\n",
       "         'Rainer': 1,\n",
       "         'Lavar': 1,\n",
       "         'Fidel': 1,\n",
       "         'Chassady': 1,\n",
       "         'Colton': 2,\n",
       "         'Miriam': 1,\n",
       "         'Zhonghua': 1,\n",
       "         'Judy': 1,\n",
       "         'Alfonso': 1,\n",
       "         'Jake': 2,\n",
       "         'Jamal': 5,\n",
       "         'Chase': 1,\n",
       "         'Trevon': 2,\n",
       "         'Welby': 1,\n",
       "         'JR': 1,\n",
       "         'Davion': 1,\n",
       "         'Darrion': 1,\n",
       "         'Hafez': 1,\n",
       "         'Jahlire': 1,\n",
       "         'Sinuon': 1,\n",
       "         'Marlon': 1,\n",
       "         'Stoney': 1,\n",
       "         'Genevive': 1,\n",
       "         'Marquis': 2,\n",
       "         'Elijah': 1,\n",
       "         'Armond': 1,\n",
       "         'Josue': 2,\n",
       "         'Dakota': 1,\n",
       "         'Arties': 1,\n",
       "         'Donovan': 1,\n",
       "         'Kerry': 1,\n",
       "         'Deaundre': 1,\n",
       "         \"Mi'Chance\": 1,\n",
       "         'Refugio': 1,\n",
       "         'Tavis': 1,\n",
       "         'Yia': 1,\n",
       "         'Jamake': 1,\n",
       "         'Johnnie': 1,\n",
       "         'Nana': 1,\n",
       "         'Cole': 1,\n",
       "         'Quanice': 1,\n",
       "         'Jocques': 1,\n",
       "         'Pekelo': 1,\n",
       "         'Alonzo': 1,\n",
       "         'Willard': 1,\n",
       "         'Drey': 1,\n",
       "         'Raynard': 1,\n",
       "         'Mauro': 1,\n",
       "         'Kadeem': 1,\n",
       "         'Chance': 3,\n",
       "         'Keo': 1,\n",
       "         'Bartolo': 1,\n",
       "         'Misael': 1,\n",
       "         'Medger': 1,\n",
       "         'Jimmie': 3,\n",
       "         'Joey': 2,\n",
       "         'Evin': 1,\n",
       "         'Epthen': 1,\n",
       "         'Isidro': 1,\n",
       "         'Dave': 1,\n",
       "         'Iaroslav': 1,\n",
       "         'Rashad': 2,\n",
       "         'Cordale': 1,\n",
       "         'Brentant': 1,\n",
       "         'Nancy': 1,\n",
       "         'Alteria': 1,\n",
       "         'Trevor': 2,\n",
       "         'Reno': 1,\n",
       "         'Pryor': 1,\n",
       "         'Doyle': 1,\n",
       "         'Rogelio': 1,\n",
       "         'Zelalem': 1,\n",
       "         'Sariah': 1,\n",
       "         'Kendell': 1,\n",
       "         'Jacy': 1,\n",
       "         'Selwyn': 1,\n",
       "         'Burgon': 1,\n",
       "         'Avery': 2,\n",
       "         'Mirza': 1,\n",
       "         'Malik': 2,\n",
       "         'Landon': 2,\n",
       "         'Mikel': 1,\n",
       "         'Jayson': 1,\n",
       "         'Jeroen': 1,\n",
       "         'Maxwell': 1,\n",
       "         'Jonie': 1,\n",
       "         'Jaison': 1,\n",
       "         'Buford': 1,\n",
       "         'Isabelle': 1,\n",
       "         'Marshall': 5,\n",
       "         'Ricco': 1,\n",
       "         'Hayden': 1,\n",
       "         'Shaquian': 1,\n",
       "         'Roman': 2,\n",
       "         'Naway': 1,\n",
       "         'Corsean': 1,\n",
       "         'Quentin': 1,\n",
       "         'Emmett': 1,\n",
       "         'Eleuterio': 1,\n",
       "         'Chazz': 1,\n",
       "         'Charleena': 1,\n",
       "         'Robb': 1,\n",
       "         'Giovonn': 1,\n",
       "         'Deveonte': 1,\n",
       "         'Brett': 1,\n",
       "         'Quintec': 1,\n",
       "         'Justine': 1,\n",
       "         'Aries': 1,\n",
       "         'Kesharn': 1,\n",
       "         'Deltra': 1,\n",
       "         'Dwayne': 2,\n",
       "         'Elliot': 1,\n",
       "         'Hoffman': 2,\n",
       "         'Rodriguez': 7,\n",
       "         'Arnold': 2,\n",
       "         'Nichols': 3,\n",
       "         'Steele': 1,\n",
       "         'Sapp': 2,\n",
       "         'Wetter': 1,\n",
       "         'Sneed': 1,\n",
       "         'Hanif': 1,\n",
       "         'Simpson': 3,\n",
       "         'Dudley': 1,\n",
       "         'Hamby': 1,\n",
       "         'Foreman': 1,\n",
       "         'Martinez': 7,\n",
       "         'Smith': 19,\n",
       "         'Barbosa': 1,\n",
       "         'Figueroa': 2,\n",
       "         'McClendon': 2,\n",
       "         'Golden': 1,\n",
       "         'Goebel': 1,\n",
       "         'Schroeder': 1,\n",
       "         'Edwards': 4,\n",
       "         'R.': 10,\n",
       "         'Sowell': 2,\n",
       "         'Reed': 2,\n",
       "         'Ceja': 1,\n",
       "         'Massey': 1,\n",
       "         'Hall': 7,\n",
       "         'Shinwary': 1,\n",
       "         'Walker': 2,\n",
       "         'Meza': 1,\n",
       "         'Brumley': 1,\n",
       "         'Guillory': 1,\n",
       "         'Castle': 1,\n",
       "         'Campbell': 2,\n",
       "         'Carr': 2,\n",
       "         'Holmes': 2,\n",
       "         'Toto': 1,\n",
       "         'Meton': 1,\n",
       "         'Coignard': 1,\n",
       "         'Turner': 2,\n",
       "         'King': 4,\n",
       "         'Myler': 1,\n",
       "         'Hutchins': 1,\n",
       "         'Jude': 1,\n",
       "         'Hernandez': 11,\n",
       "         'Kmetz': 1,\n",
       "         'Garcia': 9,\n",
       "         'Leland': 2,\n",
       "         'Ingram': 1,\n",
       "         'Nuu': 1,\n",
       "         'Karasek': 1,\n",
       "         'Haglund': 1,\n",
       "         'Kassick': 1,\n",
       "         'Murphy': 2,\n",
       "         'D.': 14,\n",
       "         'Henderson': 4,\n",
       "         'Deshawn': 1,\n",
       "         'Purvis': 1,\n",
       "         'Lett': 1,\n",
       "         'Colon': 1,\n",
       "         'Muna': 1,\n",
       "         'Ray': 12,\n",
       "         'Atkins': 1,\n",
       "         'Hill': 3,\n",
       "         'Flache': 1,\n",
       "         'Cordaro': 1,\n",
       "         'Paffen': 1,\n",
       "         'Hostetter': 1,\n",
       "         'Kreyssig': 1,\n",
       "         'Luster': 1,\n",
       "         'Zambrano-Montes': 1,\n",
       "         'Bess': 1,\n",
       "         'Fritze': 1,\n",
       "         'Watkins': 3,\n",
       "         'Lara-Rodriguez': 1,\n",
       "         'Carlin': 1,\n",
       "         'Mejia': 2,\n",
       "         'C.': 8,\n",
       "         'Joy': 1,\n",
       "         'Steward': 1,\n",
       "         'Caldwell': 2,\n",
       "         'K.': 4,\n",
       "         'Evans': 4,\n",
       "         'Sexton': 1,\n",
       "         'Ireland': 1,\n",
       "         'Lundy': 1,\n",
       "         'Sparks': 1,\n",
       "         'Fonville': 1,\n",
       "         'Villalpando': 1,\n",
       "         'Harris': 8,\n",
       "         'Moncrief': 1,\n",
       "         'Leonard': 2,\n",
       "         'Elrod': 1,\n",
       "         'Kohl': 1,\n",
       "         'Giaquinta': 1,\n",
       "         'Washington': 5,\n",
       "         'Biegert': 1,\n",
       "         'Spivey': 1,\n",
       "         'Cuevas': 1,\n",
       "         'Perez-Lopez': 1,\n",
       "         'Biggs': 1,\n",
       "         'Javiar': 1,\n",
       "         'Freeman': 1,\n",
       "         'Guilford': 1,\n",
       "         'Uribe': 1,\n",
       "         'Sherrod': 1,\n",
       "         'Leundeu': 1,\n",
       "         'Trieu': 1,\n",
       "         'Barrow': 1,\n",
       "         'Rhinvil': 1,\n",
       "         'Metz': 1,\n",
       "         'Cruice': 1,\n",
       "         'Lao': 1,\n",
       "         'Ryerson': 1,\n",
       "         'Hubbard': 1,\n",
       "         'Vinzant': 1,\n",
       "         'Robinson': 4,\n",
       "         'Reinhart': 1,\n",
       "         'Duarte': 1,\n",
       "         'McKillop': 1,\n",
       "         'Jenee': 1,\n",
       "         'Brown': 10,\n",
       "         'Croom': 1,\n",
       "         'Franco': 1,\n",
       "         'Johnson': 17,\n",
       "         'Greenwell': 1,\n",
       "         'Osorio': 1,\n",
       "         'Valdez': 2,\n",
       "         ...})"
      ]
     },
     "execution_count": 117,
     "metadata": {},
     "output_type": "execute_result"
    }
   ],
   "source": [
    "name_surname_counts"
   ]
  },
  {
   "cell_type": "code",
   "execution_count": 118,
   "metadata": {},
   "outputs": [
    {
     "data": {
      "text/plain": [
       "[('Michael', 82),\n",
       " ('David', 53),\n",
       " ('James', 46),\n",
       " ('Robert', 44),\n",
       " ('Joseph', 43),\n",
       " ('Daniel', 40),\n",
       " ('William', 40),\n",
       " ('John', 36),\n",
       " ('Lee', 36),\n",
       " ('Christopher', 35),\n",
       " ('Richard', 33),\n",
       " ('J.', 30),\n",
       " ('Joshua', 27),\n",
       " ('Anthony', 25),\n",
       " ('Thomas', 23)]"
      ]
     },
     "execution_count": 118,
     "metadata": {},
     "output_type": "execute_result"
    }
   ],
   "source": [
    "most_common_name_surname = name_surname_counts.most_common(15)\n",
    "most_common_name_surname"
   ]
  },
  {
   "cell_type": "code",
   "execution_count": 119,
   "metadata": {
    "scrolled": false
   },
   "outputs": [
    {
     "data": {
      "text/html": [
       "<div>\n",
       "<style scoped>\n",
       "    .dataframe tbody tr th:only-of-type {\n",
       "        vertical-align: middle;\n",
       "    }\n",
       "\n",
       "    .dataframe tbody tr th {\n",
       "        vertical-align: top;\n",
       "    }\n",
       "\n",
       "    .dataframe thead th {\n",
       "        text-align: right;\n",
       "    }\n",
       "</style>\n",
       "<table border=\"1\" class=\"dataframe\">\n",
       "  <thead>\n",
       "    <tr style=\"text-align: right;\">\n",
       "      <th></th>\n",
       "      <th>Names or Surnames</th>\n",
       "      <th>Frequency</th>\n",
       "    </tr>\n",
       "  </thead>\n",
       "  <tbody>\n",
       "    <tr>\n",
       "      <th>0</th>\n",
       "      <td>Michael</td>\n",
       "      <td>82</td>\n",
       "    </tr>\n",
       "    <tr>\n",
       "      <th>1</th>\n",
       "      <td>David</td>\n",
       "      <td>53</td>\n",
       "    </tr>\n",
       "    <tr>\n",
       "      <th>2</th>\n",
       "      <td>James</td>\n",
       "      <td>46</td>\n",
       "    </tr>\n",
       "    <tr>\n",
       "      <th>3</th>\n",
       "      <td>Robert</td>\n",
       "      <td>44</td>\n",
       "    </tr>\n",
       "    <tr>\n",
       "      <th>4</th>\n",
       "      <td>Joseph</td>\n",
       "      <td>43</td>\n",
       "    </tr>\n",
       "    <tr>\n",
       "      <th>5</th>\n",
       "      <td>Daniel</td>\n",
       "      <td>40</td>\n",
       "    </tr>\n",
       "    <tr>\n",
       "      <th>6</th>\n",
       "      <td>William</td>\n",
       "      <td>40</td>\n",
       "    </tr>\n",
       "    <tr>\n",
       "      <th>7</th>\n",
       "      <td>John</td>\n",
       "      <td>36</td>\n",
       "    </tr>\n",
       "    <tr>\n",
       "      <th>8</th>\n",
       "      <td>Lee</td>\n",
       "      <td>36</td>\n",
       "    </tr>\n",
       "    <tr>\n",
       "      <th>9</th>\n",
       "      <td>Christopher</td>\n",
       "      <td>35</td>\n",
       "    </tr>\n",
       "    <tr>\n",
       "      <th>10</th>\n",
       "      <td>Richard</td>\n",
       "      <td>33</td>\n",
       "    </tr>\n",
       "    <tr>\n",
       "      <th>11</th>\n",
       "      <td>J.</td>\n",
       "      <td>30</td>\n",
       "    </tr>\n",
       "    <tr>\n",
       "      <th>12</th>\n",
       "      <td>Joshua</td>\n",
       "      <td>27</td>\n",
       "    </tr>\n",
       "    <tr>\n",
       "      <th>13</th>\n",
       "      <td>Anthony</td>\n",
       "      <td>25</td>\n",
       "    </tr>\n",
       "    <tr>\n",
       "      <th>14</th>\n",
       "      <td>Thomas</td>\n",
       "      <td>23</td>\n",
       "    </tr>\n",
       "  </tbody>\n",
       "</table>\n",
       "</div>"
      ],
      "text/plain": [
       "   Names or Surnames  Frequency\n",
       "0            Michael         82\n",
       "1              David         53\n",
       "2              James         46\n",
       "3             Robert         44\n",
       "4             Joseph         43\n",
       "5             Daniel         40\n",
       "6            William         40\n",
       "7               John         36\n",
       "8                Lee         36\n",
       "9        Christopher         35\n",
       "10           Richard         33\n",
       "11                J.         30\n",
       "12            Joshua         27\n",
       "13           Anthony         25\n",
       "14            Thomas         23"
      ]
     },
     "execution_count": 119,
     "metadata": {},
     "output_type": "execute_result"
    }
   ],
   "source": [
    "name_df = pd.DataFrame(most_common_name_surname, columns = ['Names or Surnames', 'Frequency'])\n",
    "name_df"
   ]
  },
  {
   "cell_type": "code",
   "execution_count": 138,
   "metadata": {},
   "outputs": [
    {
     "data": {
      "image/png": "[encoded data removed]",
      "text/plain": [
       "<Figure size 1008x576 with 1 Axes>"
      ]
     },
     "metadata": {
      "needs_background": "light"
     },
     "output_type": "display_data"
    }
   ],
   "source": [
    "# with pandas\n",
    "ax= name_df.plot(kind='bar', x= 'Names or Surnames',y= 'Frequency', figsize=(14,8))\n",
    "plt.title('Most Common 15 Name or Surname of killed people')\n",
    "plt.ylabel('Frequency')\n",
    "plt.xticks(rotation=45)\n",
    "\n",
    "for p in ax.patches:\n",
    "    ax.annotate(str(p.get_height()), (p.get_x() * 1.200, p.get_height() *1.005));"
   ]
  },
  {
   "cell_type": "code",
   "execution_count": 137,
   "metadata": {},
   "outputs": [
    {
     "data": {
      "image/png": "[encoded data removed]",
      "text/plain": [
       "<Figure size 864x576 with 1 Axes>"
      ]
     },
     "metadata": {
      "needs_background": "light"
     },
     "output_type": "display_data"
    }
   ],
   "source": [
    "# with matplotlib\n",
    "plt.figure(figsize=(12,8))\n",
    "plt.bar(name_df['Names or Surnames'],name_df['Frequency'])\n",
    "plt.xlabel('Names or Surnames')\n",
    "plt.ylabel('Frequency')\n",
    "plt.xticks(rotation=45)\n",
    "plt.title('Most Common 15 Name or Surname of killed people')\n",
    "plt.tight_layout()\n",
    "for i, v in enumerate(name_df['Frequency']):\n",
    "    plt.text(i, v, str(v));"
   ]
  },
  {
   "cell_type": "code",
   "execution_count": null,
   "metadata": {},
   "outputs": [],
   "source": []
  },
  {
   "cell_type": "code",
   "execution_count": null,
   "metadata": {},
   "outputs": [],
   "source": []
  },
  {
   "cell_type": "code",
   "execution_count": null,
   "metadata": {},
   "outputs": [],
   "source": []
  },
  {
   "cell_type": "code",
   "execution_count": null,
   "metadata": {},
   "outputs": [],
   "source": []
  },
  {
   "cell_type": "code",
   "execution_count": null,
   "metadata": {},
   "outputs": [],
   "source": []
  },
  {
   "cell_type": "code",
   "execution_count": null,
   "metadata": {},
   "outputs": [],
   "source": []
  },
  {
   "cell_type": "code",
   "execution_count": null,
   "metadata": {},
   "outputs": [],
   "source": []
  },
  {
   "cell_type": "code",
   "execution_count": null,
   "metadata": {},
   "outputs": [],
   "source": []
  },
  {
   "cell_type": "code",
   "execution_count": null,
   "metadata": {},
   "outputs": [],
   "source": []
  },
  {
   "cell_type": "code",
   "execution_count": null,
   "metadata": {
    "id": "tRAjYkN_MqkZ"
   },
   "outputs": [],
   "source": []
  }
 ],
 "metadata": {
  "colab": {
   "collapsed_sections": [],
   "name": "Assignment-1 student.ipynb",
   "provenance": []
  },
  "kernelspec": {
   "display_name": "Python 3",
   "language": "python",
   "name": "python3"
  },
  "language_info": {
   "codemirror_mode": {
    "name": "ipython",
    "version": 3
   },
   "file_extension": ".py",
   "mimetype": "text/x-python",
   "name": "python",
   "nbconvert_exporter": "python",
   "pygments_lexer": "ipython3",
   "version": "3.8.8"
  }
 },
 "nbformat": 4,
 "nbformat_minor": 1
}
