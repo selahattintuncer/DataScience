{
 "cells": [
  {
   "cell_type": "markdown",
   "metadata": {
    "id": "K7S4cEyZLTp7"
   },
   "source": [
    "## Descriptive Statistics"
   ]
  },
  {
   "cell_type": "markdown",
   "metadata": {
    "id": "vZRYVyc8H7hi"
   },
   "source": [
    " Import **NumPy**, **SciPy**, and **Pandas**"
   ]
  },
  {
   "cell_type": "code",
   "execution_count": 14,
   "metadata": {
    "colab": {
     "base_uri": "https://localhost:8080/",
     "height": 129
    },
    "executionInfo": {
     "elapsed": 26,
     "status": "error",
     "timestamp": 1624461225713,
     "user": {
      "displayName": "Selahattin Tuncer",
      "photoUrl": "https://lh3.googleusercontent.com/a-/AOh14Gi4CS96PKHHGLcMNw0Zt2V1koscK7zmas5sqN840J0=s64",
      "userId": "04319924790699821886"
     },
     "user_tz": -180
    },
    "id": "7ShN0klrHIk3",
    "outputId": "eb5d6b8c-59d0-476e-ea25-aabfb1a2bba9"
   },
   "outputs": [],
   "source": [
    "import numpy as np\n",
    "import pandas as pd\n",
    "import scipy.stats as st\n"
   ]
  },
  {
   "cell_type": "code",
   "execution_count": null,
   "metadata": {},
   "outputs": [],
   "source": []
  },
  {
   "cell_type": "markdown",
   "metadata": {
    "id": "_SaQURIqIA6d"
   },
   "source": [
    " Randomly generate 1,000 samples from the normal distribution using `np.random.normal()`(mean = 100, standard deviation = 15)"
   ]
  },
  {
   "cell_type": "code",
   "execution_count": 3,
   "metadata": {
    "id": "Jyw_FMX0IRkm",
    "scrolled": true
   },
   "outputs": [
    {
     "output_type": "execute_result",
     "data": {
      "text/plain": [
       "array([135.59151633, 128.03517012,  87.28527474, 111.18557495,\n",
       "       102.49097763,  91.61364429, 123.80834326, 107.9514333 ,\n",
       "       127.43743049,  97.3568666 ,  80.91033421,  99.6627923 ,\n",
       "       114.47375868, 109.52501094, 109.09150702, 107.46204344,\n",
       "        87.74381237, 102.42501571,  86.83796549,  94.61867743,\n",
       "        76.78060153,  91.54942726, 101.31208715,  87.45084302,\n",
       "        93.31251037,  95.93544627,  96.30616365,  86.72860283,\n",
       "       112.90360766,  96.49087817, 100.750304  , 102.84039365,\n",
       "       113.5244431 , 106.1298112 ,  91.24137182, 120.10858538,\n",
       "       106.27009762,  91.15690957, 106.22158111,  75.18139216,\n",
       "       107.06921042,  89.92843614,  97.00909138, 109.17624924,\n",
       "       122.91361734, 110.9237311 ,  97.20099109, 114.89808344,\n",
       "       104.77022993, 105.45381852,  64.32335746,  96.38329452,\n",
       "        99.85945887, 110.58706131, 112.13121009, 103.03554143,\n",
       "       100.20370279, 100.27281818, 106.3947723 , 103.02900284,\n",
       "       109.66384643, 111.12528234,  96.90497168,  95.45179471,\n",
       "       118.07932911,  98.48411316,  98.0913143 , 114.77063035,\n",
       "       103.16711851,  92.80058258,  97.87596397,  85.0089404 ,\n",
       "        98.52284282, 111.139404  ,  91.39689538,  98.26923762,\n",
       "        99.43279236,  78.14476613, 102.67759582, 113.67436204,\n",
       "       103.60304618, 115.68722604,  95.05956867,  88.68591561,\n",
       "       109.03170042, 114.70817702, 109.44329593,  88.99182214,\n",
       "       110.58577423, 114.32037078,  75.4847059 , 107.81480903,\n",
       "       126.51894024, 106.17181304, 114.64379346, 104.6652492 ,\n",
       "       105.48244519, 109.16098512, 135.49593555, 103.09778151,\n",
       "       106.19715216,  70.4842309 ,  99.70386957,  78.80098196,\n",
       "        95.89392763,  69.29396038,  98.56517929,  97.57138054,\n",
       "        97.55911215, 110.5652239 ,  74.77150456, 104.88626879,\n",
       "        89.2484385 , 103.8360172 , 113.2213594 , 102.15371729,\n",
       "       109.62541981, 105.5073866 ,  89.19265593, 121.97861968,\n",
       "       115.59358443, 115.61156312,  90.21113421, 120.52736852,\n",
       "       105.66174777,  87.74922675, 128.21338428, 113.51971857,\n",
       "        98.11774471, 101.49918893, 102.89732775, 100.9458751 ,\n",
       "        88.82219112, 101.49332358, 121.56714748,  97.50941966,\n",
       "        86.22664129,  79.73809493, 103.92890454, 110.9000413 ,\n",
       "       116.28864259,  90.98855957, 112.35415169, 115.90501537,\n",
       "       100.5183987 ,  97.76588188, 112.56333923,  97.46895592,\n",
       "        92.60662847, 146.18074831, 106.53907568,  99.58493327,\n",
       "        90.24390865, 118.40573307, 115.18662788, 115.73657524,\n",
       "        80.80550399,  74.01520575,  96.72430819, 129.62187744,\n",
       "       102.52254969, 110.65764545,  81.94171558,  86.99729046,\n",
       "        86.43204522,  78.43667524, 102.37900905, 120.79122153,\n",
       "       100.69804176, 104.70641425, 125.90251087, 101.17782498,\n",
       "       100.545739  ,  88.11911556,  77.71504525, 126.58104004,\n",
       "       115.56133136, 112.16967452,  85.20183308,  99.09199024,\n",
       "        85.49753082, 100.53908479,  74.62364839, 100.55370792,\n",
       "       109.67536413, 116.73681824, 109.18080938, 120.56933627,\n",
       "        89.99942501, 111.08061271, 122.3245128 ,  74.03511451,\n",
       "        85.64522615,  90.77415893, 117.60894303,  96.62793428,\n",
       "       114.07571554,  87.55182768,  94.7102491 ,  92.22714733,\n",
       "       107.69175094, 119.53719334,  88.4311266 , 106.39292145,\n",
       "        84.36314094, 109.82762289, 104.49017915, 127.25263084,\n",
       "        84.80135239, 104.00542606, 124.91094361, 112.79526049,\n",
       "       105.02755416, 105.55445318, 106.11456608,  94.96006273,\n",
       "       102.86112503,  71.68741262,  85.39167591, 101.59778485,\n",
       "       119.33824027,  91.74488039,  91.78122816, 109.32820489,\n",
       "        75.42288735, 114.9281644 , 111.25139481, 105.03614961,\n",
       "        89.72647653,  95.98338088,  88.25605355,  93.54417761,\n",
       "       108.41788553,  93.58708093, 101.67950034, 107.98161053,\n",
       "       109.33443013, 119.98028591, 115.47442493, 107.2032652 ,\n",
       "       103.78160716,  65.28731423,  99.86263538, 105.59644854,\n",
       "        64.09761876, 105.98180577, 123.12181697, 115.47148439,\n",
       "        89.02591353, 110.64516684, 108.00269331,  94.67563513,\n",
       "       106.24953308, 106.00013102, 107.46519098, 111.22557121,\n",
       "       137.19059861, 111.37210302, 106.90453932, 104.00259345,\n",
       "       122.54855622,  86.39519612,  98.03048825,  73.06358749,\n",
       "       109.17597265,  70.28316011, 113.14083805, 123.14530153,\n",
       "       101.82805833, 125.27579105,  99.79307074, 105.3757308 ,\n",
       "        75.00245207, 122.25664376, 138.44533196,  97.7335887 ,\n",
       "        89.39654383,  96.64015067,  82.29267756,  94.07400604,\n",
       "        98.56222572, 106.15753819, 104.52470649,  66.53236731,\n",
       "       102.95503322,  76.67873165, 100.20996277,  76.24086093,\n",
       "        88.26374835,  83.310844  , 100.78261184, 108.69313773,\n",
       "       115.42050365,  85.18466335,  91.24749033, 102.1548052 ,\n",
       "        83.97794336,  99.27368756, 103.54138284, 122.84611829,\n",
       "       109.96820626,  98.02506577, 104.6850398 ,  87.05348055,\n",
       "       104.92810443, 124.41999979,  86.63933227,  99.7485789 ,\n",
       "        79.66832429, 111.7378765 ,  87.09648656, 121.35185265,\n",
       "       107.83497843,  99.13423454,  89.29139151,  96.21016197,\n",
       "       113.95927921,  96.46435768,  87.51632233, 118.87289081,\n",
       "        98.42590044,  83.82008946, 100.9872744 , 105.35554538,\n",
       "       113.51263343, 101.396815  ,  73.56675155, 101.22651838,\n",
       "        82.34033166, 117.97705252, 103.11262046,  66.74976669,\n",
       "       121.61056444, 105.96332522, 121.34356854,  96.7529029 ,\n",
       "       106.87791168,  99.87132312,  75.358936  ,  90.83930653,\n",
       "       118.75503212, 119.59297736, 117.4125959 , 101.54207545,\n",
       "        89.38399403,  71.43270408,  94.65637295, 107.84086318,\n",
       "        85.03072256, 154.53228506,  89.13672275,  88.92089819,\n",
       "        76.47557867, 116.53587265, 105.30174   , 117.02035777,\n",
       "       110.72528115, 111.73871086, 102.04126104, 105.46343175,\n",
       "       110.24047003, 104.3639428 ,  97.79974847, 114.05118944,\n",
       "       105.68954964, 116.99246286,  91.08331975, 106.29021255,\n",
       "       127.68545451,  88.24870506, 125.0192754 ,  81.05127578,\n",
       "        87.36761705,  80.05994321,  93.2410587 , 106.80982104,\n",
       "        80.04855745,  60.86834194, 110.55253077,  72.23073951,\n",
       "       104.82809245, 100.2825107 , 101.51981422, 114.14901824,\n",
       "       102.73600236, 108.37814126,  89.95352808,  96.81642158,\n",
       "        92.82906869, 121.0388108 , 105.62426942,  94.52013868,\n",
       "        78.79834484, 126.18112164,  89.34853787,  80.9256052 ,\n",
       "        97.91138506,  95.93187542, 114.21174233, 103.19701666,\n",
       "        88.93772525,  84.04653058, 102.9625329 , 103.01831975,\n",
       "        78.05840817, 109.11640186,  99.70694794,  99.92394038,\n",
       "        84.14863336, 111.60259289,  93.26075129, 106.57081259,\n",
       "        92.87246107,  99.78940111, 100.57657291,  90.66152639,\n",
       "       106.26211237,  75.29813844, 102.92936544, 104.98720754,\n",
       "       112.60748806, 109.05923661,  98.26053466, 117.42486027,\n",
       "       116.55219557,  87.03514163,  75.39271381, 108.26066417,\n",
       "       105.21255413,  98.76366218, 125.96564617, 110.73742564,\n",
       "       116.64411745,  83.11333343, 118.18581263, 114.81234647,\n",
       "        87.50892755, 109.88522714, 116.97925328,  93.84422013,\n",
       "       108.59383216, 117.35417156,  84.99883126, 105.6397241 ,\n",
       "       118.22595635, 100.86307125,  84.68608809, 120.08450275,\n",
       "       116.78601749, 109.5766307 , 104.5954731 , 109.85870879,\n",
       "        92.09148937, 113.23936707, 110.8224017 , 112.59343528,\n",
       "       110.38865817,  94.02060675, 110.33413048,  80.32908169,\n",
       "        84.2989175 , 100.02894949,  88.52788804, 118.1659297 ,\n",
       "       125.21279479, 111.05065861, 112.25644175,  77.51402661,\n",
       "       106.15119154, 107.93014534,  98.99006369, 109.72565338,\n",
       "       120.94199872,  88.34441879, 128.37029606,  92.95904393,\n",
       "       106.15412689,  93.61438305, 106.08261886, 114.58441405,\n",
       "       111.75116887,  95.04652833, 100.82109054, 120.28375967,\n",
       "       105.83370829,  99.99692379,  80.41740554,  90.88733193,\n",
       "        99.34242029, 103.78496051,  99.80269709,  75.53683582,\n",
       "        87.66567677, 100.05479558,  78.20424001,  96.60952063,\n",
       "       112.00060504,  96.38403326,  87.19912198,  89.51852974,\n",
       "       100.72520082, 123.93702488,  94.25912034, 103.68458874,\n",
       "       104.37277603, 104.52252428, 102.33217947,  78.22920227,\n",
       "       102.90321533,  90.68362178,  98.97264289,  91.97992707,\n",
       "       105.6780688 ,  82.59776145,  71.93574138, 112.66003177,\n",
       "       128.8310374 ,  99.16423992,  81.56562059, 101.03960803,\n",
       "        93.20565958, 104.67603752,  90.05783038, 116.13209353,\n",
       "        96.3220744 ,  83.36880629, 100.45460834, 106.05265851,\n",
       "        94.8852215 ,  86.26583882,  88.92962671,  82.90484631,\n",
       "       110.21028617, 108.52304417, 103.59120097, 108.56263965,\n",
       "       120.50942114,  98.58298623, 104.22843435,  79.46744297,\n",
       "        83.6821742 , 104.06192879, 102.88853616, 104.92370795,\n",
       "        81.66195271,  93.55985518,  97.66778701, 106.8844301 ,\n",
       "        85.63520201,  97.40225799,  83.23163401,  98.39096875,\n",
       "        97.80185633,  62.81569592, 100.82022817, 107.45920461,\n",
       "       103.78992372,  96.06759493, 133.40680159,  85.45123186,\n",
       "       105.55844085, 110.87924629,  96.70560103, 106.95692924,\n",
       "        92.91808154,  93.36361682,  80.25463026,  88.3464391 ,\n",
       "        94.71679244, 104.49313511,  88.57117912,  89.97384614,\n",
       "        88.25111038, 100.44690129, 118.72077671,  99.04579114,\n",
       "        87.08991724,  75.621538  , 127.4353682 ,  78.16171519,\n",
       "       116.90418501,  98.4797832 , 111.86128902,  97.12823227,\n",
       "        74.88003419,  95.902819  ,  97.438552  , 100.5206008 ,\n",
       "        88.0592416 , 113.65594334,  79.01184477, 104.32604506,\n",
       "       124.4989993 ,  85.37676467, 109.79144219,  96.90275509,\n",
       "        71.96046192,  96.84053335,  92.88348494,  81.65417289,\n",
       "       109.36238271,  91.64018086, 103.15035591, 110.68035335,\n",
       "       116.29107623, 117.30009855, 100.87113842,  65.22359556,\n",
       "       112.82948436,  99.39584936,  90.7203779 ,  78.52113822,\n",
       "       101.98901518, 108.16885761,  81.49955897, 120.43110305,\n",
       "        69.7856404 , 110.38294724,  93.77533825,  99.4689969 ,\n",
       "        90.11732808, 120.74399186, 112.69594753, 119.93593421,\n",
       "        92.59466028, 113.87887103,  88.62009453,  95.62778408,\n",
       "        93.30004544, 108.99811141, 125.33497337,  85.71136609,\n",
       "       109.84907502, 108.38909284,  90.77923269, 113.52056205,\n",
       "        87.19750053,  89.01024519,  71.36947076,  98.01582096,\n",
       "       120.00218561,  86.58074385,  90.43411014, 108.04816434,\n",
       "        97.20443445,  87.00690443, 106.26771136,  84.51258355,\n",
       "        87.33909025, 124.66210149,  73.57007568,  96.35183165,\n",
       "        80.51411471,  88.32673323, 127.89319823, 112.99881797,\n",
       "        91.82750211,  95.76216827, 121.5536871 , 113.68570661,\n",
       "       114.50251103,  95.86369447,  90.2389396 ,  77.96208759,\n",
       "       106.69217936,  81.17160332, 108.37616195,  85.2992831 ,\n",
       "       102.51742854, 103.26146383, 104.00241522, 115.92817335,\n",
       "        78.34955949,  96.91076104,  86.51427178,  69.76431712,\n",
       "        67.68289245, 121.39194773,  87.92749517,  98.70487191,\n",
       "        89.88911937, 104.22693302, 116.40908917, 101.78858511,\n",
       "        99.1149741 ,  78.48437201, 110.28929024,  80.72076225,\n",
       "        95.60058612, 110.87100007,  95.72258972, 103.19417254,\n",
       "       113.81768717, 100.6318381 , 110.91230297, 117.20854746,\n",
       "        88.73685424, 118.87478125,  68.37240617,  97.58084541,\n",
       "        87.27920783, 120.69367693, 110.39008759,  91.50664507,\n",
       "       127.5347542 , 118.66484343, 116.46894014,  96.54986177,\n",
       "        93.41274282, 124.45461638, 108.12200103,  89.17387794,\n",
       "        84.0270632 ,  87.91501439,  87.70355066, 109.33243305,\n",
       "        84.5274366 , 108.46136573,  80.08441198, 107.13825171,\n",
       "       107.59817597,  96.84132137, 114.27900963,  98.11261525,\n",
       "       100.43738691,  97.97793993, 109.64652019, 100.46510349,\n",
       "        98.95867817,  93.32685576,  76.37019405, 115.21425003,\n",
       "        94.95741468, 105.04343449,  72.96575952, 123.31004089,\n",
       "       131.64693278, 117.53456545, 100.6237158 ,  97.44428854,\n",
       "        74.09352721, 125.18148176, 121.93549955,  92.07606089,\n",
       "        88.56405004,  84.97812347,  84.78533375,  95.57547632,\n",
       "        89.99700343, 109.99950259,  84.91943804, 110.08301217,\n",
       "       123.2823855 , 134.26968376, 102.42722855, 102.00226983,\n",
       "        84.58841368,  78.95368541,  98.69713565, 120.85272395,\n",
       "        98.40730616, 129.0259501 ,  86.39517417, 101.87775328,\n",
       "        97.27985963, 118.63363299, 106.01515524,  89.98097941,\n",
       "       106.12374364, 112.21098105, 107.46753661,  82.43414838,\n",
       "       111.30021634, 128.45359519, 111.07051283,  82.68374755,\n",
       "       110.69063288, 125.52071488, 123.68591627,  73.81529008,\n",
       "        94.98586949, 102.84797304,  58.41006   ,  95.60709216,\n",
       "        87.44409657, 123.96297304,  99.69752824, 103.41939019,\n",
       "       125.78483933,  63.57431862,  95.60652617, 104.9504772 ,\n",
       "        79.44552693, 111.4505727 , 125.61674326, 105.30466824,\n",
       "        97.24114908, 108.1304543 ,  97.11344849, 106.86599898,\n",
       "        88.98995082, 104.83955055,  80.72849381,  95.32462777,\n",
       "       106.18928361,  95.76539167,  90.42094597, 107.91089466,\n",
       "        96.2024764 , 103.21750233,  94.46701415, 128.36375816,\n",
       "        74.70151726,  90.55681829, 106.11820945,  88.54105441,\n",
       "        77.96166107, 112.52323005,  96.86144179, 108.50076224,\n",
       "        75.0372264 , 109.34364895, 118.90875014, 128.1328349 ,\n",
       "       104.22750053,  92.48701895,  99.36277306,  76.35165271,\n",
       "        87.03105483, 125.53071848, 113.90158803,  81.47458219,\n",
       "       102.82337765, 112.45996326,  92.71048567, 109.44429599,\n",
       "        98.36183385,  94.94024164,  98.62986622,  81.01704538,\n",
       "        94.08221259,  84.28957733, 114.53257579,  79.3564776 ,\n",
       "       113.08527049,  93.56753869, 112.82614731, 100.86802096,\n",
       "       105.29117754,  97.67223061, 103.71527586,  98.30696094,\n",
       "       103.93314606,  73.10433339, 107.09228841, 112.34802587,\n",
       "       122.55804849,  89.70706602, 121.67104453, 102.33863404,\n",
       "        95.33038744, 111.75843099, 154.80805267,  94.78516928,\n",
       "       104.99095184, 119.75174803,  98.54434204, 100.13780535,\n",
       "       115.73562347, 100.12144838, 115.17289928,  90.99924706,\n",
       "        80.57736126,  98.40240544,  94.4326685 , 114.66068448,\n",
       "       113.64478781, 104.66816693, 112.47524019,  93.07153907,\n",
       "       102.33298585,  86.91889699, 124.79166018, 105.6200754 ,\n",
       "        76.18385679,  95.19989218, 109.63876553,  88.93550727,\n",
       "       108.62965635,  86.20693342, 108.94207951, 106.09096787,\n",
       "        90.62430169, 116.52692474, 126.35334935, 121.40411177,\n",
       "       141.37493207,  98.85311413,  94.19591961,  81.53373975,\n",
       "        93.08004475, 106.23721802,  89.31147537,  90.76847028,\n",
       "        73.94642027, 102.11107333,  93.07396705,  79.93140647,\n",
       "       111.0210394 , 107.09349806,  82.93824846,  74.94600207,\n",
       "       120.0881037 ,  91.23859241, 108.64637428, 112.82109531,\n",
       "       119.3581365 , 103.3032194 ,  92.14653901, 126.55644773,\n",
       "       101.32814291, 111.18153736, 105.41112488, 106.4234028 ,\n",
       "       109.07672154,  74.65285242,  86.76521409, 108.0987311 ,\n",
       "       104.18355857, 102.85896537, 104.73900725,  96.23165764,\n",
       "       111.51983243,  91.25773133, 104.64703991, 115.67545235,\n",
       "        83.377103  ,  84.1235161 ,  85.36429087, 103.6283666 ,\n",
       "       109.4251289 , 104.05650396,  77.21497836,  96.09635648,\n",
       "       102.93896653, 110.14954174, 108.93646797, 106.13930652,\n",
       "       126.47862829,  95.57318292, 109.99824718,  65.86732161,\n",
       "        88.89981512, 100.76799906, 117.1001779 , 118.47814756,\n",
       "       109.31519585, 101.37438792, 123.56474888,  84.64954672,\n",
       "        99.12407385, 101.61662186, 107.4183948 , 116.90519177,\n",
       "        85.87988696, 103.68605076,  97.05412056, 104.89741433,\n",
       "        54.74286014, 115.09061888, 116.82600411, 110.78210769,\n",
       "        72.53072628, 121.05967536,  51.42568717, 118.05105593,\n",
       "       124.52747938, 106.15900587, 120.65146429, 105.14718411,\n",
       "        91.85055772,  79.91628323,  82.97531565, 113.80863128,\n",
       "        88.95989692, 109.97157062,  72.07311163, 129.77276482,\n",
       "        91.7000743 , 120.03895775, 104.35214309,  84.14907921,\n",
       "        77.12495253,  86.28722839, 111.59006395, 105.89723904,\n",
       "        94.65735127, 109.0639147 , 112.33271795,  96.28283081])"
      ]
     },
     "metadata": {},
     "execution_count": 3
    }
   ],
   "source": [
    "samples =  np.random.normal(loc=100, scale=15, size=1000)\n",
    "samples"
   ]
  },
  {
   "cell_type": "code",
   "execution_count": null,
   "metadata": {},
   "outputs": [],
   "source": []
  },
  {
   "cell_type": "markdown",
   "metadata": {
    "id": "CDF8m3a4IYOC"
   },
   "source": [
    "Compute the **mean**, **median**, and **mode**"
   ]
  },
  {
   "cell_type": "code",
   "execution_count": 4,
   "metadata": {
    "id": "ZKbeqxaKIoNs"
   },
   "outputs": [
    {
     "output_type": "stream",
     "name": "stdout",
     "text": [
      "100.73299853913637\n101.496256256545\nModeResult(mode=array([51.42568717]), count=array([1]))\n"
     ]
    }
   ],
   "source": [
    "mean = np.mean(samples)\n",
    "median = np.median(samples)\n",
    "mode = st.mode(samples)\n",
    "\n",
    "print(mean)\n",
    "print(median)\n",
    "print(mode)"
   ]
  },
  {
   "cell_type": "markdown",
   "metadata": {
    "id": "skT8m39XI60w"
   },
   "source": [
    "Compute the **min**, **max**, **Q1**, **Q3**, and **interquartile range**"
   ]
  },
  {
   "cell_type": "code",
   "execution_count": 5,
   "metadata": {},
   "outputs": [],
   "source": [
    "df = pd.DataFrame(samples)"
   ]
  },
  {
   "cell_type": "code",
   "execution_count": 6,
   "metadata": {
    "id": "VaiDphm8It0O"
   },
   "outputs": [
    {
     "output_type": "stream",
     "name": "stdout",
     "text": [
      "0    51.425687\ndtype: float64\n0    154.808053\ndtype: float64\n0    90.526141\nName: 0.25, dtype: float64\n0    110.555704\nName: 0.75, dtype: float64\n0    20.029563\ndtype: float64\n"
     ]
    }
   ],
   "source": [
    "min = df.min()\n",
    "max = df.max()\n",
    "q1 = df.quantile(0.25)\n",
    "q3 = df.quantile(0.75)\n",
    "iqr = q3 - q1\n",
    "\n",
    "print(min)\n",
    "print(max)\n",
    "print(q1)\n",
    "print(q3)\n",
    "print(iqr)"
   ]
  },
  {
   "cell_type": "markdown",
   "metadata": {
    "id": "m53Dv3n5JHQi"
   },
   "source": [
    "Compute the **variance** and **standard deviation**"
   ]
  },
  {
   "cell_type": "code",
   "execution_count": 36,
   "metadata": {},
   "outputs": [],
   "source": [
    "import statistics as sta"
   ]
  },
  {
   "cell_type": "code",
   "execution_count": 8,
   "metadata": {
    "id": "6JFaAYdrJbeN"
   },
   "outputs": [
    {
     "output_type": "stream",
     "name": "stdout",
     "text": [
      "0    213.621857\n",
      "dtype: float64\n",
      "0    14.615808\n",
      "dtype: float64\n"
     ]
    }
   ],
   "source": [
    "variance = df.var()\n",
    "std_dev = df.std()\n",
    "\n",
    "print(variance)\n",
    "print(std_dev)"
   ]
  },
  {
   "cell_type": "markdown",
   "metadata": {
    "id": "5eup4hI1JzqX"
   },
   "source": [
    "Compute the **skewness** and **kurtosis**"
   ]
  },
  {
   "cell_type": "code",
   "execution_count": 9,
   "metadata": {
    "id": "YO3obyDnJ3_D"
   },
   "outputs": [
    {
     "output_type": "stream",
     "name": "stdout",
     "text": [
      "-0.09302954151815611\n0.12285515707141403\n"
     ]
    }
   ],
   "source": [
    "skewness = st.skew(samples)\n",
    "kurtosis = st.kurtosis(samples)\n",
    "\n",
    "print(skewness)\n",
    "print(kurtosis)"
   ]
  },
  {
   "cell_type": "markdown",
   "metadata": {
    "id": "a5UNc8PUKnbU"
   },
   "source": [
    "## NumPy Correlation Calculation"
   ]
  },
  {
   "cell_type": "markdown",
   "metadata": {
    "id": "cLiqxE1CMNTg"
   },
   "source": [
    "Create an array x of integers between 10 (inclusive) and 20 (exclusive). Use `np.arange()`"
   ]
  },
  {
   "cell_type": "code",
   "execution_count": 10,
   "metadata": {
    "id": "5LAaQ6w5L-2L"
   },
   "outputs": [
    {
     "output_type": "execute_result",
     "data": {
      "text/plain": [
       "array([10, 11, 12, 13, 14, 15, 16, 17, 18, 19])"
      ]
     },
     "metadata": {},
     "execution_count": 10
    }
   ],
   "source": [
    "x = np.arange(10, 20)\n",
    "x"
   ]
  },
  {
   "cell_type": "markdown",
   "metadata": {
    "id": "qyCIaukNMZPf"
   },
   "source": [
    "Then use `np.array()` to create a second array y containing 10 arbitrary integers."
   ]
  },
  {
   "cell_type": "code",
   "execution_count": 11,
   "metadata": {
    "id": "p27eW__gNMdh"
   },
   "outputs": [
    {
     "output_type": "execute_result",
     "data": {
      "text/plain": [
       "array([0.64113046, 0.53149905, 0.84919146, 0.92591114, 0.29442452,\n",
       "       0.72606888, 0.90526611, 0.93403299, 0.10064074, 0.62856521])"
      ]
     },
     "metadata": {},
     "execution_count": 11
    }
   ],
   "source": [
    "y = np.array(np.random.rand(10))\n",
    "y"
   ]
  },
  {
   "cell_type": "markdown",
   "metadata": {
    "id": "Kh_VeKwINSqS"
   },
   "source": [
    "Once you have two arrays of the same length, you can compute the **correlation coefficient** between x and y"
   ]
  },
  {
   "cell_type": "code",
   "execution_count": 30,
   "metadata": {},
   "outputs": [
    {
     "output_type": "execute_result",
     "data": {
      "text/plain": [
       "array([[1.        , 0.75864029],\n",
       "       [0.75864029, 1.        ]])"
      ]
     },
     "metadata": {},
     "execution_count": 30
    }
   ],
   "source": [
    "r =  np.corrcoef(x,y)\n",
    "r"
   ]
  },
  {
   "cell_type": "markdown",
   "metadata": {
    "id": "vXieLjYiNtPi"
   },
   "source": [
    "## Pandas Correlation Calculation"
   ]
  },
  {
   "cell_type": "markdown",
   "metadata": {
    "id": "z56t0k0qNvkr"
   },
   "source": [
    "Run the code below"
   ]
  },
  {
   "cell_type": "code",
   "execution_count": 33,
   "metadata": {
    "id": "9AVBMJCyNuwb"
   },
   "outputs": [],
   "source": [
    "x = pd.Series(range(10, 20))\n",
    "y = pd.Series([2, 1, 4, 5, 8, 12, 18, 25, 96, 48])"
   ]
  },
  {
   "cell_type": "markdown",
   "metadata": {
    "id": "ZajVXYe2OCih"
   },
   "source": [
    "Call the relevant method  to calculate Pearson's r correlation."
   ]
  },
  {
   "cell_type": "code",
   "execution_count": 41,
   "metadata": {},
   "outputs": [
    {
     "output_type": "execute_result",
     "data": {
      "text/plain": [
       "    0   1\n",
       "0  10   2\n",
       "1  11   1\n",
       "2  12   4\n",
       "3  13   5\n",
       "4  14   8\n",
       "5  15  12\n",
       "6  16  18\n",
       "7  17  25\n",
       "8  18  96\n",
       "9  19  48"
      ],
      "text/html": "<div>\n<style scoped>\n    .dataframe tbody tr th:only-of-type {\n        vertical-align: middle;\n    }\n\n    .dataframe tbody tr th {\n        vertical-align: top;\n    }\n\n    .dataframe thead th {\n        text-align: right;\n    }\n</style>\n<table border=\"1\" class=\"dataframe\">\n  <thead>\n    <tr style=\"text-align: right;\">\n      <th></th>\n      <th>0</th>\n      <th>1</th>\n    </tr>\n  </thead>\n  <tbody>\n    <tr>\n      <th>0</th>\n      <td>10</td>\n      <td>2</td>\n    </tr>\n    <tr>\n      <th>1</th>\n      <td>11</td>\n      <td>1</td>\n    </tr>\n    <tr>\n      <th>2</th>\n      <td>12</td>\n      <td>4</td>\n    </tr>\n    <tr>\n      <th>3</th>\n      <td>13</td>\n      <td>5</td>\n    </tr>\n    <tr>\n      <th>4</th>\n      <td>14</td>\n      <td>8</td>\n    </tr>\n    <tr>\n      <th>5</th>\n      <td>15</td>\n      <td>12</td>\n    </tr>\n    <tr>\n      <th>6</th>\n      <td>16</td>\n      <td>18</td>\n    </tr>\n    <tr>\n      <th>7</th>\n      <td>17</td>\n      <td>25</td>\n    </tr>\n    <tr>\n      <th>8</th>\n      <td>18</td>\n      <td>96</td>\n    </tr>\n    <tr>\n      <th>9</th>\n      <td>19</td>\n      <td>48</td>\n    </tr>\n  </tbody>\n</table>\n</div>"
     },
     "metadata": {},
     "execution_count": 41
    }
   ],
   "source": [
    "df3 = pd.DataFrame([x, y]).T\n",
    "df3"
   ]
  },
  {
   "cell_type": "code",
   "execution_count": 42,
   "metadata": {},
   "outputs": [
    {
     "output_type": "execute_result",
     "data": {
      "text/plain": [
       "         0        1\n",
       "0  1.00000  0.75864\n",
       "1  0.75864  1.00000"
      ],
      "text/html": "<div>\n<style scoped>\n    .dataframe tbody tr th:only-of-type {\n        vertical-align: middle;\n    }\n\n    .dataframe tbody tr th {\n        vertical-align: top;\n    }\n\n    .dataframe thead th {\n        text-align: right;\n    }\n</style>\n<table border=\"1\" class=\"dataframe\">\n  <thead>\n    <tr style=\"text-align: right;\">\n      <th></th>\n      <th>0</th>\n      <th>1</th>\n    </tr>\n  </thead>\n  <tbody>\n    <tr>\n      <th>0</th>\n      <td>1.00000</td>\n      <td>0.75864</td>\n    </tr>\n    <tr>\n      <th>1</th>\n      <td>0.75864</td>\n      <td>1.00000</td>\n    </tr>\n  </tbody>\n</table>\n</div>"
     },
     "metadata": {},
     "execution_count": 42
    }
   ],
   "source": [
    "df3.corr()"
   ]
  },
  {
   "cell_type": "code",
   "execution_count": 37,
   "metadata": {
    "id": "Ak_rkzbLOafj"
   },
   "outputs": [
    {
     "output_type": "execute_result",
     "data": {
      "text/plain": [
       "(0.758640289091187, 0.010964341301680813)"
      ]
     },
     "metadata": {},
     "execution_count": 37
    }
   ],
   "source": [
    "r = st.pearsonr(x,y)\n",
    "r"
   ]
  },
  {
   "cell_type": "markdown",
   "metadata": {
    "id": "1CygSbnROb9V"
   },
   "source": [
    "OPTIONAL. Call the relevant method to calculate Spearman's rho correlation."
   ]
  },
  {
   "cell_type": "code",
   "execution_count": 43,
   "metadata": {
    "id": "xp_QkXwmOlYY"
   },
   "outputs": [
    {
     "output_type": "execute_result",
     "data": {
      "text/plain": [
       "          0         1\n",
       "0  1.000000  0.975758\n",
       "1  0.975758  1.000000"
      ],
      "text/html": "<div>\n<style scoped>\n    .dataframe tbody tr th:only-of-type {\n        vertical-align: middle;\n    }\n\n    .dataframe tbody tr th {\n        vertical-align: top;\n    }\n\n    .dataframe thead th {\n        text-align: right;\n    }\n</style>\n<table border=\"1\" class=\"dataframe\">\n  <thead>\n    <tr style=\"text-align: right;\">\n      <th></th>\n      <th>0</th>\n      <th>1</th>\n    </tr>\n  </thead>\n  <tbody>\n    <tr>\n      <th>0</th>\n      <td>1.000000</td>\n      <td>0.975758</td>\n    </tr>\n    <tr>\n      <th>1</th>\n      <td>0.975758</td>\n      <td>1.000000</td>\n    </tr>\n  </tbody>\n</table>\n</div>"
     },
     "metadata": {},
     "execution_count": 43
    }
   ],
   "source": [
    "rho = df3.corr(method=\"spearman\")\n",
    "rho"
   ]
  },
  {
   "cell_type": "markdown",
   "metadata": {
    "id": "we7pg7kdOo7y"
   },
   "source": [
    "## Seaborn Dataset Tips"
   ]
  },
  {
   "cell_type": "markdown",
   "metadata": {
    "id": "VlzgFKN7OvqX"
   },
   "source": [
    "Import Seaborn Library"
   ]
  },
  {
   "cell_type": "code",
   "execution_count": 44,
   "metadata": {
    "id": "t-49JRRqO4pw"
   },
   "outputs": [],
   "source": [
    "import seaborn as sns"
   ]
  },
  {
   "cell_type": "code",
   "execution_count": null,
   "metadata": {},
   "outputs": [],
   "source": []
  },
  {
   "cell_type": "markdown",
   "metadata": {
    "id": "0INVBB4tO4y4"
   },
   "source": [
    "Load \"tips\" dataset from Seaborn"
   ]
  },
  {
   "cell_type": "code",
   "execution_count": 46,
   "metadata": {
    "id": "kieLvcM1PBv7"
   },
   "outputs": [
    {
     "output_type": "execute_result",
     "data": {
      "text/plain": [
       "     total_bill   tip     sex smoker   day    time  size\n",
       "0         16.99  1.01  Female     No   Sun  Dinner     2\n",
       "1         10.34  1.66    Male     No   Sun  Dinner     3\n",
       "2         21.01  3.50    Male     No   Sun  Dinner     3\n",
       "3         23.68  3.31    Male     No   Sun  Dinner     2\n",
       "4         24.59  3.61  Female     No   Sun  Dinner     4\n",
       "..          ...   ...     ...    ...   ...     ...   ...\n",
       "239       29.03  5.92    Male     No   Sat  Dinner     3\n",
       "240       27.18  2.00  Female    Yes   Sat  Dinner     2\n",
       "241       22.67  2.00    Male    Yes   Sat  Dinner     2\n",
       "242       17.82  1.75    Male     No   Sat  Dinner     2\n",
       "243       18.78  3.00  Female     No  Thur  Dinner     2\n",
       "\n",
       "[244 rows x 7 columns]"
      ],
      "text/html": "<div>\n<style scoped>\n    .dataframe tbody tr th:only-of-type {\n        vertical-align: middle;\n    }\n\n    .dataframe tbody tr th {\n        vertical-align: top;\n    }\n\n    .dataframe thead th {\n        text-align: right;\n    }\n</style>\n<table border=\"1\" class=\"dataframe\">\n  <thead>\n    <tr style=\"text-align: right;\">\n      <th></th>\n      <th>total_bill</th>\n      <th>tip</th>\n      <th>sex</th>\n      <th>smoker</th>\n      <th>day</th>\n      <th>time</th>\n      <th>size</th>\n    </tr>\n  </thead>\n  <tbody>\n    <tr>\n      <th>0</th>\n      <td>16.99</td>\n      <td>1.01</td>\n      <td>Female</td>\n      <td>No</td>\n      <td>Sun</td>\n      <td>Dinner</td>\n      <td>2</td>\n    </tr>\n    <tr>\n      <th>1</th>\n      <td>10.34</td>\n      <td>1.66</td>\n      <td>Male</td>\n      <td>No</td>\n      <td>Sun</td>\n      <td>Dinner</td>\n      <td>3</td>\n    </tr>\n    <tr>\n      <th>2</th>\n      <td>21.01</td>\n      <td>3.50</td>\n      <td>Male</td>\n      <td>No</td>\n      <td>Sun</td>\n      <td>Dinner</td>\n      <td>3</td>\n    </tr>\n    <tr>\n      <th>3</th>\n      <td>23.68</td>\n      <td>3.31</td>\n      <td>Male</td>\n      <td>No</td>\n      <td>Sun</td>\n      <td>Dinner</td>\n      <td>2</td>\n    </tr>\n    <tr>\n      <th>4</th>\n      <td>24.59</td>\n      <td>3.61</td>\n      <td>Female</td>\n      <td>No</td>\n      <td>Sun</td>\n      <td>Dinner</td>\n      <td>4</td>\n    </tr>\n    <tr>\n      <th>...</th>\n      <td>...</td>\n      <td>...</td>\n      <td>...</td>\n      <td>...</td>\n      <td>...</td>\n      <td>...</td>\n      <td>...</td>\n    </tr>\n    <tr>\n      <th>239</th>\n      <td>29.03</td>\n      <td>5.92</td>\n      <td>Male</td>\n      <td>No</td>\n      <td>Sat</td>\n      <td>Dinner</td>\n      <td>3</td>\n    </tr>\n    <tr>\n      <th>240</th>\n      <td>27.18</td>\n      <td>2.00</td>\n      <td>Female</td>\n      <td>Yes</td>\n      <td>Sat</td>\n      <td>Dinner</td>\n      <td>2</td>\n    </tr>\n    <tr>\n      <th>241</th>\n      <td>22.67</td>\n      <td>2.00</td>\n      <td>Male</td>\n      <td>Yes</td>\n      <td>Sat</td>\n      <td>Dinner</td>\n      <td>2</td>\n    </tr>\n    <tr>\n      <th>242</th>\n      <td>17.82</td>\n      <td>1.75</td>\n      <td>Male</td>\n      <td>No</td>\n      <td>Sat</td>\n      <td>Dinner</td>\n      <td>2</td>\n    </tr>\n    <tr>\n      <th>243</th>\n      <td>18.78</td>\n      <td>3.00</td>\n      <td>Female</td>\n      <td>No</td>\n      <td>Thur</td>\n      <td>Dinner</td>\n      <td>2</td>\n    </tr>\n  </tbody>\n</table>\n<p>244 rows × 7 columns</p>\n</div>"
     },
     "metadata": {},
     "execution_count": 46
    }
   ],
   "source": [
    "tips = sns.load_dataset(\"tips\")\n",
    "tips"
   ]
  },
  {
   "cell_type": "code",
   "execution_count": null,
   "metadata": {},
   "outputs": [],
   "source": []
  },
  {
   "cell_type": "markdown",
   "metadata": {
    "id": "o2ISqVQrPh5S"
   },
   "source": [
    "Generate descriptive statistics include those that summarize the central tendency, dispersion"
   ]
  },
  {
   "cell_type": "code",
   "execution_count": 47,
   "metadata": {
    "id": "FyFvmdbJPVg6"
   },
   "outputs": [
    {
     "output_type": "execute_result",
     "data": {
      "text/plain": [
       "            count       mean       std   min      25%     50%      75%    max\n",
       "total_bill  244.0  19.785943  8.902412  3.07  13.3475  17.795  24.1275  50.81\n",
       "tip         244.0   2.998279  1.383638  1.00   2.0000   2.900   3.5625  10.00\n",
       "size        244.0   2.569672  0.951100  1.00   2.0000   2.000   3.0000   6.00"
      ],
      "text/html": "<div>\n<style scoped>\n    .dataframe tbody tr th:only-of-type {\n        vertical-align: middle;\n    }\n\n    .dataframe tbody tr th {\n        vertical-align: top;\n    }\n\n    .dataframe thead th {\n        text-align: right;\n    }\n</style>\n<table border=\"1\" class=\"dataframe\">\n  <thead>\n    <tr style=\"text-align: right;\">\n      <th></th>\n      <th>count</th>\n      <th>mean</th>\n      <th>std</th>\n      <th>min</th>\n      <th>25%</th>\n      <th>50%</th>\n      <th>75%</th>\n      <th>max</th>\n    </tr>\n  </thead>\n  <tbody>\n    <tr>\n      <th>total_bill</th>\n      <td>244.0</td>\n      <td>19.785943</td>\n      <td>8.902412</td>\n      <td>3.07</td>\n      <td>13.3475</td>\n      <td>17.795</td>\n      <td>24.1275</td>\n      <td>50.81</td>\n    </tr>\n    <tr>\n      <th>tip</th>\n      <td>244.0</td>\n      <td>2.998279</td>\n      <td>1.383638</td>\n      <td>1.00</td>\n      <td>2.0000</td>\n      <td>2.900</td>\n      <td>3.5625</td>\n      <td>10.00</td>\n    </tr>\n    <tr>\n      <th>size</th>\n      <td>244.0</td>\n      <td>2.569672</td>\n      <td>0.951100</td>\n      <td>1.00</td>\n      <td>2.0000</td>\n      <td>2.000</td>\n      <td>3.0000</td>\n      <td>6.00</td>\n    </tr>\n  </tbody>\n</table>\n</div>"
     },
     "metadata": {},
     "execution_count": 47
    }
   ],
   "source": [
    "tips.describe().T"
   ]
  },
  {
   "cell_type": "markdown",
   "metadata": {
    "id": "3yCRK4VJPzRo"
   },
   "source": [
    "Call the relevant method to calculate pairwise Pearson's r correlation of columns"
   ]
  },
  {
   "cell_type": "code",
   "execution_count": 48,
   "metadata": {
    "id": "qwvGzDU8PGnM"
   },
   "outputs": [
    {
     "output_type": "execute_result",
     "data": {
      "text/plain": [
       "            total_bill       tip      size\n",
       "total_bill    1.000000  0.675734  0.598315\n",
       "tip           0.675734  1.000000  0.489299\n",
       "size          0.598315  0.489299  1.000000"
      ],
      "text/html": "<div>\n<style scoped>\n    .dataframe tbody tr th:only-of-type {\n        vertical-align: middle;\n    }\n\n    .dataframe tbody tr th {\n        vertical-align: top;\n    }\n\n    .dataframe thead th {\n        text-align: right;\n    }\n</style>\n<table border=\"1\" class=\"dataframe\">\n  <thead>\n    <tr style=\"text-align: right;\">\n      <th></th>\n      <th>total_bill</th>\n      <th>tip</th>\n      <th>size</th>\n    </tr>\n  </thead>\n  <tbody>\n    <tr>\n      <th>total_bill</th>\n      <td>1.000000</td>\n      <td>0.675734</td>\n      <td>0.598315</td>\n    </tr>\n    <tr>\n      <th>tip</th>\n      <td>0.675734</td>\n      <td>1.000000</td>\n      <td>0.489299</td>\n    </tr>\n    <tr>\n      <th>size</th>\n      <td>0.598315</td>\n      <td>0.489299</td>\n      <td>1.000000</td>\n    </tr>\n  </tbody>\n</table>\n</div>"
     },
     "metadata": {},
     "execution_count": 48
    }
   ],
   "source": [
    "tips.corr()"
   ]
  },
  {
   "cell_type": "code",
   "execution_count": null,
   "metadata": {},
   "outputs": [],
   "source": []
  }
 ],
 "metadata": {
  "colab": {
   "collapsed_sections": [],
   "name": "Statistics Assignment-2.ipynb adlı not defterinin kopyası",
   "provenance": [
    {
     "file_id": "1O2kbEFsoWUWvoxhJrHzFytRdK28a0OOr",
     "timestamp": 1624461294246
    }
   ]
  },
  "kernelspec": {
   "name": "python3",
   "display_name": "Python 3.9.2 64-bit"
  },
  "language_info": {
   "codemirror_mode": {
    "name": "ipython",
    "version": 3
   },
   "file_extension": ".py",
   "mimetype": "text/x-python",
   "name": "python",
   "nbconvert_exporter": "python",
   "pygments_lexer": "ipython3",
   "version": "3.9.2"
  },
  "interpreter": {
   "hash": "8aa71f66831ae3a9c893a3b058ea0ed6f85404695a12d9a8794cb7bab518847e"
  }
 },
 "nbformat": 4,
 "nbformat_minor": 1
}