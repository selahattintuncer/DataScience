{
 "metadata": {
  "language_info": {
   "codemirror_mode": {
    "name": "ipython",
    "version": 3
   },
   "file_extension": ".py",
   "mimetype": "text/x-python",
   "name": "python",
   "nbconvert_exporter": "python",
   "pygments_lexer": "ipython3",
   "version": "3.9.2"
  },
  "orig_nbformat": 4,
  "kernelspec": {
   "name": "python3",
   "display_name": "Python 3.9.2 64-bit"
  },
  "interpreter": {
   "hash": "8aa71f66831ae3a9c893a3b058ea0ed6f85404695a12d9a8794cb7bab518847e"
  }
 },
 "nbformat": 4,
 "nbformat_minor": 2,
 "cells": [
  {
   "cell_type": "code",
   "execution_count": 32,
   "metadata": {},
   "outputs": [],
   "source": [
    "import numpy as np \n",
    "import pandas as pd \n",
    "from scipy import stats\n",
    "import re\n",
    "import warnings"
   ]
  },
  {
   "cell_type": "code",
   "execution_count": null,
   "metadata": {},
   "outputs": [],
   "source": []
  },
  {
   "cell_type": "code",
   "execution_count": 4,
   "metadata": {},
   "outputs": [],
   "source": [
    "Json1 = [{'name': 'JOHN', 'age': 27}, {'name': 'HENRY2', 'age': 14}]\n",
    "\n",
    "Json2 = { 1:{'name': 'vikash', 'age': 27}, 2:{'name': 'Satyam', 'age': 14} }\n",
    "\n",
    "data = [{'id': 1, 'name': \"Cole Volk\", 'fitness': {'height': 130, 'weight': 60}}, {'name': \"Mose Reg\", 'fitness': {'height': 130, 'weight': 60}}, {'id': 2, 'name': 'Faye Raker', 'fitness': {'height': 130, 'weight': 60}}]"
   ]
  },
  {
   "cell_type": "code",
   "execution_count": 16,
   "metadata": {},
   "outputs": [
    {
     "output_type": "execute_result",
     "data": {
      "text/plain": [
       "     name  age\n",
       "0    JOHN   27\n",
       "1  HENRY2   14"
      ],
      "text/html": "<div>\n<style scoped>\n    .dataframe tbody tr th:only-of-type {\n        vertical-align: middle;\n    }\n\n    .dataframe tbody tr th {\n        vertical-align: top;\n    }\n\n    .dataframe thead th {\n        text-align: right;\n    }\n</style>\n<table border=\"1\" class=\"dataframe\">\n  <thead>\n    <tr style=\"text-align: right;\">\n      <th></th>\n      <th>name</th>\n      <th>age</th>\n    </tr>\n  </thead>\n  <tbody>\n    <tr>\n      <th>0</th>\n      <td>JOHN</td>\n      <td>27</td>\n    </tr>\n    <tr>\n      <th>1</th>\n      <td>HENRY2</td>\n      <td>14</td>\n    </tr>\n  </tbody>\n</table>\n</div>"
     },
     "metadata": {},
     "execution_count": 16
    }
   ],
   "source": [
    "df1 = pd.DataFrame(Json1)\n",
    "df1"
   ]
  },
  {
   "cell_type": "code",
   "execution_count": 103,
   "metadata": {},
   "outputs": [
    {
     "output_type": "execute_result",
     "data": {
      "text/plain": [
       "     name age\n",
       "1  vikash  27\n",
       "2  Satyam  14"
      ],
      "text/html": "<div>\n<style scoped>\n    .dataframe tbody tr th:only-of-type {\n        vertical-align: middle;\n    }\n\n    .dataframe tbody tr th {\n        vertical-align: top;\n    }\n\n    .dataframe thead th {\n        text-align: right;\n    }\n</style>\n<table border=\"1\" class=\"dataframe\">\n  <thead>\n    <tr style=\"text-align: right;\">\n      <th></th>\n      <th>name</th>\n      <th>age</th>\n    </tr>\n  </thead>\n  <tbody>\n    <tr>\n      <th>1</th>\n      <td>vikash</td>\n      <td>27</td>\n    </tr>\n    <tr>\n      <th>2</th>\n      <td>Satyam</td>\n      <td>14</td>\n    </tr>\n  </tbody>\n</table>\n</div>"
     },
     "metadata": {},
     "execution_count": 103
    }
   ],
   "source": [
    "df2 = pd.DataFrame(Json2).T\n",
    "df2"
   ]
  },
  {
   "cell_type": "code",
   "execution_count": 23,
   "metadata": {},
   "outputs": [
    {
     "output_type": "execute_result",
     "data": {
      "text/plain": [
       "    id        name                        fitness\n",
       "0  1.0   Cole Volk  {'height': 130, 'weight': 60}\n",
       "1  NaN    Mose Reg  {'height': 130, 'weight': 60}\n",
       "2  2.0  Faye Raker  {'height': 130, 'weight': 60}"
      ],
      "text/html": "<div>\n<style scoped>\n    .dataframe tbody tr th:only-of-type {\n        vertical-align: middle;\n    }\n\n    .dataframe tbody tr th {\n        vertical-align: top;\n    }\n\n    .dataframe thead th {\n        text-align: right;\n    }\n</style>\n<table border=\"1\" class=\"dataframe\">\n  <thead>\n    <tr style=\"text-align: right;\">\n      <th></th>\n      <th>id</th>\n      <th>name</th>\n      <th>fitness</th>\n    </tr>\n  </thead>\n  <tbody>\n    <tr>\n      <th>0</th>\n      <td>1.0</td>\n      <td>Cole Volk</td>\n      <td>{'height': 130, 'weight': 60}</td>\n    </tr>\n    <tr>\n      <th>1</th>\n      <td>NaN</td>\n      <td>Mose Reg</td>\n      <td>{'height': 130, 'weight': 60}</td>\n    </tr>\n    <tr>\n      <th>2</th>\n      <td>2.0</td>\n      <td>Faye Raker</td>\n      <td>{'height': 130, 'weight': 60}</td>\n    </tr>\n  </tbody>\n</table>\n</div>"
     },
     "metadata": {},
     "execution_count": 23
    }
   ],
   "source": [
    "df3 = pd.DataFrame(data)\n",
    "df3"
   ]
  },
  {
   "cell_type": "code",
   "execution_count": 29,
   "metadata": {},
   "outputs": [
    {
     "output_type": "execute_result",
     "data": {
      "text/plain": [
       "         name   age   id                        fitness\n",
       "0        JOHN  27.0  NaN                            NaN\n",
       "1      HENRY2  14.0  NaN                            NaN\n",
       "2      vikash  27.0  NaN                            NaN\n",
       "3      Satyam  14.0  NaN                            NaN\n",
       "4   Cole Volk   NaN  1.0  {'height': 130, 'weight': 60}\n",
       "5    Mose Reg   NaN  NaN  {'height': 130, 'weight': 60}\n",
       "6  Faye Raker   NaN  2.0  {'height': 130, 'weight': 60}"
      ],
      "text/html": "<div>\n<style scoped>\n    .dataframe tbody tr th:only-of-type {\n        vertical-align: middle;\n    }\n\n    .dataframe tbody tr th {\n        vertical-align: top;\n    }\n\n    .dataframe thead th {\n        text-align: right;\n    }\n</style>\n<table border=\"1\" class=\"dataframe\">\n  <thead>\n    <tr style=\"text-align: right;\">\n      <th></th>\n      <th>name</th>\n      <th>age</th>\n      <th>id</th>\n      <th>fitness</th>\n    </tr>\n  </thead>\n  <tbody>\n    <tr>\n      <th>0</th>\n      <td>JOHN</td>\n      <td>27.0</td>\n      <td>NaN</td>\n      <td>NaN</td>\n    </tr>\n    <tr>\n      <th>1</th>\n      <td>HENRY2</td>\n      <td>14.0</td>\n      <td>NaN</td>\n      <td>NaN</td>\n    </tr>\n    <tr>\n      <th>2</th>\n      <td>vikash</td>\n      <td>27.0</td>\n      <td>NaN</td>\n      <td>NaN</td>\n    </tr>\n    <tr>\n      <th>3</th>\n      <td>Satyam</td>\n      <td>14.0</td>\n      <td>NaN</td>\n      <td>NaN</td>\n    </tr>\n    <tr>\n      <th>4</th>\n      <td>Cole Volk</td>\n      <td>NaN</td>\n      <td>1.0</td>\n      <td>{'height': 130, 'weight': 60}</td>\n    </tr>\n    <tr>\n      <th>5</th>\n      <td>Mose Reg</td>\n      <td>NaN</td>\n      <td>NaN</td>\n      <td>{'height': 130, 'weight': 60}</td>\n    </tr>\n    <tr>\n      <th>6</th>\n      <td>Faye Raker</td>\n      <td>NaN</td>\n      <td>2.0</td>\n      <td>{'height': 130, 'weight': 60}</td>\n    </tr>\n  </tbody>\n</table>\n</div>"
     },
     "metadata": {},
     "execution_count": 29
    }
   ],
   "source": [
    "df_merge = df1.merge(df2, how=\"outer\")\n",
    "df_merge_2 = df_merge.merge(df3, how=\"outer\")\n",
    "df_merge_2"
   ]
  },
  {
   "cell_type": "code",
   "execution_count": 31,
   "metadata": {},
   "outputs": [
    {
     "output_type": "execute_result",
     "data": {
      "text/plain": [
       "         name   age                        fitness\n",
       "0        JOHN  27.0                            NaN\n",
       "1      HENRY2  14.0                            NaN\n",
       "2      vikash  27.0                            NaN\n",
       "3      Satyam  14.0                            NaN\n",
       "4   Cole Volk   NaN  {'height': 130, 'weight': 60}\n",
       "5    Mose Reg   NaN  {'height': 130, 'weight': 60}\n",
       "6  Faye Raker   NaN  {'height': 130, 'weight': 60}"
      ],
      "text/html": "<div>\n<style scoped>\n    .dataframe tbody tr th:only-of-type {\n        vertical-align: middle;\n    }\n\n    .dataframe tbody tr th {\n        vertical-align: top;\n    }\n\n    .dataframe thead th {\n        text-align: right;\n    }\n</style>\n<table border=\"1\" class=\"dataframe\">\n  <thead>\n    <tr style=\"text-align: right;\">\n      <th></th>\n      <th>name</th>\n      <th>age</th>\n      <th>fitness</th>\n    </tr>\n  </thead>\n  <tbody>\n    <tr>\n      <th>0</th>\n      <td>JOHN</td>\n      <td>27.0</td>\n      <td>NaN</td>\n    </tr>\n    <tr>\n      <th>1</th>\n      <td>HENRY2</td>\n      <td>14.0</td>\n      <td>NaN</td>\n    </tr>\n    <tr>\n      <th>2</th>\n      <td>vikash</td>\n      <td>27.0</td>\n      <td>NaN</td>\n    </tr>\n    <tr>\n      <th>3</th>\n      <td>Satyam</td>\n      <td>14.0</td>\n      <td>NaN</td>\n    </tr>\n    <tr>\n      <th>4</th>\n      <td>Cole Volk</td>\n      <td>NaN</td>\n      <td>{'height': 130, 'weight': 60}</td>\n    </tr>\n    <tr>\n      <th>5</th>\n      <td>Mose Reg</td>\n      <td>NaN</td>\n      <td>{'height': 130, 'weight': 60}</td>\n    </tr>\n    <tr>\n      <th>6</th>\n      <td>Faye Raker</td>\n      <td>NaN</td>\n      <td>{'height': 130, 'weight': 60}</td>\n    </tr>\n  </tbody>\n</table>\n</div>"
     },
     "metadata": {},
     "execution_count": 31
    }
   ],
   "source": [
    "df_merge_2.drop([\"id\"], axis=1)"
   ]
  },
  {
   "cell_type": "code",
   "execution_count": 33,
   "metadata": {},
   "outputs": [
    {
     "output_type": "execute_result",
     "data": {
      "text/plain": [
       "              Date Location  MinTemp  MaxTemp  Rainfall  Evaporation  \\\n",
       "0       2008-12-01   Albury     13.4     22.9       0.6          NaN   \n",
       "1       2008-12-02   Albury      7.4     25.1       0.0          NaN   \n",
       "2       2008-12-03   Albury     12.9     25.7       0.0          NaN   \n",
       "3       2008-12-04   Albury      9.2     28.0       0.0          NaN   \n",
       "4       2008-12-05   Albury     17.5     32.3       1.0          NaN   \n",
       "...            ...      ...      ...      ...       ...          ...   \n",
       "145455  2017-06-21    Uluru      2.8     23.4       0.0          NaN   \n",
       "145456  2017-06-22    Uluru      3.6     25.3       0.0          NaN   \n",
       "145457  2017-06-23    Uluru      5.4     26.9       0.0          NaN   \n",
       "145458  2017-06-24    Uluru      7.8     27.0       0.0          NaN   \n",
       "145459  2017-06-25    Uluru     14.9      NaN       0.0          NaN   \n",
       "\n",
       "        Sunshine WindGustDir  WindGustSpeed WindDir9am  ... Humidity9am  \\\n",
       "0            NaN           W           44.0          W  ...        71.0   \n",
       "1            NaN         WNW           44.0        NNW  ...        44.0   \n",
       "2            NaN         WSW           46.0          W  ...        38.0   \n",
       "3            NaN          NE           24.0         SE  ...        45.0   \n",
       "4            NaN           W           41.0        ENE  ...        82.0   \n",
       "...          ...         ...            ...        ...  ...         ...   \n",
       "145455       NaN           E           31.0         SE  ...        51.0   \n",
       "145456       NaN         NNW           22.0         SE  ...        56.0   \n",
       "145457       NaN           N           37.0         SE  ...        53.0   \n",
       "145458       NaN          SE           28.0        SSE  ...        51.0   \n",
       "145459       NaN         NaN            NaN        ESE  ...        62.0   \n",
       "\n",
       "        Humidity3pm  Pressure9am  Pressure3pm  Cloud9am  Cloud3pm  Temp9am  \\\n",
       "0              22.0       1007.7       1007.1       8.0       NaN     16.9   \n",
       "1              25.0       1010.6       1007.8       NaN       NaN     17.2   \n",
       "2              30.0       1007.6       1008.7       NaN       2.0     21.0   \n",
       "3              16.0       1017.6       1012.8       NaN       NaN     18.1   \n",
       "4              33.0       1010.8       1006.0       7.0       8.0     17.8   \n",
       "...             ...          ...          ...       ...       ...      ...   \n",
       "145455         24.0       1024.6       1020.3       NaN       NaN     10.1   \n",
       "145456         21.0       1023.5       1019.1       NaN       NaN     10.9   \n",
       "145457         24.0       1021.0       1016.8       NaN       NaN     12.5   \n",
       "145458         24.0       1019.4       1016.5       3.0       2.0     15.1   \n",
       "145459         36.0       1020.2       1017.9       8.0       8.0     15.0   \n",
       "\n",
       "        Temp3pm  RainToday  RainTomorrow  \n",
       "0          21.8         No            No  \n",
       "1          24.3         No            No  \n",
       "2          23.2         No            No  \n",
       "3          26.5         No            No  \n",
       "4          29.7         No            No  \n",
       "...         ...        ...           ...  \n",
       "145455     22.4         No            No  \n",
       "145456     24.5         No            No  \n",
       "145457     26.1         No            No  \n",
       "145458     26.0         No            No  \n",
       "145459     20.9         No           NaN  \n",
       "\n",
       "[145460 rows x 23 columns]"
      ],
      "text/html": "<div>\n<style scoped>\n    .dataframe tbody tr th:only-of-type {\n        vertical-align: middle;\n    }\n\n    .dataframe tbody tr th {\n        vertical-align: top;\n    }\n\n    .dataframe thead th {\n        text-align: right;\n    }\n</style>\n<table border=\"1\" class=\"dataframe\">\n  <thead>\n    <tr style=\"text-align: right;\">\n      <th></th>\n      <th>Date</th>\n      <th>Location</th>\n      <th>MinTemp</th>\n      <th>MaxTemp</th>\n      <th>Rainfall</th>\n      <th>Evaporation</th>\n      <th>Sunshine</th>\n      <th>WindGustDir</th>\n      <th>WindGustSpeed</th>\n      <th>WindDir9am</th>\n      <th>...</th>\n      <th>Humidity9am</th>\n      <th>Humidity3pm</th>\n      <th>Pressure9am</th>\n      <th>Pressure3pm</th>\n      <th>Cloud9am</th>\n      <th>Cloud3pm</th>\n      <th>Temp9am</th>\n      <th>Temp3pm</th>\n      <th>RainToday</th>\n      <th>RainTomorrow</th>\n    </tr>\n  </thead>\n  <tbody>\n    <tr>\n      <th>0</th>\n      <td>2008-12-01</td>\n      <td>Albury</td>\n      <td>13.4</td>\n      <td>22.9</td>\n      <td>0.6</td>\n      <td>NaN</td>\n      <td>NaN</td>\n      <td>W</td>\n      <td>44.0</td>\n      <td>W</td>\n      <td>...</td>\n      <td>71.0</td>\n      <td>22.0</td>\n      <td>1007.7</td>\n      <td>1007.1</td>\n      <td>8.0</td>\n      <td>NaN</td>\n      <td>16.9</td>\n      <td>21.8</td>\n      <td>No</td>\n      <td>No</td>\n    </tr>\n    <tr>\n      <th>1</th>\n      <td>2008-12-02</td>\n      <td>Albury</td>\n      <td>7.4</td>\n      <td>25.1</td>\n      <td>0.0</td>\n      <td>NaN</td>\n      <td>NaN</td>\n      <td>WNW</td>\n      <td>44.0</td>\n      <td>NNW</td>\n      <td>...</td>\n      <td>44.0</td>\n      <td>25.0</td>\n      <td>1010.6</td>\n      <td>1007.8</td>\n      <td>NaN</td>\n      <td>NaN</td>\n      <td>17.2</td>\n      <td>24.3</td>\n      <td>No</td>\n      <td>No</td>\n    </tr>\n    <tr>\n      <th>2</th>\n      <td>2008-12-03</td>\n      <td>Albury</td>\n      <td>12.9</td>\n      <td>25.7</td>\n      <td>0.0</td>\n      <td>NaN</td>\n      <td>NaN</td>\n      <td>WSW</td>\n      <td>46.0</td>\n      <td>W</td>\n      <td>...</td>\n      <td>38.0</td>\n      <td>30.0</td>\n      <td>1007.6</td>\n      <td>1008.7</td>\n      <td>NaN</td>\n      <td>2.0</td>\n      <td>21.0</td>\n      <td>23.2</td>\n      <td>No</td>\n      <td>No</td>\n    </tr>\n    <tr>\n      <th>3</th>\n      <td>2008-12-04</td>\n      <td>Albury</td>\n      <td>9.2</td>\n      <td>28.0</td>\n      <td>0.0</td>\n      <td>NaN</td>\n      <td>NaN</td>\n      <td>NE</td>\n      <td>24.0</td>\n      <td>SE</td>\n      <td>...</td>\n      <td>45.0</td>\n      <td>16.0</td>\n      <td>1017.6</td>\n      <td>1012.8</td>\n      <td>NaN</td>\n      <td>NaN</td>\n      <td>18.1</td>\n      <td>26.5</td>\n      <td>No</td>\n      <td>No</td>\n    </tr>\n    <tr>\n      <th>4</th>\n      <td>2008-12-05</td>\n      <td>Albury</td>\n      <td>17.5</td>\n      <td>32.3</td>\n      <td>1.0</td>\n      <td>NaN</td>\n      <td>NaN</td>\n      <td>W</td>\n      <td>41.0</td>\n      <td>ENE</td>\n      <td>...</td>\n      <td>82.0</td>\n      <td>33.0</td>\n      <td>1010.8</td>\n      <td>1006.0</td>\n      <td>7.0</td>\n      <td>8.0</td>\n      <td>17.8</td>\n      <td>29.7</td>\n      <td>No</td>\n      <td>No</td>\n    </tr>\n    <tr>\n      <th>...</th>\n      <td>...</td>\n      <td>...</td>\n      <td>...</td>\n      <td>...</td>\n      <td>...</td>\n      <td>...</td>\n      <td>...</td>\n      <td>...</td>\n      <td>...</td>\n      <td>...</td>\n      <td>...</td>\n      <td>...</td>\n      <td>...</td>\n      <td>...</td>\n      <td>...</td>\n      <td>...</td>\n      <td>...</td>\n      <td>...</td>\n      <td>...</td>\n      <td>...</td>\n      <td>...</td>\n    </tr>\n    <tr>\n      <th>145455</th>\n      <td>2017-06-21</td>\n      <td>Uluru</td>\n      <td>2.8</td>\n      <td>23.4</td>\n      <td>0.0</td>\n      <td>NaN</td>\n      <td>NaN</td>\n      <td>E</td>\n      <td>31.0</td>\n      <td>SE</td>\n      <td>...</td>\n      <td>51.0</td>\n      <td>24.0</td>\n      <td>1024.6</td>\n      <td>1020.3</td>\n      <td>NaN</td>\n      <td>NaN</td>\n      <td>10.1</td>\n      <td>22.4</td>\n      <td>No</td>\n      <td>No</td>\n    </tr>\n    <tr>\n      <th>145456</th>\n      <td>2017-06-22</td>\n      <td>Uluru</td>\n      <td>3.6</td>\n      <td>25.3</td>\n      <td>0.0</td>\n      <td>NaN</td>\n      <td>NaN</td>\n      <td>NNW</td>\n      <td>22.0</td>\n      <td>SE</td>\n      <td>...</td>\n      <td>56.0</td>\n      <td>21.0</td>\n      <td>1023.5</td>\n      <td>1019.1</td>\n      <td>NaN</td>\n      <td>NaN</td>\n      <td>10.9</td>\n      <td>24.5</td>\n      <td>No</td>\n      <td>No</td>\n    </tr>\n    <tr>\n      <th>145457</th>\n      <td>2017-06-23</td>\n      <td>Uluru</td>\n      <td>5.4</td>\n      <td>26.9</td>\n      <td>0.0</td>\n      <td>NaN</td>\n      <td>NaN</td>\n      <td>N</td>\n      <td>37.0</td>\n      <td>SE</td>\n      <td>...</td>\n      <td>53.0</td>\n      <td>24.0</td>\n      <td>1021.0</td>\n      <td>1016.8</td>\n      <td>NaN</td>\n      <td>NaN</td>\n      <td>12.5</td>\n      <td>26.1</td>\n      <td>No</td>\n      <td>No</td>\n    </tr>\n    <tr>\n      <th>145458</th>\n      <td>2017-06-24</td>\n      <td>Uluru</td>\n      <td>7.8</td>\n      <td>27.0</td>\n      <td>0.0</td>\n      <td>NaN</td>\n      <td>NaN</td>\n      <td>SE</td>\n      <td>28.0</td>\n      <td>SSE</td>\n      <td>...</td>\n      <td>51.0</td>\n      <td>24.0</td>\n      <td>1019.4</td>\n      <td>1016.5</td>\n      <td>3.0</td>\n      <td>2.0</td>\n      <td>15.1</td>\n      <td>26.0</td>\n      <td>No</td>\n      <td>No</td>\n    </tr>\n    <tr>\n      <th>145459</th>\n      <td>2017-06-25</td>\n      <td>Uluru</td>\n      <td>14.9</td>\n      <td>NaN</td>\n      <td>0.0</td>\n      <td>NaN</td>\n      <td>NaN</td>\n      <td>NaN</td>\n      <td>NaN</td>\n      <td>ESE</td>\n      <td>...</td>\n      <td>62.0</td>\n      <td>36.0</td>\n      <td>1020.2</td>\n      <td>1017.9</td>\n      <td>8.0</td>\n      <td>8.0</td>\n      <td>15.0</td>\n      <td>20.9</td>\n      <td>No</td>\n      <td>NaN</td>\n    </tr>\n  </tbody>\n</table>\n<p>145460 rows × 23 columns</p>\n</div>"
     },
     "metadata": {},
     "execution_count": 33
    }
   ],
   "source": [
    "df = pd.read_csv(\"weatherAUS.csv\")\n",
    "df"
   ]
  },
  {
   "cell_type": "code",
   "execution_count": null,
   "metadata": {},
   "outputs": [],
   "source": []
  },
  {
   "cell_type": "code",
   "execution_count": 34,
   "metadata": {},
   "outputs": [
    {
     "output_type": "execute_result",
     "data": {
      "text/plain": [
       "             MinTemp        MaxTemp       Rainfall   Evaporation  \\\n",
       "count  143975.000000  144199.000000  142199.000000  82670.000000   \n",
       "mean       12.194034      23.221348       2.360918      5.468232   \n",
       "std         6.398495       7.119049       8.478060      4.193704   \n",
       "min        -8.500000      -4.800000       0.000000      0.000000   \n",
       "25%         7.600000      17.900000       0.000000      2.600000   \n",
       "50%        12.000000      22.600000       0.000000      4.800000   \n",
       "75%        16.900000      28.200000       0.800000      7.400000   \n",
       "max        33.900000      48.100000     371.000000    145.000000   \n",
       "\n",
       "           Sunshine  WindGustSpeed   WindSpeed9am   WindSpeed3pm  \\\n",
       "count  75625.000000  135197.000000  143693.000000  142398.000000   \n",
       "mean       7.611178      40.035230      14.043426      18.662657   \n",
       "std        3.785483      13.607062       8.915375       8.809800   \n",
       "min        0.000000       6.000000       0.000000       0.000000   \n",
       "25%        4.800000      31.000000       7.000000      13.000000   \n",
       "50%        8.400000      39.000000      13.000000      19.000000   \n",
       "75%       10.600000      48.000000      19.000000      24.000000   \n",
       "max       14.500000     135.000000     130.000000      87.000000   \n",
       "\n",
       "         Humidity9am    Humidity3pm   Pressure9am    Pressure3pm  \\\n",
       "count  142806.000000  140953.000000  130395.00000  130432.000000   \n",
       "mean       68.880831      51.539116    1017.64994    1015.255889   \n",
       "std        19.029164      20.795902       7.10653       7.037414   \n",
       "min         0.000000       0.000000     980.50000     977.100000   \n",
       "25%        57.000000      37.000000    1012.90000    1010.400000   \n",
       "50%        70.000000      52.000000    1017.60000    1015.200000   \n",
       "75%        83.000000      66.000000    1022.40000    1020.000000   \n",
       "max       100.000000     100.000000    1041.00000    1039.600000   \n",
       "\n",
       "           Cloud9am      Cloud3pm        Temp9am       Temp3pm  \n",
       "count  89572.000000  86102.000000  143693.000000  141851.00000  \n",
       "mean       4.447461      4.509930      16.990631      21.68339  \n",
       "std        2.887159      2.720357       6.488753       6.93665  \n",
       "min        0.000000      0.000000      -7.200000      -5.40000  \n",
       "25%        1.000000      2.000000      12.300000      16.60000  \n",
       "50%        5.000000      5.000000      16.700000      21.10000  \n",
       "75%        7.000000      7.000000      21.600000      26.40000  \n",
       "max        9.000000      9.000000      40.200000      46.70000  "
      ],
      "text/html": "<div>\n<style scoped>\n    .dataframe tbody tr th:only-of-type {\n        vertical-align: middle;\n    }\n\n    .dataframe tbody tr th {\n        vertical-align: top;\n    }\n\n    .dataframe thead th {\n        text-align: right;\n    }\n</style>\n<table border=\"1\" class=\"dataframe\">\n  <thead>\n    <tr style=\"text-align: right;\">\n      <th></th>\n      <th>MinTemp</th>\n      <th>MaxTemp</th>\n      <th>Rainfall</th>\n      <th>Evaporation</th>\n      <th>Sunshine</th>\n      <th>WindGustSpeed</th>\n      <th>WindSpeed9am</th>\n      <th>WindSpeed3pm</th>\n      <th>Humidity9am</th>\n      <th>Humidity3pm</th>\n      <th>Pressure9am</th>\n      <th>Pressure3pm</th>\n      <th>Cloud9am</th>\n      <th>Cloud3pm</th>\n      <th>Temp9am</th>\n      <th>Temp3pm</th>\n    </tr>\n  </thead>\n  <tbody>\n    <tr>\n      <th>count</th>\n      <td>143975.000000</td>\n      <td>144199.000000</td>\n      <td>142199.000000</td>\n      <td>82670.000000</td>\n      <td>75625.000000</td>\n      <td>135197.000000</td>\n      <td>143693.000000</td>\n      <td>142398.000000</td>\n      <td>142806.000000</td>\n      <td>140953.000000</td>\n      <td>130395.00000</td>\n      <td>130432.000000</td>\n      <td>89572.000000</td>\n      <td>86102.000000</td>\n      <td>143693.000000</td>\n      <td>141851.00000</td>\n    </tr>\n    <tr>\n      <th>mean</th>\n      <td>12.194034</td>\n      <td>23.221348</td>\n      <td>2.360918</td>\n      <td>5.468232</td>\n      <td>7.611178</td>\n      <td>40.035230</td>\n      <td>14.043426</td>\n      <td>18.662657</td>\n      <td>68.880831</td>\n      <td>51.539116</td>\n      <td>1017.64994</td>\n      <td>1015.255889</td>\n      <td>4.447461</td>\n      <td>4.509930</td>\n      <td>16.990631</td>\n      <td>21.68339</td>\n    </tr>\n    <tr>\n      <th>std</th>\n      <td>6.398495</td>\n      <td>7.119049</td>\n      <td>8.478060</td>\n      <td>4.193704</td>\n      <td>3.785483</td>\n      <td>13.607062</td>\n      <td>8.915375</td>\n      <td>8.809800</td>\n      <td>19.029164</td>\n      <td>20.795902</td>\n      <td>7.10653</td>\n      <td>7.037414</td>\n      <td>2.887159</td>\n      <td>2.720357</td>\n      <td>6.488753</td>\n      <td>6.93665</td>\n    </tr>\n    <tr>\n      <th>min</th>\n      <td>-8.500000</td>\n      <td>-4.800000</td>\n      <td>0.000000</td>\n      <td>0.000000</td>\n      <td>0.000000</td>\n      <td>6.000000</td>\n      <td>0.000000</td>\n      <td>0.000000</td>\n      <td>0.000000</td>\n      <td>0.000000</td>\n      <td>980.50000</td>\n      <td>977.100000</td>\n      <td>0.000000</td>\n      <td>0.000000</td>\n      <td>-7.200000</td>\n      <td>-5.40000</td>\n    </tr>\n    <tr>\n      <th>25%</th>\n      <td>7.600000</td>\n      <td>17.900000</td>\n      <td>0.000000</td>\n      <td>2.600000</td>\n      <td>4.800000</td>\n      <td>31.000000</td>\n      <td>7.000000</td>\n      <td>13.000000</td>\n      <td>57.000000</td>\n      <td>37.000000</td>\n      <td>1012.90000</td>\n      <td>1010.400000</td>\n      <td>1.000000</td>\n      <td>2.000000</td>\n      <td>12.300000</td>\n      <td>16.60000</td>\n    </tr>\n    <tr>\n      <th>50%</th>\n      <td>12.000000</td>\n      <td>22.600000</td>\n      <td>0.000000</td>\n      <td>4.800000</td>\n      <td>8.400000</td>\n      <td>39.000000</td>\n      <td>13.000000</td>\n      <td>19.000000</td>\n      <td>70.000000</td>\n      <td>52.000000</td>\n      <td>1017.60000</td>\n      <td>1015.200000</td>\n      <td>5.000000</td>\n      <td>5.000000</td>\n      <td>16.700000</td>\n      <td>21.10000</td>\n    </tr>\n    <tr>\n      <th>75%</th>\n      <td>16.900000</td>\n      <td>28.200000</td>\n      <td>0.800000</td>\n      <td>7.400000</td>\n      <td>10.600000</td>\n      <td>48.000000</td>\n      <td>19.000000</td>\n      <td>24.000000</td>\n      <td>83.000000</td>\n      <td>66.000000</td>\n      <td>1022.40000</td>\n      <td>1020.000000</td>\n      <td>7.000000</td>\n      <td>7.000000</td>\n      <td>21.600000</td>\n      <td>26.40000</td>\n    </tr>\n    <tr>\n      <th>max</th>\n      <td>33.900000</td>\n      <td>48.100000</td>\n      <td>371.000000</td>\n      <td>145.000000</td>\n      <td>14.500000</td>\n      <td>135.000000</td>\n      <td>130.000000</td>\n      <td>87.000000</td>\n      <td>100.000000</td>\n      <td>100.000000</td>\n      <td>1041.00000</td>\n      <td>1039.600000</td>\n      <td>9.000000</td>\n      <td>9.000000</td>\n      <td>40.200000</td>\n      <td>46.70000</td>\n    </tr>\n  </tbody>\n</table>\n</div>"
     },
     "metadata": {},
     "execution_count": 34
    }
   ],
   "source": [
    "df.describe()"
   ]
  },
  {
   "cell_type": "code",
   "execution_count": 35,
   "metadata": {},
   "outputs": [
    {
     "output_type": "stream",
     "name": "stdout",
     "text": [
      "<class 'pandas.core.frame.DataFrame'>\nRangeIndex: 145460 entries, 0 to 145459\nData columns (total 23 columns):\n #   Column         Non-Null Count   Dtype  \n---  ------         --------------   -----  \n 0   Date           145460 non-null  object \n 1   Location       145460 non-null  object \n 2   MinTemp        143975 non-null  float64\n 3   MaxTemp        144199 non-null  float64\n 4   Rainfall       142199 non-null  float64\n 5   Evaporation    82670 non-null   float64\n 6   Sunshine       75625 non-null   float64\n 7   WindGustDir    135134 non-null  object \n 8   WindGustSpeed  135197 non-null  float64\n 9   WindDir9am     134894 non-null  object \n 10  WindDir3pm     141232 non-null  object \n 11  WindSpeed9am   143693 non-null  float64\n 12  WindSpeed3pm   142398 non-null  float64\n 13  Humidity9am    142806 non-null  float64\n 14  Humidity3pm    140953 non-null  float64\n 15  Pressure9am    130395 non-null  float64\n 16  Pressure3pm    130432 non-null  float64\n 17  Cloud9am       89572 non-null   float64\n 18  Cloud3pm       86102 non-null   float64\n 19  Temp9am        143693 non-null  float64\n 20  Temp3pm        141851 non-null  float64\n 21  RainToday      142199 non-null  object \n 22  RainTomorrow   142193 non-null  object \ndtypes: float64(16), object(7)\nmemory usage: 25.5+ MB\n"
     ]
    }
   ],
   "source": [
    "df.info()"
   ]
  },
  {
   "cell_type": "code",
   "execution_count": 39,
   "metadata": {},
   "outputs": [
    {
     "output_type": "execute_result",
     "data": {
      "text/plain": [
       "(145460, 23)"
      ]
     },
     "metadata": {},
     "execution_count": 39
    }
   ],
   "source": [
    "df.shape"
   ]
  },
  {
   "cell_type": "code",
   "execution_count": 73,
   "metadata": {},
   "outputs": [
    {
     "output_type": "execute_result",
     "data": {
      "text/plain": [
       "Date              object\n",
       "Location          object\n",
       "MinTemp          float64\n",
       "MaxTemp          float64\n",
       "Rainfall         float64\n",
       "Evaporation      float64\n",
       "Sunshine         float64\n",
       "WindGustDir       object\n",
       "WindGustSpeed    float64\n",
       "WindDir9am        object\n",
       "WindDir3pm        object\n",
       "WindSpeed9am     float64\n",
       "WindSpeed3pm     float64\n",
       "Humidity9am      float64\n",
       "Humidity3pm      float64\n",
       "Pressure9am      float64\n",
       "Pressure3pm      float64\n",
       "Cloud9am         float64\n",
       "Cloud3pm         float64\n",
       "Temp9am          float64\n",
       "Temp3pm          float64\n",
       "RainToday         object\n",
       "RainTomorrow      object\n",
       "dtype: object"
      ]
     },
     "metadata": {},
     "execution_count": 73
    }
   ],
   "source": [
    "df.dtypes"
   ]
  },
  {
   "cell_type": "code",
   "execution_count": 68,
   "metadata": {},
   "outputs": [
    {
     "output_type": "execute_result",
     "data": {
      "text/plain": [
       "Date             145460\n",
       "Location         145460\n",
       "MinTemp          143975\n",
       "MaxTemp          144199\n",
       "Rainfall         142199\n",
       "Evaporation       82670\n",
       "Sunshine          75625\n",
       "WindGustDir      135134\n",
       "WindGustSpeed    135197\n",
       "WindDir9am       134894\n",
       "WindDir3pm       141232\n",
       "WindSpeed9am     143693\n",
       "WindSpeed3pm     142398\n",
       "Humidity9am      142806\n",
       "Humidity3pm      140953\n",
       "Pressure9am      130395\n",
       "Pressure3pm      130432\n",
       "Cloud9am          89572\n",
       "Cloud3pm          86102\n",
       "Temp9am          143693\n",
       "Temp3pm          141851\n",
       "RainToday        142199\n",
       "RainTomorrow     142193\n",
       "dtype: int64"
      ]
     },
     "metadata": {},
     "execution_count": 68
    }
   ],
   "source": [
    "df.notnull().sum()"
   ]
  },
  {
   "cell_type": "code",
   "execution_count": 67,
   "metadata": {},
   "outputs": [
    {
     "output_type": "execute_result",
     "data": {
      "text/plain": [
       "Date                 0\n",
       "Location             0\n",
       "MinTemp           1485\n",
       "MaxTemp           1261\n",
       "Rainfall          3261\n",
       "Evaporation      62790\n",
       "Sunshine         69835\n",
       "WindGustDir      10326\n",
       "WindGustSpeed    10263\n",
       "WindDir9am       10566\n",
       "WindDir3pm        4228\n",
       "WindSpeed9am      1767\n",
       "WindSpeed3pm      3062\n",
       "Humidity9am       2654\n",
       "Humidity3pm       4507\n",
       "Pressure9am      15065\n",
       "Pressure3pm      15028\n",
       "Cloud9am         55888\n",
       "Cloud3pm         59358\n",
       "Temp9am           1767\n",
       "Temp3pm           3609\n",
       "RainToday         3261\n",
       "RainTomorrow      3267\n",
       "dtype: int64"
      ]
     },
     "metadata": {},
     "execution_count": 67
    }
   ],
   "source": [
    "df.isnull().sum()"
   ]
  },
  {
   "cell_type": "code",
   "execution_count": 70,
   "metadata": {},
   "outputs": [
    {
     "output_type": "execute_result",
     "data": {
      "text/plain": [
       "Date             3436\n",
       "Location           49\n",
       "MinTemp           389\n",
       "MaxTemp           505\n",
       "Rainfall          681\n",
       "Evaporation       358\n",
       "Sunshine          145\n",
       "WindGustDir        16\n",
       "WindGustSpeed      67\n",
       "WindDir9am         16\n",
       "WindDir3pm         16\n",
       "WindSpeed9am       43\n",
       "WindSpeed3pm       44\n",
       "Humidity9am       101\n",
       "Humidity3pm       101\n",
       "Pressure9am       546\n",
       "Pressure3pm       549\n",
       "Cloud9am           10\n",
       "Cloud3pm           10\n",
       "Temp9am           441\n",
       "Temp3pm           502\n",
       "RainToday           2\n",
       "RainTomorrow        2\n",
       "dtype: int64"
      ]
     },
     "metadata": {},
     "execution_count": 70
    }
   ],
   "source": [
    "df.nunique()"
   ]
  },
  {
   "cell_type": "code",
   "execution_count": 93,
   "metadata": {},
   "outputs": [
    {
     "output_type": "execute_result",
     "data": {
      "text/plain": [
       "                dtypes  notnull  nunique  isnull\n",
       "Date            object   145460     3436       0\n",
       "Location        object   145460       49       0\n",
       "MinTemp        float64   143975      389    1485\n",
       "MaxTemp        float64   144199      505    1261\n",
       "Rainfall       float64   142199      681    3261\n",
       "Evaporation    float64    82670      358   62790\n",
       "Sunshine       float64    75625      145   69835\n",
       "WindGustDir     object   135134       16   10326\n",
       "WindGustSpeed  float64   135197       67   10263\n",
       "WindDir9am      object   134894       16   10566\n",
       "WindDir3pm      object   141232       16    4228\n",
       "WindSpeed9am   float64   143693       43    1767\n",
       "WindSpeed3pm   float64   142398       44    3062\n",
       "Humidity9am    float64   142806      101    2654\n",
       "Humidity3pm    float64   140953      101    4507\n",
       "Pressure9am    float64   130395      546   15065\n",
       "Pressure3pm    float64   130432      549   15028\n",
       "Cloud9am       float64    89572       10   55888\n",
       "Cloud3pm       float64    86102       10   59358\n",
       "Temp9am        float64   143693      441    1767\n",
       "Temp3pm        float64   141851      502    3609\n",
       "RainToday       object   142199        2    3261\n",
       "RainTomorrow    object   142193        2    3267"
      ],
      "text/html": "<div>\n<style scoped>\n    .dataframe tbody tr th:only-of-type {\n        vertical-align: middle;\n    }\n\n    .dataframe tbody tr th {\n        vertical-align: top;\n    }\n\n    .dataframe thead th {\n        text-align: right;\n    }\n</style>\n<table border=\"1\" class=\"dataframe\">\n  <thead>\n    <tr style=\"text-align: right;\">\n      <th></th>\n      <th>dtypes</th>\n      <th>notnull</th>\n      <th>nunique</th>\n      <th>isnull</th>\n    </tr>\n  </thead>\n  <tbody>\n    <tr>\n      <th>Date</th>\n      <td>object</td>\n      <td>145460</td>\n      <td>3436</td>\n      <td>0</td>\n    </tr>\n    <tr>\n      <th>Location</th>\n      <td>object</td>\n      <td>145460</td>\n      <td>49</td>\n      <td>0</td>\n    </tr>\n    <tr>\n      <th>MinTemp</th>\n      <td>float64</td>\n      <td>143975</td>\n      <td>389</td>\n      <td>1485</td>\n    </tr>\n    <tr>\n      <th>MaxTemp</th>\n      <td>float64</td>\n      <td>144199</td>\n      <td>505</td>\n      <td>1261</td>\n    </tr>\n    <tr>\n      <th>Rainfall</th>\n      <td>float64</td>\n      <td>142199</td>\n      <td>681</td>\n      <td>3261</td>\n    </tr>\n    <tr>\n      <th>Evaporation</th>\n      <td>float64</td>\n      <td>82670</td>\n      <td>358</td>\n      <td>62790</td>\n    </tr>\n    <tr>\n      <th>Sunshine</th>\n      <td>float64</td>\n      <td>75625</td>\n      <td>145</td>\n      <td>69835</td>\n    </tr>\n    <tr>\n      <th>WindGustDir</th>\n      <td>object</td>\n      <td>135134</td>\n      <td>16</td>\n      <td>10326</td>\n    </tr>\n    <tr>\n      <th>WindGustSpeed</th>\n      <td>float64</td>\n      <td>135197</td>\n      <td>67</td>\n      <td>10263</td>\n    </tr>\n    <tr>\n      <th>WindDir9am</th>\n      <td>object</td>\n      <td>134894</td>\n      <td>16</td>\n      <td>10566</td>\n    </tr>\n    <tr>\n      <th>WindDir3pm</th>\n      <td>object</td>\n      <td>141232</td>\n      <td>16</td>\n      <td>4228</td>\n    </tr>\n    <tr>\n      <th>WindSpeed9am</th>\n      <td>float64</td>\n      <td>143693</td>\n      <td>43</td>\n      <td>1767</td>\n    </tr>\n    <tr>\n      <th>WindSpeed3pm</th>\n      <td>float64</td>\n      <td>142398</td>\n      <td>44</td>\n      <td>3062</td>\n    </tr>\n    <tr>\n      <th>Humidity9am</th>\n      <td>float64</td>\n      <td>142806</td>\n      <td>101</td>\n      <td>2654</td>\n    </tr>\n    <tr>\n      <th>Humidity3pm</th>\n      <td>float64</td>\n      <td>140953</td>\n      <td>101</td>\n      <td>4507</td>\n    </tr>\n    <tr>\n      <th>Pressure9am</th>\n      <td>float64</td>\n      <td>130395</td>\n      <td>546</td>\n      <td>15065</td>\n    </tr>\n    <tr>\n      <th>Pressure3pm</th>\n      <td>float64</td>\n      <td>130432</td>\n      <td>549</td>\n      <td>15028</td>\n    </tr>\n    <tr>\n      <th>Cloud9am</th>\n      <td>float64</td>\n      <td>89572</td>\n      <td>10</td>\n      <td>55888</td>\n    </tr>\n    <tr>\n      <th>Cloud3pm</th>\n      <td>float64</td>\n      <td>86102</td>\n      <td>10</td>\n      <td>59358</td>\n    </tr>\n    <tr>\n      <th>Temp9am</th>\n      <td>float64</td>\n      <td>143693</td>\n      <td>441</td>\n      <td>1767</td>\n    </tr>\n    <tr>\n      <th>Temp3pm</th>\n      <td>float64</td>\n      <td>141851</td>\n      <td>502</td>\n      <td>3609</td>\n    </tr>\n    <tr>\n      <th>RainToday</th>\n      <td>object</td>\n      <td>142199</td>\n      <td>2</td>\n      <td>3261</td>\n    </tr>\n    <tr>\n      <th>RainTomorrow</th>\n      <td>object</td>\n      <td>142193</td>\n      <td>2</td>\n      <td>3267</td>\n    </tr>\n  </tbody>\n</table>\n</div>"
     },
     "metadata": {},
     "execution_count": 93
    }
   ],
   "source": [
    "date_typ = df.dtypes\n",
    "not_null = df.notnull().sum()\n",
    "nun_ique = df.nunique()\n",
    "is_null = df.isnull().sum()\n",
    "\n",
    "\n",
    "df_new_table = pd.concat([date_typ, not_null, nun_ique, is_null], axis=1)\n",
    "df_new_table = df_new_table.rename(columns={0: \"dtypes\", 1:\"notnull\", 2:\"nunique\",3:\"isnull\" })\n",
    "df_new_table"
   ]
  },
  {
   "cell_type": "code",
   "execution_count": 101,
   "metadata": {},
   "outputs": [
    {
     "output_type": "execute_result",
     "data": {
      "text/plain": [
       "Index(['date', 'location', 'mintemp', 'maxtemp', 'rainfall', 'evaporation',\n",
       "       'sunshine', 'windgustdir', 'windgustspeed', 'winddir9am', 'winddir3pm',\n",
       "       'windspeed9am', 'windspeed3pm', 'humidity9am', 'humidity3pm',\n",
       "       'pressure9am', 'pressure3pm', 'cloud9am', 'cloud3pm', 'temp9am',\n",
       "       'temp3pm', 'raintoday', 'raintomorrow'],\n",
       "      dtype='object')"
      ]
     },
     "metadata": {},
     "execution_count": 101
    }
   ],
   "source": [
    "df.columns = df.columns.str.lower()\n",
    "df.columns"
   ]
  },
  {
   "cell_type": "code",
   "execution_count": null,
   "metadata": {},
   "outputs": [],
   "source": []
  },
  {
   "cell_type": "code",
   "execution_count": null,
   "metadata": {},
   "outputs": [],
   "source": []
  },
  {
   "cell_type": "code",
   "execution_count": null,
   "metadata": {},
   "outputs": [],
   "source": []
  },
  {
   "cell_type": "code",
   "execution_count": null,
   "metadata": {},
   "outputs": [],
   "source": []
  },
  {
   "cell_type": "code",
   "execution_count": null,
   "metadata": {},
   "outputs": [],
   "source": [
    "rf.dt"
   ]
  },
  {
   "cell_type": "code",
   "execution_count": null,
   "metadata": {},
   "outputs": [],
   "source": []
  },
  {
   "cell_type": "code",
   "execution_count": null,
   "metadata": {},
   "outputs": [],
   "source": []
  },
  {
   "cell_type": "code",
   "execution_count": null,
   "metadata": {},
   "outputs": [],
   "source": []
  },
  {
   "cell_type": "code",
   "execution_count": null,
   "metadata": {},
   "outputs": [],
   "source": []
  },
  {
   "cell_type": "code",
   "execution_count": null,
   "metadata": {},
   "outputs": [],
   "source": []
  },
  {
   "cell_type": "code",
   "execution_count": null,
   "metadata": {},
   "outputs": [],
   "source": []
  },
  {
   "cell_type": "code",
   "execution_count": null,
   "metadata": {},
   "outputs": [],
   "source": []
  }
 ]
}