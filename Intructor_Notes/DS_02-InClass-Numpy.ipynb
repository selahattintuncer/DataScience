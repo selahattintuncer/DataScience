{
 "cells": [
  {
   "cell_type": "markdown",
   "id": "quick-oxford",
   "metadata": {},
   "source": [
    "# Numpy : Numerical Python"
   ]
  },
  {
   "cell_type": "code",
   "execution_count": null,
   "id": "grand-princess",
   "metadata": {},
   "outputs": [],
   "source": [
    "# iki farklı diziyi birbiriyle işleme tabi tutabiliriz. çarpabiliriz, bölebiliriz karekök alabiliz vs.\n",
    "# Bunu listelerle yapamayız."
   ]
  },
  {
   "cell_type": "markdown",
   "id": "chubby-africa",
   "metadata": {},
   "source": [
    "# Why Numpy?"
   ]
  },
  {
   "cell_type": "code",
   "execution_count": 1,
   "id": "herbal-carter",
   "metadata": {},
   "outputs": [],
   "source": [
    "# öncelikle numpy ı import edelim\n",
    "\n",
    "import numpy as np"
   ]
  },
  {
   "cell_type": "code",
   "execution_count": 2,
   "id": "bibliographic-amendment",
   "metadata": {},
   "outputs": [
    {
     "data": {
      "text/plain": [
       "[1, 2, 3]"
      ]
     },
     "execution_count": 2,
     "metadata": {},
     "output_type": "execute_result"
    }
   ],
   "source": [
    "my_list = [1, 2, 3]\n",
    "my_list"
   ]
  },
  {
   "cell_type": "code",
   "execution_count": null,
   "id": "accepted-maple",
   "metadata": {},
   "outputs": [],
   "source": [
    "# şimdi listemizi array haline getirelim. bunun için array() build-in fonksiyonunu kullanacağız.\n",
    "\n",
    "np.array(my_list)"
   ]
  },
  {
   "cell_type": "code",
   "execution_count": 3,
   "id": "affiliated-trailer",
   "metadata": {},
   "outputs": [],
   "source": [
    "arr = np.array(my_list)"
   ]
  },
  {
   "cell_type": "code",
   "execution_count": 4,
   "id": "administrative-feeding",
   "metadata": {},
   "outputs": [
    {
     "data": {
      "text/plain": [
       "numpy.ndarray"
      ]
     },
     "execution_count": 4,
     "metadata": {},
     "output_type": "execute_result"
    }
   ],
   "source": [
    "type(arr)"
   ]
  },
  {
   "cell_type": "markdown",
   "id": "common-mailing",
   "metadata": {},
   "source": [
    "# Why Numpy?"
   ]
  },
  {
   "cell_type": "code",
   "execution_count": null,
   "id": "israeli-jaguar",
   "metadata": {},
   "outputs": [],
   "source": [
    "\"\"\"\n",
    "NumPy sadece daha verimli değil; ayrıca daha uygundur. Ücretsiz olarak birçok vektör\n",
    "ve matris işlemi elde edersiniz, bu da bazen gereksiz işlerden kaçınmanıza izin verir. \n",
    "Ve ayrıca verimli bir şekilde uygulanırlar. Ayrıca, birçok yararlı kütüphane NumPy dizileriyle çalışır.\n",
    " Örneğin, istatistiksel analiz ve görselleştirme kütüphaneleri.\n",
    "\"\"\""
   ]
  },
  {
   "cell_type": "code",
   "execution_count": 5,
   "id": "romance-isolation",
   "metadata": {},
   "outputs": [],
   "source": [
    "a = [1,2,3,4]\n",
    "b = [2,3,4,5]"
   ]
  },
  {
   "cell_type": "code",
   "execution_count": 7,
   "id": "outer-reaction",
   "metadata": {},
   "outputs": [
    {
     "data": {
      "text/plain": [
       "[2, 6, 12, 20]"
      ]
     },
     "execution_count": 7,
     "metadata": {},
     "output_type": "execute_result"
    }
   ],
   "source": [
    "ab = []\n",
    "\n",
    "for i in range(0, len(a)):\n",
    "    ab.append(a[i] * b[i])\n",
    "              \n",
    "ab\n",
    "\n",
    "# fakat bu yorucu ve çok yer kaplayan bir işlemdir."
   ]
  },
  {
   "cell_type": "code",
   "execution_count": 8,
   "id": "casual-disclosure",
   "metadata": {},
   "outputs": [],
   "source": [
    "# şimdi bu işlemi array ile çok daha hızlı bir şekilde yapıldığını görelim.\n",
    "\n",
    "a1 = np.array(a)\n",
    "b1 = np.array(b)"
   ]
  },
  {
   "cell_type": "code",
   "execution_count": 9,
   "id": "settled-museum",
   "metadata": {},
   "outputs": [
    {
     "data": {
      "text/plain": [
       "array([ 2,  6, 12, 20])"
      ]
     },
     "execution_count": 9,
     "metadata": {},
     "output_type": "execute_result"
    }
   ],
   "source": [
    "a1 * b1"
   ]
  },
  {
   "cell_type": "code",
   "execution_count": 10,
   "id": "arabic-testing",
   "metadata": {},
   "outputs": [],
   "source": [
    "# şimdi bir matrix oluşturalım.\n",
    "\n",
    "my_matrix = [[1,2,3], [4,5,6], [7,8,9]]\n"
   ]
  },
  {
   "cell_type": "code",
   "execution_count": 11,
   "id": "periodic-promotion",
   "metadata": {},
   "outputs": [
    {
     "data": {
      "text/plain": [
       "array([[1, 2, 3],\n",
       "       [4, 5, 6],\n",
       "       [7, 8, 9]])"
      ]
     },
     "execution_count": 11,
     "metadata": {},
     "output_type": "execute_result"
    }
   ],
   "source": [
    "np.array(my_matrix)\n",
    "\n",
    "# 3'er elemandan oluşan 3 listeyi kullanarak 3 satır ve 3 sütundan oluşan bir matrix oluşturduk"
   ]
  },
  {
   "cell_type": "markdown",
   "id": "floral-roots",
   "metadata": {},
   "source": [
    "# Build-in Methods"
   ]
  },
  {
   "cell_type": "markdown",
   "id": "sacred-basis",
   "metadata": {},
   "source": [
    "# arange"
   ]
  },
  {
   "cell_type": "code",
   "execution_count": 13,
   "id": "behind-modification",
   "metadata": {},
   "outputs": [
    {
     "data": {
      "text/plain": [
       "array([0, 1, 2, 3, 4, 5, 6, 7, 8, 9])"
      ]
     },
     "execution_count": 13,
     "metadata": {},
     "output_type": "execute_result"
    }
   ],
   "source": [
    "# 0 ile 10 arasında (son rakam rakam hariç) bir dizi oluşturalım\n",
    "np.arange(0, 10)"
   ]
  },
  {
   "cell_type": "code",
   "execution_count": 14,
   "id": "protective-denver",
   "metadata": {},
   "outputs": [
    {
     "data": {
      "text/plain": [
       "array([ 0,  2,  4,  6,  8, 10])"
      ]
     },
     "execution_count": 14,
     "metadata": {},
     "output_type": "execute_result"
    }
   ],
   "source": [
    "# # 0 dan 10 a kadar (10 hariç) 2 şer atlayarak dizi oluşturalım.\n",
    "\n",
    "np.arange(0 , 11, 2) "
   ]
  },
  {
   "cell_type": "code",
   "execution_count": 15,
   "id": "polish-volunteer",
   "metadata": {},
   "outputs": [
    {
     "data": {
      "text/plain": [
       "array([ 0,  3,  6,  9, 12, 15, 18, 21, 24, 27, 30])"
      ]
     },
     "execution_count": 15,
     "metadata": {},
     "output_type": "execute_result"
    }
   ],
   "source": [
    "np.arange(0, 31, 3)"
   ]
  },
  {
   "cell_type": "code",
   "execution_count": 16,
   "id": "virgin-prayer",
   "metadata": {},
   "outputs": [
    {
     "data": {
      "text/plain": [
       "array([30, 29, 28, 27, 26, 25, 24, 23, 22, 21, 20, 19, 18, 17, 16, 15, 14,\n",
       "       13, 12, 11, 10,  9,  8,  7,  6,  5,  4,  3,  2,  1])"
      ]
     },
     "execution_count": 16,
     "metadata": {},
     "output_type": "execute_result"
    }
   ],
   "source": [
    "np.arange(30, 0, -1)"
   ]
  },
  {
   "cell_type": "markdown",
   "id": "aggregate-pepper",
   "metadata": {},
   "source": [
    "# zeros, ones and full"
   ]
  },
  {
   "cell_type": "code",
   "execution_count": 17,
   "id": "blond-surname",
   "metadata": {},
   "outputs": [
    {
     "data": {
      "text/plain": [
       "array([0., 0., 0.])"
      ]
     },
     "execution_count": 17,
     "metadata": {},
     "output_type": "execute_result"
    }
   ],
   "source": [
    "# sıfırlardan oluşan kayan noktalı dizi oluşturalım\n",
    "\n",
    "np.zeros(3)"
   ]
  },
  {
   "cell_type": "code",
   "execution_count": 18,
   "id": "hired-transcription",
   "metadata": {},
   "outputs": [
    {
     "data": {
      "text/plain": [
       "array([0., 0., 0., 0., 0., 0., 0., 0., 0., 0.])"
      ]
     },
     "execution_count": 18,
     "metadata": {},
     "output_type": "execute_result"
    }
   ],
   "source": [
    "np.zeros(10)"
   ]
  },
  {
   "cell_type": "code",
   "execution_count": 19,
   "id": "pressed-august",
   "metadata": {},
   "outputs": [
    {
     "data": {
      "text/plain": [
       "array([[0., 0., 0.],\n",
       "       [0., 0., 0.],\n",
       "       [0., 0., 0.]])"
      ]
     },
     "execution_count": 19,
     "metadata": {},
     "output_type": "execute_result"
    }
   ],
   "source": [
    "# dizimizi şekillendirelim. 3 e 3 matrix yapalım\n",
    "\n",
    "np.zeros((3,3))"
   ]
  },
  {
   "cell_type": "code",
   "execution_count": 20,
   "id": "incident-foster",
   "metadata": {},
   "outputs": [
    {
     "data": {
      "text/plain": [
       "array([[False, False, False],\n",
       "       [False, False, False],\n",
       "       [False, False, False]])"
      ]
     },
     "execution_count": 20,
     "metadata": {},
     "output_type": "execute_result"
    }
   ],
   "source": [
    "np.zeros((3,3), dtype=bool)\n",
    "\n",
    "# dizimiz 0 lardan oluştuğu için elemanlar False'a döndü"
   ]
  },
  {
   "cell_type": "code",
   "execution_count": 21,
   "id": "nervous-development",
   "metadata": {},
   "outputs": [
    {
     "data": {
      "text/plain": [
       "array([1., 1., 1., 1., 1., 1., 1., 1., 1., 1.])"
      ]
     },
     "execution_count": 21,
     "metadata": {},
     "output_type": "execute_result"
    }
   ],
   "source": [
    " # birlerden oluşan dizi yapalım\n",
    "\n",
    "np.ones(10)"
   ]
  },
  {
   "cell_type": "code",
   "execution_count": 22,
   "id": "affecting-badge",
   "metadata": {},
   "outputs": [
    {
     "data": {
      "text/plain": [
       "array([1, 1, 1, 1, 1, 1, 1, 1, 1, 1])"
      ]
     },
     "execution_count": 22,
     "metadata": {},
     "output_type": "execute_result"
    }
   ],
   "source": [
    "# noktalarını kaldırıp integer yapalım\n",
    "\n",
    "np.ones(10, dtype=int)"
   ]
  },
  {
   "cell_type": "code",
   "execution_count": 23,
   "id": "ordinary-proxy",
   "metadata": {},
   "outputs": [
    {
     "data": {
      "text/plain": [
       "array([[1., 1., 1., 1., 1., 1., 1., 1., 1., 1.],\n",
       "       [1., 1., 1., 1., 1., 1., 1., 1., 1., 1.],\n",
       "       [1., 1., 1., 1., 1., 1., 1., 1., 1., 1.],\n",
       "       [1., 1., 1., 1., 1., 1., 1., 1., 1., 1.],\n",
       "       [1., 1., 1., 1., 1., 1., 1., 1., 1., 1.],\n",
       "       [1., 1., 1., 1., 1., 1., 1., 1., 1., 1.],\n",
       "       [1., 1., 1., 1., 1., 1., 1., 1., 1., 1.],\n",
       "       [1., 1., 1., 1., 1., 1., 1., 1., 1., 1.],\n",
       "       [1., 1., 1., 1., 1., 1., 1., 1., 1., 1.],\n",
       "       [1., 1., 1., 1., 1., 1., 1., 1., 1., 1.]])"
      ]
     },
     "execution_count": 23,
     "metadata": {},
     "output_type": "execute_result"
    }
   ],
   "source": [
    "# 10 a 10 matrix oluşturalım.\n",
    "\n",
    "np.ones((10,10))"
   ]
  },
  {
   "cell_type": "code",
   "execution_count": 24,
   "id": "maritime-audit",
   "metadata": {},
   "outputs": [
    {
     "data": {
      "text/plain": [
       "array([[ True,  True,  True,  True,  True,  True,  True,  True,  True,\n",
       "         True],\n",
       "       [ True,  True,  True,  True,  True,  True,  True,  True,  True,\n",
       "         True],\n",
       "       [ True,  True,  True,  True,  True,  True,  True,  True,  True,\n",
       "         True],\n",
       "       [ True,  True,  True,  True,  True,  True,  True,  True,  True,\n",
       "         True],\n",
       "       [ True,  True,  True,  True,  True,  True,  True,  True,  True,\n",
       "         True],\n",
       "       [ True,  True,  True,  True,  True,  True,  True,  True,  True,\n",
       "         True],\n",
       "       [ True,  True,  True,  True,  True,  True,  True,  True,  True,\n",
       "         True],\n",
       "       [ True,  True,  True,  True,  True,  True,  True,  True,  True,\n",
       "         True],\n",
       "       [ True,  True,  True,  True,  True,  True,  True,  True,  True,\n",
       "         True],\n",
       "       [ True,  True,  True,  True,  True,  True,  True,  True,  True,\n",
       "         True]])"
      ]
     },
     "execution_count": 24,
     "metadata": {},
     "output_type": "execute_result"
    }
   ],
   "source": [
    "np.ones((10,10), dtype=bool)\n",
    "\n",
    "# dizimiz 1 lerden oluştuğu için elemanlar True'a döndü"
   ]
  },
  {
   "cell_type": "code",
   "execution_count": 25,
   "id": "willing-transfer",
   "metadata": {},
   "outputs": [
    {
     "data": {
      "text/plain": [
       "array([[3, 3, 3, 3, 3],\n",
       "       [3, 3, 3, 3, 3],\n",
       "       [3, 3, 3, 3, 3]])"
      ]
     },
     "execution_count": 25,
     "metadata": {},
     "output_type": "execute_result"
    }
   ],
   "source": [
    "# 3 satır 5 sütundan oluşan matrix oluşturalım ve onu integer 3 ile dolduralım\n",
    "\n",
    "np.full((3,5),3)"
   ]
  },
  {
   "cell_type": "code",
   "execution_count": 26,
   "id": "informative-dover",
   "metadata": {},
   "outputs": [
    {
     "data": {
      "text/plain": [
       "array([['3', '3', '3', '3'],\n",
       "       ['3', '3', '3', '3'],\n",
       "       ['3', '3', '3', '3'],\n",
       "       ['3', '3', '3', '3']], dtype='<U1')"
      ]
     },
     "execution_count": 26,
     "metadata": {},
     "output_type": "execute_result"
    }
   ],
   "source": [
    "# dizimizi string \"3\" ile dolduralım\n",
    "\n",
    "np.full((4,4), \"3\")"
   ]
  },
  {
   "cell_type": "markdown",
   "id": "prompt-chosen",
   "metadata": {},
   "source": [
    "# linspace"
   ]
  },
  {
   "cell_type": "code",
   "execution_count": 30,
   "id": "magnetic-wrong",
   "metadata": {},
   "outputs": [
    {
     "data": {
      "text/plain": [
       "array([ 0.,  5., 10.])"
      ]
     },
     "execution_count": 30,
     "metadata": {},
     "output_type": "execute_result"
    }
   ],
   "source": [
    "# dizimiz o dan 10 a kadar 3 ADIMDA gitsin\n",
    "\n",
    "np.linspace(0, 10, 3)"
   ]
  },
  {
   "cell_type": "code",
   "execution_count": 29,
   "id": "renewable-collar",
   "metadata": {},
   "outputs": [
    {
     "data": {
      "text/plain": [
       "array([ 0.,  1.,  2.,  3.,  4.,  5.,  6.,  7.,  8.,  9., 10.])"
      ]
     },
     "execution_count": 29,
     "metadata": {},
     "output_type": "execute_result"
    }
   ],
   "source": [
    "# dizimiz o dan 10 a kadar 11 ADIMDA gitsin\n",
    "\n",
    "np.linspace(0, 10, 11)\n",
    "\n"
   ]
  },
  {
   "cell_type": "code",
   "execution_count": 31,
   "id": "marine-creek",
   "metadata": {},
   "outputs": [
    {
     "data": {
      "text/plain": [
       "array([ 0.        ,  0.52631579,  1.05263158,  1.57894737,  2.10526316,\n",
       "        2.63157895,  3.15789474,  3.68421053,  4.21052632,  4.73684211,\n",
       "        5.26315789,  5.78947368,  6.31578947,  6.84210526,  7.36842105,\n",
       "        7.89473684,  8.42105263,  8.94736842,  9.47368421, 10.        ])"
      ]
     },
     "execution_count": 31,
     "metadata": {},
     "output_type": "execute_result"
    }
   ],
   "source": [
    "np.linspace(0, 10,20)"
   ]
  },
  {
   "cell_type": "code",
   "execution_count": 32,
   "id": "ranging-scenario",
   "metadata": {},
   "outputs": [
    {
     "data": {
      "text/plain": [
       "array([ 0.        ,  0.20408163,  0.40816327,  0.6122449 ,  0.81632653,\n",
       "        1.02040816,  1.2244898 ,  1.42857143,  1.63265306,  1.83673469,\n",
       "        2.04081633,  2.24489796,  2.44897959,  2.65306122,  2.85714286,\n",
       "        3.06122449,  3.26530612,  3.46938776,  3.67346939,  3.87755102,\n",
       "        4.08163265,  4.28571429,  4.48979592,  4.69387755,  4.89795918,\n",
       "        5.10204082,  5.30612245,  5.51020408,  5.71428571,  5.91836735,\n",
       "        6.12244898,  6.32653061,  6.53061224,  6.73469388,  6.93877551,\n",
       "        7.14285714,  7.34693878,  7.55102041,  7.75510204,  7.95918367,\n",
       "        8.16326531,  8.36734694,  8.57142857,  8.7755102 ,  8.97959184,\n",
       "        9.18367347,  9.3877551 ,  9.59183673,  9.79591837, 10.        ])"
      ]
     },
     "execution_count": 32,
     "metadata": {},
     "output_type": "execute_result"
    }
   ],
   "source": [
    "# adım sayısını belirlemezsek DEFAULT olarak 50 adımda gidiyor \n",
    "\n",
    "np.linspace(0,10)"
   ]
  },
  {
   "cell_type": "code",
   "execution_count": 33,
   "id": "significant-supplement",
   "metadata": {},
   "outputs": [
    {
     "data": {
      "text/plain": [
       "array([ 0,  5, 11, 16, 22, 27, 33, 38, 44, 50])"
      ]
     },
     "execution_count": 33,
     "metadata": {},
     "output_type": "execute_result"
    }
   ],
   "source": [
    "# DEFAULT olarak float veriyor. dtype='int' ile elemanları integer yapalım\n",
    "\n",
    "np.linspace(0, 50, 10, dtype='int')"
   ]
  },
  {
   "cell_type": "markdown",
   "id": "alternate-engagement",
   "metadata": {},
   "source": [
    "# eye"
   ]
  },
  {
   "cell_type": "code",
   "execution_count": 35,
   "id": "alive-banana",
   "metadata": {},
   "outputs": [
    {
     "data": {
      "text/plain": [
       "array([[1., 0., 0., 0., 0.],\n",
       "       [0., 1., 0., 0., 0.],\n",
       "       [0., 0., 1., 0., 0.],\n",
       "       [0., 0., 0., 1., 0.],\n",
       "       [0., 0., 0., 0., 1.]])"
      ]
     },
     "execution_count": 35,
     "metadata": {},
     "output_type": "execute_result"
    }
   ],
   "source": [
    "# sıfırlardan oluşan 5'e 5 matrix yapalım ve matrix'te köşeden köşeye 1'ler yer alsın\n",
    "\n",
    "np.eye(5)"
   ]
  },
  {
   "cell_type": "markdown",
   "id": "impressive-knock",
   "metadata": {},
   "source": [
    "# Random\n",
    "\n",
    "## rand"
   ]
  },
  {
   "cell_type": "code",
   "execution_count": null,
   "id": "informational-smith",
   "metadata": {},
   "outputs": [],
   "source": [
    "\"\"\"\n",
    "0 ile 1 arasında random olarak belirtilen adette sayı üretir.\n",
    "\n",
    "create an array of the given shape and populate it with random\n",
    "samples from a uniform distribution\n",
    "over the points zero to one where zero is inclusive and one is exclusive\n",
    "meaning it can't actually return back zero, but it can't return back one\n",
    "\"\"\""
   ]
  },
  {
   "cell_type": "code",
   "execution_count": 36,
   "id": "hydraulic-bronze",
   "metadata": {},
   "outputs": [
    {
     "data": {
      "text/plain": [
       "array([0.74842006, 0.94435371, 0.95795841, 0.82746463, 0.12754121,\n",
       "       0.97973758, 0.51250465, 0.0771096 , 0.18012755, 0.62292517])"
      ]
     },
     "execution_count": 36,
     "metadata": {},
     "output_type": "execute_result"
    }
   ],
   "source": [
    "# 0 ile 1 arasında 10 adet random sayı oluşturalım.\n",
    "\n",
    "np.random.rand(10)"
   ]
  },
  {
   "cell_type": "code",
   "execution_count": 37,
   "id": "perceived-phrase",
   "metadata": {},
   "outputs": [
    {
     "data": {
      "text/plain": [
       "array([[0.39999527, 0.62638143, 0.70164203, 0.87754532, 0.23038108],\n",
       "       [0.94330537, 0.79399127, 0.74066674, 0.77462424, 0.48133075],\n",
       "       [0.06133653, 0.7337434 , 0.79804602, 0.48201172, 0.72762669],\n",
       "       [0.80508864, 0.79114777, 0.28375335, 0.95237442, 0.20129491],\n",
       "       [0.85367403, 0.02368706, 0.67532435, 0.82241582, 0.98903597]])"
      ]
     },
     "execution_count": 37,
     "metadata": {},
     "output_type": "execute_result"
    }
   ],
   "source": [
    "# 5 satır 5 sütun olarak 0 ile 1 arasında random sayılar üretip matrix yapıyor. \n",
    "# (5,5) değerinden dolayı 5'e 5 matrix oluşuyor.\n",
    "\n",
    "np.random.rand(5,5)"
   ]
  },
  {
   "cell_type": "code",
   "execution_count": 47,
   "id": "inappropriate-accordance",
   "metadata": {},
   "outputs": [
    {
     "name": "stdout",
     "output_type": "stream",
     "text": [
      "Collecting matplotlib\n",
      "  Downloading matplotlib-3.4.2-cp37-cp37m-win_amd64.whl (7.1 MB)\n",
      "Collecting cycler>=0.10\n",
      "  Downloading cycler-0.10.0-py2.py3-none-any.whl (6.5 kB)\n",
      "Collecting pillow>=6.2.0\n",
      "  Downloading Pillow-8.2.0-cp37-cp37m-win_amd64.whl (2.2 MB)\n",
      "Collecting kiwisolver>=1.0.1\n",
      "  Downloading kiwisolver-1.3.1-cp37-cp37m-win_amd64.whl (51 kB)\n",
      "Requirement already satisfied: numpy>=1.16 in c:\\users\\hüseyin\\appdata\\local\\programs\\python\\python37\\lib\\site-packages (from matplotlib) (1.20.3)\n",
      "Requirement already satisfied: pyparsing>=2.2.1 in c:\\users\\hüseyin\\appdata\\local\\programs\\python\\python37\\lib\\site-packages (from matplotlib) (2.4.7)\n",
      "Requirement already satisfied: python-dateutil>=2.7 in c:\\users\\hüseyin\\appdata\\local\\programs\\python\\python37\\lib\\site-packages (from matplotlib) (2.8.1)\n",
      "Requirement already satisfied: six in c:\\users\\hüseyin\\appdata\\local\\programs\\python\\python37\\lib\\site-packages (from cycler>=0.10->matplotlib) (1.15.0)\n",
      "Installing collected packages: pillow, kiwisolver, cycler, matplotlib\n",
      "Successfully installed cycler-0.10.0 kiwisolver-1.3.1 matplotlib-3.4.2 pillow-8.2.0\n",
      "Note: you may need to restart the kernel to use updated packages.\n"
     ]
    }
   ],
   "source": [
    "pip install matplotlib"
   ]
  },
  {
   "cell_type": "code",
   "execution_count": 50,
   "id": "popular-recipe",
   "metadata": {},
   "outputs": [],
   "source": [
    "import matplotlib.pyplot as plt"
   ]
  },
  {
   "cell_type": "code",
   "execution_count": 124,
   "id": "southern-probability",
   "metadata": {},
   "outputs": [
    {
     "data": {
      "text/plain": [
       "(array([24793., 25156., 24796., 24880., 25081., 24952., 24987., 25279.,\n",
       "        25156., 25085., 24995., 24892., 25061., 24974., 25132., 25494.,\n",
       "        25178., 25153., 25178., 24828., 24969., 24974., 25037., 25075.,\n",
       "        25064., 24854., 24679., 24946., 24948., 24684., 25191., 25238.,\n",
       "        24883., 24956., 24995., 25136., 24835., 25057., 24528., 24901.]),\n",
       " array([4.61804803e-07, 2.50004190e-02, 5.00003763e-02, 7.50003335e-02,\n",
       "        1.00000291e-01, 1.25000248e-01, 1.50000205e-01, 1.75000162e-01,\n",
       "        2.00000120e-01, 2.25000077e-01, 2.50000034e-01, 2.74999991e-01,\n",
       "        2.99999949e-01, 3.24999906e-01, 3.49999863e-01, 3.74999820e-01,\n",
       "        3.99999778e-01, 4.24999735e-01, 4.49999692e-01, 4.74999649e-01,\n",
       "        4.99999606e-01, 5.24999564e-01, 5.49999521e-01, 5.74999478e-01,\n",
       "        5.99999435e-01, 6.24999393e-01, 6.49999350e-01, 6.74999307e-01,\n",
       "        6.99999264e-01, 7.24999222e-01, 7.49999179e-01, 7.74999136e-01,\n",
       "        7.99999093e-01, 8.24999050e-01, 8.49999008e-01, 8.74998965e-01,\n",
       "        8.99998922e-01, 9.24998879e-01, 9.49998837e-01, 9.74998794e-01,\n",
       "        9.99998751e-01]),\n",
       " <BarContainer object of 40 artists>)"
      ]
     },
     "execution_count": 124,
     "metadata": {},
     "output_type": "execute_result"
    },
    {
     "data": {
      "image/png": "[encoded data removed]",
      "text/plain": [
       "<Figure size 432x288 with 1 Axes>"
      ]
     },
     "metadata": {
      "needs_background": "light"
     },
     "output_type": "display_data"
    }
   ],
   "source": [
    "plt.hist(np.random.rand(1000000),bins=40)"
   ]
  },
  {
   "cell_type": "markdown",
   "id": "atmospheric-million",
   "metadata": {},
   "source": [
    "# randn"
   ]
  },
  {
   "cell_type": "code",
   "execution_count": null,
   "id": "fixed-tracker",
   "metadata": {},
   "outputs": [],
   "source": [
    "\"\"\"\n",
    "np.random.randn()\n",
    "\n",
    "If positive int_like arguments are provided, `randn` generates an array\n",
    "of shape ``(d0, d1, ..., dn)``, filled\n",
    "with random floats sampled from a univariate \"normal\" (Gaussian)\n",
    "distribution of mean 0 and variance 1. A single float randomly sampled\n",
    "from the distribution is returned if no argument is provided.\n",
    "\n",
    "belirtilen sayı kadar, orta noktası sıfır olan 0 ile 1 arasında kayan noktalı sayı üretir\n",
    "\"\"\""
   ]
  },
  {
   "cell_type": "code",
   "execution_count": 51,
   "id": "romance-manhattan",
   "metadata": {},
   "outputs": [
    {
     "data": {
      "text/plain": [
       "array([ 1.83845458,  0.87524848,  0.90022174,  0.41545206,  1.99050815,\n",
       "       -0.11999077, -0.10348602, -1.31829761,  0.52708505,  0.87379036])"
      ]
     },
     "execution_count": 51,
     "metadata": {},
     "output_type": "execute_result"
    }
   ],
   "source": [
    "np.random.randn(10)"
   ]
  },
  {
   "cell_type": "code",
   "execution_count": 39,
   "id": "apart-scholarship",
   "metadata": {},
   "outputs": [
    {
     "data": {
      "text/plain": [
       "array([[-1.36032583,  0.90706965,  0.59627832, -0.1008965 , -1.15417342],\n",
       "       [-0.52755349, -0.68547717,  1.50152293,  0.40245842, -0.93473526],\n",
       "       [ 0.70528487, -0.74573161, -0.81040798, -0.94446298,  0.09284311],\n",
       "       [ 1.30419765, -0.8805659 , -0.6611508 , -0.16272279,  0.82033218],\n",
       "       [ 2.22464392,  0.41777754, -1.47803074,  0.76149241, -1.03378657]])"
      ]
     },
     "execution_count": 39,
     "metadata": {},
     "output_type": "execute_result"
    }
   ],
   "source": [
    "# 5'e 5 matrix oluşturarak aynı işlemi yapalım\n",
    "\n",
    "np.random.randn(5,5)"
   ]
  },
  {
   "cell_type": "code",
   "execution_count": 52,
   "id": "valid-niger",
   "metadata": {},
   "outputs": [
    {
     "data": {
      "text/plain": [
       "-0.0003733039671742652"
      ]
     },
     "execution_count": 52,
     "metadata": {},
     "output_type": "execute_result"
    }
   ],
   "source": [
    "np.random.randn(10000).mean()"
   ]
  },
  {
   "cell_type": "code",
   "execution_count": 54,
   "id": "extreme-assessment",
   "metadata": {},
   "outputs": [
    {
     "data": {
      "text/plain": [
       "0.9988899254413508"
      ]
     },
     "execution_count": 54,
     "metadata": {},
     "output_type": "execute_result"
    }
   ],
   "source": [
    "np.random.randn(10000).std()"
   ]
  },
  {
   "cell_type": "markdown",
   "id": "employed-automation",
   "metadata": {},
   "source": [
    "# randint"
   ]
  },
  {
   "cell_type": "code",
   "execution_count": null,
   "id": "active-mitchell",
   "metadata": {},
   "outputs": [],
   "source": [
    "\"\"\"\n",
    "np.random.randint()\n",
    "\n",
    "Return random integers from `low` (inclusive) to `high` (exclusive)\n",
    "\n",
    "girilen en düşük (dahil) ve en yüksek (hariç) sayılar arasında belirtilen miktarda random sayı üretir.\n",
    "\"\"\""
   ]
  },
  {
   "cell_type": "code",
   "execution_count": 55,
   "id": "serious-pleasure",
   "metadata": {},
   "outputs": [
    {
     "data": {
      "text/plain": [
       "array([88, 72, 75, 90, 76, 72, 93, 91, 11, 50])"
      ]
     },
     "execution_count": 55,
     "metadata": {},
     "output_type": "execute_result"
    }
   ],
   "source": [
    "# 1 den 100 e kadar random 10 sayıdan oluşan dizi oluşturalım\n",
    "\n",
    "np.random.randint(0, 100, 10)"
   ]
  },
  {
   "cell_type": "code",
   "execution_count": 56,
   "id": "executive-spyware",
   "metadata": {},
   "outputs": [
    {
     "data": {
      "text/plain": [
       "array([6, 0, 0, 5, 4, 0, 6, 6, 9, 5])"
      ]
     },
     "execution_count": 56,
     "metadata": {},
     "output_type": "execute_result"
    }
   ],
   "source": [
    "# sıfırla 10 arasında size'ı 10 olan yani 10 adet elemandan oluşan array oluşturalım \n",
    "\n",
    "np.random.randint(10, size=10)"
   ]
  },
  {
   "cell_type": "code",
   "execution_count": 57,
   "id": "artificial-gauge",
   "metadata": {},
   "outputs": [
    {
     "data": {
      "text/plain": [
       "array([[3, 2, 2, 0],\n",
       "       [3, 3, 2, 1]])"
      ]
     },
     "execution_count": 57,
     "metadata": {},
     "output_type": "execute_result"
    }
   ],
   "source": [
    "# sıfırla 5 arasında 2 satır ve 4 sütunluk bir array oluşturalım\n",
    "\n",
    "np.random.randint(5, size=(2,4))"
   ]
  },
  {
   "cell_type": "markdown",
   "id": "quarterly-opening",
   "metadata": {},
   "source": [
    "# Array Attributes and Methods"
   ]
  },
  {
   "cell_type": "code",
   "execution_count": 58,
   "id": "passive-renaissance",
   "metadata": {},
   "outputs": [],
   "source": [
    "arr = np.arange(25)\n",
    "arr2 = np.random.randint(0, 50, 10)"
   ]
  },
  {
   "cell_type": "code",
   "execution_count": 59,
   "id": "organic-folder",
   "metadata": {},
   "outputs": [
    {
     "data": {
      "text/plain": [
       "array([ 0,  1,  2,  3,  4,  5,  6,  7,  8,  9, 10, 11, 12, 13, 14, 15, 16,\n",
       "       17, 18, 19, 20, 21, 22, 23, 24])"
      ]
     },
     "execution_count": 59,
     "metadata": {},
     "output_type": "execute_result"
    }
   ],
   "source": [
    "arr"
   ]
  },
  {
   "cell_type": "markdown",
   "id": "listed-paraguay",
   "metadata": {},
   "source": [
    "# Reshape"
   ]
  },
  {
   "cell_type": "code",
   "execution_count": null,
   "id": "charitable-saudi",
   "metadata": {},
   "outputs": [],
   "source": []
  },
  {
   "cell_type": "code",
   "execution_count": 60,
   "id": "contained-insulation",
   "metadata": {},
   "outputs": [
    {
     "data": {
      "text/plain": [
       "(25,)"
      ]
     },
     "execution_count": 60,
     "metadata": {},
     "output_type": "execute_result"
    }
   ],
   "source": [
    "arr.shape"
   ]
  },
  {
   "cell_type": "code",
   "execution_count": 61,
   "id": "searching-helena",
   "metadata": {},
   "outputs": [
    {
     "ename": "ValueError",
     "evalue": "cannot reshape array of size 25 into shape (5,4)",
     "output_type": "error",
     "traceback": [
      "\u001b[1;31m---------------------------------------------------------------------------\u001b[0m",
      "\u001b[1;31mValueError\u001b[0m                                Traceback (most recent call last)",
      "\u001b[1;32m<ipython-input-61-333b1e120019>\u001b[0m in \u001b[0;36m<module>\u001b[1;34m\u001b[0m\n\u001b[1;32m----> 1\u001b[1;33m \u001b[0marr\u001b[0m\u001b[1;33m.\u001b[0m\u001b[0mreshape\u001b[0m\u001b[1;33m(\u001b[0m\u001b[1;36m5\u001b[0m\u001b[1;33m,\u001b[0m \u001b[1;36m4\u001b[0m\u001b[1;33m)\u001b[0m\u001b[1;33m\u001b[0m\u001b[1;33m\u001b[0m\u001b[0m\n\u001b[0m\u001b[0;32m      2\u001b[0m \u001b[1;33m\u001b[0m\u001b[0m\n\u001b[0;32m      3\u001b[0m \u001b[1;31m# 25 tane değeri 5'e 4'e çeviremezsin. hata verir\u001b[0m\u001b[1;33m\u001b[0m\u001b[1;33m\u001b[0m\u001b[1;33m\u001b[0m\u001b[0m\n",
      "\u001b[1;31mValueError\u001b[0m: cannot reshape array of size 25 into shape (5,4)"
     ]
    }
   ],
   "source": [
    "arr.reshape(5, 4)\n",
    "\n",
    "# 25 tane değeri 5'e 4'e çeviremezsin. hata verir"
   ]
  },
  {
   "cell_type": "code",
   "execution_count": 62,
   "id": "miniature-bathroom",
   "metadata": {},
   "outputs": [
    {
     "data": {
      "text/plain": [
       "array([[ 0,  1,  2,  3,  4],\n",
       "       [ 5,  6,  7,  8,  9],\n",
       "       [10, 11, 12, 13, 14],\n",
       "       [15, 16, 17, 18, 19],\n",
       "       [20, 21, 22, 23, 24]])"
      ]
     },
     "execution_count": 62,
     "metadata": {},
     "output_type": "execute_result"
    }
   ],
   "source": [
    "# 5'e 5 yaparsak olur.\n",
    "\n",
    "arr.reshape(5, 5)"
   ]
  },
  {
   "cell_type": "markdown",
   "id": "packed-jordan",
   "metadata": {},
   "source": [
    "# max, min, argmax, argmin"
   ]
  },
  {
   "cell_type": "code",
   "execution_count": 64,
   "id": "funky-holmes",
   "metadata": {},
   "outputs": [
    {
     "data": {
      "text/plain": [
       "array([24, 12, 32, 12,  9, 21, 39, 32,  3, 40])"
      ]
     },
     "execution_count": 64,
     "metadata": {},
     "output_type": "execute_result"
    }
   ],
   "source": [
    "arr2"
   ]
  },
  {
   "cell_type": "code",
   "execution_count": 65,
   "id": "female-adapter",
   "metadata": {},
   "outputs": [
    {
     "data": {
      "text/plain": [
       "40"
      ]
     },
     "execution_count": 65,
     "metadata": {},
     "output_type": "execute_result"
    }
   ],
   "source": [
    "arr2.max()\n",
    "\n",
    "# en yüksek değeri verir"
   ]
  },
  {
   "cell_type": "code",
   "execution_count": 66,
   "id": "mexican-variation",
   "metadata": {},
   "outputs": [
    {
     "data": {
      "text/plain": [
       "9"
      ]
     },
     "execution_count": 66,
     "metadata": {},
     "output_type": "execute_result"
    }
   ],
   "source": [
    "arr2.argmax()\n",
    "\n",
    "# en yüksek değerin indeksini verir"
   ]
  },
  {
   "cell_type": "code",
   "execution_count": 67,
   "id": "inclusive-upgrade",
   "metadata": {},
   "outputs": [
    {
     "data": {
      "text/plain": [
       "8"
      ]
     },
     "execution_count": 67,
     "metadata": {},
     "output_type": "execute_result"
    }
   ],
   "source": [
    "arr2.argmin()"
   ]
  },
  {
   "cell_type": "markdown",
   "id": "orange-liberty",
   "metadata": {},
   "source": [
    "# Shape"
   ]
  },
  {
   "cell_type": "code",
   "execution_count": 68,
   "id": "respiratory-bachelor",
   "metadata": {},
   "outputs": [
    {
     "data": {
      "text/plain": [
       "(25,)"
      ]
     },
     "execution_count": 68,
     "metadata": {},
     "output_type": "execute_result"
    }
   ],
   "source": [
    "arr.shape\n",
    "\n",
    "# 25 değerden oluşan bir array imiz olduğunu görüyoruz"
   ]
  },
  {
   "cell_type": "code",
   "execution_count": 69,
   "id": "mathematical-customer",
   "metadata": {},
   "outputs": [
    {
     "data": {
      "text/plain": [
       "array([[ 0,  1,  2,  3,  4,  5,  6,  7,  8,  9, 10, 11, 12, 13, 14, 15,\n",
       "        16, 17, 18, 19, 20, 21, 22, 23, 24]])"
      ]
     },
     "execution_count": 69,
     "metadata": {},
     "output_type": "execute_result"
    }
   ],
   "source": [
    "arr.reshape(1, 25)\n",
    "\n",
    "# shape ine tekrar bakarsak.\n",
    "\n",
    "# 1 satır 25 sütun olarak düşünebilirsin."
   ]
  },
  {
   "cell_type": "code",
   "execution_count": 70,
   "id": "charged-footwear",
   "metadata": {},
   "outputs": [
    {
     "data": {
      "text/plain": [
       "array([[ 0],\n",
       "       [ 1],\n",
       "       [ 2],\n",
       "       [ 3],\n",
       "       [ 4],\n",
       "       [ 5],\n",
       "       [ 6],\n",
       "       [ 7],\n",
       "       [ 8],\n",
       "       [ 9],\n",
       "       [10],\n",
       "       [11],\n",
       "       [12],\n",
       "       [13],\n",
       "       [14],\n",
       "       [15],\n",
       "       [16],\n",
       "       [17],\n",
       "       [18],\n",
       "       [19],\n",
       "       [20],\n",
       "       [21],\n",
       "       [22],\n",
       "       [23],\n",
       "       [24]])"
      ]
     },
     "execution_count": 70,
     "metadata": {},
     "output_type": "execute_result"
    }
   ],
   "source": [
    "arr.reshape(25, 1)\n",
    "\n",
    "# 25 satır 1 sütun olarak düşünebilirsin.\n",
    "\n",
    "# verileri bu şekilde shape yapabiliyoruz."
   ]
  },
  {
   "cell_type": "markdown",
   "id": "capital-encounter",
   "metadata": {},
   "source": [
    "# dtype"
   ]
  },
  {
   "cell_type": "code",
   "execution_count": 71,
   "id": "opened-automation",
   "metadata": {},
   "outputs": [
    {
     "data": {
      "text/plain": [
       "array([ 0,  1,  2,  3,  4,  5,  6,  7,  8,  9, 10, 11, 12, 13, 14, 15, 16,\n",
       "       17, 18, 19, 20, 21, 22, 23, 24])"
      ]
     },
     "execution_count": 71,
     "metadata": {},
     "output_type": "execute_result"
    }
   ],
   "source": [
    "arr"
   ]
  },
  {
   "cell_type": "code",
   "execution_count": 72,
   "id": "nuclear-diamond",
   "metadata": {},
   "outputs": [
    {
     "data": {
      "text/plain": [
       "dtype('int32')"
      ]
     },
     "execution_count": 72,
     "metadata": {},
     "output_type": "execute_result"
    }
   ],
   "source": [
    "arr.dtype"
   ]
  },
  {
   "cell_type": "code",
   "execution_count": 73,
   "id": "baking-control",
   "metadata": {},
   "outputs": [
    {
     "data": {
      "text/plain": [
       "array([[2.2, 2.2, 2.2, 2.2, 2.2, 2.2],\n",
       "       [2.2, 2.2, 2.2, 2.2, 2.2, 2.2],\n",
       "       [2.2, 2.2, 2.2, 2.2, 2.2, 2.2],\n",
       "       [2.2, 2.2, 2.2, 2.2, 2.2, 2.2]])"
      ]
     },
     "execution_count": 73,
     "metadata": {},
     "output_type": "execute_result"
    }
   ],
   "source": [
    "b = np.full( (4,6), 2.2)\n",
    "b"
   ]
  },
  {
   "cell_type": "code",
   "execution_count": 74,
   "id": "limiting-sydney",
   "metadata": {},
   "outputs": [
    {
     "data": {
      "text/plain": [
       "dtype('float64')"
      ]
     },
     "execution_count": 74,
     "metadata": {},
     "output_type": "execute_result"
    }
   ],
   "source": [
    "# array'ın tipini görelim\n",
    "\n",
    "b.dtype"
   ]
  },
  {
   "cell_type": "markdown",
   "id": "indonesian-dream",
   "metadata": {},
   "source": [
    "# ndim"
   ]
  },
  {
   "cell_type": "code",
   "execution_count": null,
   "id": "israeli-friend",
   "metadata": {},
   "outputs": [],
   "source": [
    "# kaç boyutlu olduğunu görebiliyoruz"
   ]
  },
  {
   "cell_type": "code",
   "execution_count": 75,
   "id": "dressed-square",
   "metadata": {},
   "outputs": [
    {
     "data": {
      "text/plain": [
       "2"
      ]
     },
     "execution_count": 75,
     "metadata": {},
     "output_type": "execute_result"
    }
   ],
   "source": [
    "b.ndim\n",
    "\n",
    "# satır ve sütundan oluşan yani 2 boyutlu bir array olduğunu görebiliyoruz"
   ]
  },
  {
   "cell_type": "code",
   "execution_count": 76,
   "id": "treated-municipality",
   "metadata": {},
   "outputs": [
    {
     "data": {
      "text/plain": [
       "1"
      ]
     },
     "execution_count": 76,
     "metadata": {},
     "output_type": "execute_result"
    }
   ],
   "source": [
    "arr.ndim\n",
    "\n",
    "# sadece sütunlardan oluşan yani 1 boyutlu bir array.."
   ]
  },
  {
   "cell_type": "markdown",
   "id": "every-things",
   "metadata": {},
   "source": [
    "# size"
   ]
  },
  {
   "cell_type": "code",
   "execution_count": 77,
   "id": "simple-watts",
   "metadata": {},
   "outputs": [
    {
     "data": {
      "text/plain": [
       "array([[2.2, 2.2, 2.2, 2.2, 2.2, 2.2],\n",
       "       [2.2, 2.2, 2.2, 2.2, 2.2, 2.2],\n",
       "       [2.2, 2.2, 2.2, 2.2, 2.2, 2.2],\n",
       "       [2.2, 2.2, 2.2, 2.2, 2.2, 2.2]])"
      ]
     },
     "execution_count": 77,
     "metadata": {},
     "output_type": "execute_result"
    }
   ],
   "source": [
    "b"
   ]
  },
  {
   "cell_type": "code",
   "execution_count": 78,
   "id": "passing-death",
   "metadata": {},
   "outputs": [
    {
     "data": {
      "text/plain": [
       "24"
      ]
     },
     "execution_count": 78,
     "metadata": {},
     "output_type": "execute_result"
    }
   ],
   "source": [
    "b.size\n",
    "\n",
    "# 6 sütun ver 4 satır yani size ı toplam 24 elemandan oluşutor."
   ]
  },
  {
   "cell_type": "code",
   "execution_count": 79,
   "id": "sacred-access",
   "metadata": {},
   "outputs": [],
   "source": [
    "a = np.random.randint(10, size=(3,5))"
   ]
  },
  {
   "cell_type": "code",
   "execution_count": 80,
   "id": "analyzed-sight",
   "metadata": {},
   "outputs": [
    {
     "data": {
      "text/plain": [
       "array([[6, 7, 0, 8, 6],\n",
       "       [3, 2, 7, 7, 9],\n",
       "       [8, 3, 8, 0, 2]])"
      ]
     },
     "execution_count": 80,
     "metadata": {},
     "output_type": "execute_result"
    }
   ],
   "source": [
    "a"
   ]
  },
  {
   "cell_type": "code",
   "execution_count": 81,
   "id": "boolean-concern",
   "metadata": {},
   "outputs": [
    {
     "data": {
      "text/plain": [
       "2"
      ]
     },
     "execution_count": 81,
     "metadata": {},
     "output_type": "execute_result"
    }
   ],
   "source": [
    "a.ndim\n",
    "\n",
    " # dimension una baktığımızda 2 boyutlu oluğunu görebiliyoruz"
   ]
  },
  {
   "cell_type": "code",
   "execution_count": 82,
   "id": "related-little",
   "metadata": {},
   "outputs": [
    {
     "data": {
      "text/plain": [
       "dtype('int32')"
      ]
     },
     "execution_count": 82,
     "metadata": {},
     "output_type": "execute_result"
    }
   ],
   "source": [
    "a.dtype\n",
    "\n",
    "# tipnin integer olduğunu görebiliyoruz"
   ]
  },
  {
   "cell_type": "code",
   "execution_count": 83,
   "id": "respiratory-maria",
   "metadata": {},
   "outputs": [
    {
     "data": {
      "text/plain": [
       "array([ 0,  1,  2,  3,  4,  5,  6,  7,  8,  9, 10, 11, 12, 13, 14, 15, 16,\n",
       "       17, 18, 19, 20, 21, 22, 23, 24])"
      ]
     },
     "execution_count": 83,
     "metadata": {},
     "output_type": "execute_result"
    }
   ],
   "source": [
    "arr"
   ]
  },
  {
   "cell_type": "code",
   "execution_count": 84,
   "id": "mobile-allergy",
   "metadata": {},
   "outputs": [
    {
     "data": {
      "text/plain": [
       "1"
      ]
     },
     "execution_count": 84,
     "metadata": {},
     "output_type": "execute_result"
    }
   ],
   "source": [
    "arr.ndim"
   ]
  },
  {
   "cell_type": "markdown",
   "id": "public-acoustic",
   "metadata": {},
   "source": [
    "# Concatenation of the Arrays"
   ]
  },
  {
   "cell_type": "code",
   "execution_count": 86,
   "id": "sustainable-cemetery",
   "metadata": {},
   "outputs": [],
   "source": [
    "# birleştirmek üzere 2 array oluşturalım\n",
    "\n",
    "x = np.array([1,2,3])\n",
    "y = np.array([4,5,6])"
   ]
  },
  {
   "cell_type": "markdown",
   "id": "dated-macro",
   "metadata": {},
   "source": [
    "x"
   ]
  },
  {
   "cell_type": "code",
   "execution_count": 88,
   "id": "quarterly-cambodia",
   "metadata": {},
   "outputs": [
    {
     "data": {
      "text/plain": [
       "array([4, 5, 6])"
      ]
     },
     "execution_count": 88,
     "metadata": {},
     "output_type": "execute_result"
    }
   ],
   "source": [
    "y"
   ]
  },
  {
   "cell_type": "code",
   "execution_count": 89,
   "id": "neutral-percentage",
   "metadata": {},
   "outputs": [
    {
     "data": {
      "text/plain": [
       "array([1, 2, 3, 4, 5, 6])"
      ]
     },
     "execution_count": 89,
     "metadata": {},
     "output_type": "execute_result"
    }
   ],
   "source": [
    "# iki array i birleştirelim\n",
    "\n",
    "np.concatenate([x,y])"
   ]
  },
  {
   "cell_type": "markdown",
   "id": "intensive-andorra",
   "metadata": {},
   "source": [
    "# 2d matrix"
   ]
  },
  {
   "cell_type": "code",
   "execution_count": 90,
   "id": "asian-humor",
   "metadata": {},
   "outputs": [
    {
     "data": {
      "text/plain": [
       "array([[1, 2, 3],\n",
       "       [4, 5, 6]])"
      ]
     },
     "execution_count": 90,
     "metadata": {},
     "output_type": "execute_result"
    }
   ],
   "source": [
    "a = np.array([[1,2,3],\n",
    "             [4,5,6]])\n",
    "a"
   ]
  },
  {
   "cell_type": "code",
   "execution_count": 91,
   "id": "pacific-festival",
   "metadata": {},
   "outputs": [
    {
     "data": {
      "text/plain": [
       "array([[1, 2, 3],\n",
       "       [4, 5, 6],\n",
       "       [1, 2, 3],\n",
       "       [4, 5, 6]])"
      ]
     },
     "execution_count": 91,
     "metadata": {},
     "output_type": "execute_result"
    }
   ],
   "source": [
    "np.concatenate([a,a])\n",
    "\n",
    "# a arrayini yine kendisiyle birleştirelim"
   ]
  },
  {
   "cell_type": "code",
   "execution_count": 92,
   "id": "second-senate",
   "metadata": {},
   "outputs": [
    {
     "data": {
      "text/plain": [
       "array([[1, 2, 3, 1, 2, 3],\n",
       "       [4, 5, 6, 4, 5, 6]])"
      ]
     },
     "execution_count": 92,
     "metadata": {},
     "output_type": "execute_result"
    }
   ],
   "source": [
    "# bu sefer de sütun bazında yan yana birleştirelim \n",
    "\n",
    "np.concatenate([a,a], axis=1)"
   ]
  },
  {
   "cell_type": "markdown",
   "id": "hollywood-fighter",
   "metadata": {},
   "source": [
    "# Splitting of the Arrays"
   ]
  },
  {
   "cell_type": "code",
   "execution_count": 93,
   "id": "rough-courage",
   "metadata": {},
   "outputs": [],
   "source": [
    "x = np.array([1,24,53, 99, 99, 3, 2, 1])"
   ]
  },
  {
   "cell_type": "code",
   "execution_count": 94,
   "id": "stupid-hampshire",
   "metadata": {},
   "outputs": [
    {
     "data": {
      "text/plain": [
       "[array([ 1, 24, 53]), array([99, 99]), array([3, 2, 1])]"
      ]
     },
     "execution_count": 94,
     "metadata": {},
     "output_type": "execute_result"
    }
   ],
   "source": [
    "np.split(x, [3, 5])\n",
    "\n",
    "# bu şekilde bölebiliyoruz (split edebiliyoruz)\n",
    "# önce 3. sonra 5. indeksten itibaren böldük"
   ]
  },
  {
   "cell_type": "code",
   "execution_count": 95,
   "id": "allied-kentucky",
   "metadata": {},
   "outputs": [
    {
     "data": {
      "text/plain": [
       "[array([ 1, 24, 53, 99]), array([99,  3,  2,  1])]"
      ]
     },
     "execution_count": 95,
     "metadata": {},
     "output_type": "execute_result"
    }
   ],
   "source": [
    "np.split(x, 2) \n",
    "\n",
    "#bu şekilde kaç parçaya bölebileceğimizi belirleyebiliyoruz. burada array i 2 parçaya böldük"
   ]
  },
  {
   "cell_type": "code",
   "execution_count": 104,
   "id": "single-cornell",
   "metadata": {},
   "outputs": [
    {
     "ename": "ValueError",
     "evalue": "array split does not result in an equal division",
     "output_type": "error",
     "traceback": [
      "\u001b[1;31m---------------------------------------------------------------------------\u001b[0m",
      "\u001b[1;31mValueError\u001b[0m                                Traceback (most recent call last)",
      "\u001b[1;32m<ipython-input-104-d7a3418ddee8>\u001b[0m in \u001b[0;36m<module>\u001b[1;34m\u001b[0m\n\u001b[1;32m----> 1\u001b[1;33m \u001b[0mnp\u001b[0m\u001b[1;33m.\u001b[0m\u001b[0msplit\u001b[0m\u001b[1;33m(\u001b[0m\u001b[0mx\u001b[0m\u001b[1;33m,\u001b[0m \u001b[1;36m3\u001b[0m\u001b[1;33m)\u001b[0m\u001b[1;33m\u001b[0m\u001b[1;33m\u001b[0m\u001b[0m\n\u001b[0m\u001b[0;32m      2\u001b[0m \u001b[1;33m\u001b[0m\u001b[0m\n\u001b[0;32m      3\u001b[0m \u001b[1;31m# split eşit böldüğü için ve 8 eleman olduğu için 3 e bölemeyecek\u001b[0m\u001b[1;33m\u001b[0m\u001b[1;33m\u001b[0m\u001b[1;33m\u001b[0m\u001b[0m\n",
      "\u001b[1;32m<__array_function__ internals>\u001b[0m in \u001b[0;36msplit\u001b[1;34m(*args, **kwargs)\u001b[0m\n",
      "\u001b[1;32mc:\\users\\hüseyin\\appdata\\local\\programs\\python\\python37\\lib\\site-packages\\numpy\\lib\\shape_base.py\u001b[0m in \u001b[0;36msplit\u001b[1;34m(ary, indices_or_sections, axis)\u001b[0m\n\u001b[0;32m    871\u001b[0m         \u001b[1;32mif\u001b[0m \u001b[0mN\u001b[0m \u001b[1;33m%\u001b[0m \u001b[0msections\u001b[0m\u001b[1;33m:\u001b[0m\u001b[1;33m\u001b[0m\u001b[1;33m\u001b[0m\u001b[0m\n\u001b[0;32m    872\u001b[0m             raise ValueError(\n\u001b[1;32m--> 873\u001b[1;33m                 'array split does not result in an equal division') from None\n\u001b[0m\u001b[0;32m    874\u001b[0m     \u001b[1;32mreturn\u001b[0m \u001b[0marray_split\u001b[0m\u001b[1;33m(\u001b[0m\u001b[0mary\u001b[0m\u001b[1;33m,\u001b[0m \u001b[0mindices_or_sections\u001b[0m\u001b[1;33m,\u001b[0m \u001b[0maxis\u001b[0m\u001b[1;33m)\u001b[0m\u001b[1;33m\u001b[0m\u001b[1;33m\u001b[0m\u001b[0m\n\u001b[0;32m    875\u001b[0m \u001b[1;33m\u001b[0m\u001b[0m\n",
      "\u001b[1;31mValueError\u001b[0m: array split does not result in an equal division"
     ]
    }
   ],
   "source": [
    "np.split(x, 3)\n",
    "\n",
    "# split eşit böldüğü için ve array 8 eleman olduğu için 3 e bölemeyecek"
   ]
  },
  {
   "cell_type": "markdown",
   "id": "regulation-republican",
   "metadata": {},
   "source": [
    "# 2d matrix"
   ]
  },
  {
   "cell_type": "code",
   "execution_count": 99,
   "id": "dependent-night",
   "metadata": {},
   "outputs": [
    {
     "data": {
      "text/plain": [
       "array([[ 0,  1,  2,  3],\n",
       "       [ 4,  5,  6,  7],\n",
       "       [ 8,  9, 10, 11],\n",
       "       [12, 13, 14, 15],\n",
       "       [16, 17, 18, 19]])"
      ]
     },
     "execution_count": 99,
     "metadata": {},
     "output_type": "execute_result"
    }
   ],
   "source": [
    "# 2 boyutlu bir matrix belirleyelim\n",
    "\n",
    "m = np.arange(20).reshape(5,4)\n",
    "m"
   ]
  },
  {
   "cell_type": "code",
   "execution_count": 101,
   "id": "facial-failing",
   "metadata": {},
   "outputs": [
    {
     "data": {
      "text/plain": [
       "[array([[0, 1, 2, 3]]),\n",
       " array([[ 4,  5,  6,  7],\n",
       "        [ 8,  9, 10, 11]]),\n",
       " array([[12, 13, 14, 15],\n",
       "        [16, 17, 18, 19]])]"
      ]
     },
     "execution_count": 101,
     "metadata": {},
     "output_type": "execute_result"
    }
   ],
   "source": [
    "np.vsplit(m, [1,3])\n",
    "\n",
    "# 2 boyutlu array de vsplit kullanıyoruz\n",
    "# satır bazında bölüyor. önce 1. indeksten böldük. sonra da geri kalanını 3. indeksten böldük"
   ]
  },
  {
   "cell_type": "code",
   "execution_count": 102,
   "id": "powerful-december",
   "metadata": {},
   "outputs": [
    {
     "data": {
      "text/plain": [
       "[array([[ 0,  1,  2,  3],\n",
       "        [ 4,  5,  6,  7],\n",
       "        [ 8,  9, 10, 11]]),\n",
       " array([[12, 13, 14, 15],\n",
       "        [16, 17, 18, 19]])]"
      ]
     },
     "execution_count": 102,
     "metadata": {},
     "output_type": "execute_result"
    }
   ],
   "source": [
    "np.vsplit(m, [3])\n",
    "\n",
    "# yalnızca 3 yazınca önce 0,1,2. indeksleri alarak 3. indeksten böldü"
   ]
  },
  {
   "cell_type": "code",
   "execution_count": 103,
   "id": "built-glucose",
   "metadata": {},
   "outputs": [],
   "source": [
    "upper, lower = np.vsplit(m, [3])\n",
    "\n",
    "#upper ve lower değişkenlerine değer atadık."
   ]
  },
  {
   "cell_type": "code",
   "execution_count": 105,
   "id": "objective-import",
   "metadata": {},
   "outputs": [
    {
     "data": {
      "text/plain": [
       "[array([[ 0,  1,  2,  3],\n",
       "        [ 4,  5,  6,  7],\n",
       "        [ 8,  9, 10, 11]]),\n",
       " array([[12, 13, 14, 15],\n",
       "        [16, 17, 18, 19]])]"
      ]
     },
     "execution_count": 105,
     "metadata": {},
     "output_type": "execute_result"
    }
   ],
   "source": [
    "np.vsplit(m, [3])"
   ]
  },
  {
   "cell_type": "code",
   "execution_count": 106,
   "id": "agreed-backing",
   "metadata": {},
   "outputs": [
    {
     "data": {
      "text/plain": [
       "array([[ 0,  1,  2,  3],\n",
       "       [ 4,  5,  6,  7],\n",
       "       [ 8,  9, 10, 11]])"
      ]
     },
     "execution_count": 106,
     "metadata": {},
     "output_type": "execute_result"
    }
   ],
   "source": [
    "upper\n",
    "\n",
    "# bölünen array in üst tarafını aldık "
   ]
  },
  {
   "cell_type": "code",
   "execution_count": 107,
   "id": "proof-dialogue",
   "metadata": {},
   "outputs": [
    {
     "data": {
      "text/plain": [
       "array([[12, 13, 14, 15],\n",
       "       [16, 17, 18, 19]])"
      ]
     },
     "execution_count": 107,
     "metadata": {},
     "output_type": "execute_result"
    }
   ],
   "source": [
    "lower\n",
    "\n",
    "# bölünen array in alt tarafını aldık "
   ]
  },
  {
   "cell_type": "code",
   "execution_count": 108,
   "id": "excellent-stage",
   "metadata": {},
   "outputs": [
    {
     "data": {
      "text/plain": [
       "[array([[0, 1, 2, 3]]),\n",
       " array([[4, 5, 6, 7]]),\n",
       " array([[ 8,  9, 10, 11]]),\n",
       " array([[12, 13, 14, 15]]),\n",
       " array([[16, 17, 18, 19]])]"
      ]
     },
     "execution_count": 108,
     "metadata": {},
     "output_type": "execute_result"
    }
   ],
   "source": [
    "np.vsplit(m, 5)\n",
    "\n",
    "# satırları direkt 5'e böldük ( köşeli parantez içinde olduğunda indeks olarak bölüyordu)"
   ]
  },
  {
   "cell_type": "code",
   "execution_count": 109,
   "id": "announced-mambo",
   "metadata": {},
   "outputs": [
    {
     "data": {
      "text/plain": [
       "array([[ 0,  1,  2,  3],\n",
       "       [ 4,  5,  6,  7],\n",
       "       [ 8,  9, 10, 11],\n",
       "       [12, 13, 14, 15],\n",
       "       [16, 17, 18, 19]])"
      ]
     },
     "execution_count": 109,
     "metadata": {},
     "output_type": "execute_result"
    }
   ],
   "source": [
    "m"
   ]
  },
  {
   "cell_type": "code",
   "execution_count": 111,
   "id": "retained-groove",
   "metadata": {},
   "outputs": [
    {
     "data": {
      "text/plain": [
       "[array([[ 0,  1],\n",
       "        [ 4,  5],\n",
       "        [ 8,  9],\n",
       "        [12, 13],\n",
       "        [16, 17]]),\n",
       " array([[ 2,  3],\n",
       "        [ 6,  7],\n",
       "        [10, 11],\n",
       "        [14, 15],\n",
       "        [18, 19]])]"
      ]
     },
     "execution_count": 111,
     "metadata": {},
     "output_type": "execute_result"
    }
   ],
   "source": [
    "# hsplit, sütun bazında  bölüyor.\n",
    "\n",
    "np.hsplit(m, [2])\n",
    "\n",
    "\n",
    "# sütunları sütunun 2. indeksinden böldü"
   ]
  },
  {
   "cell_type": "code",
   "execution_count": 112,
   "id": "dietary-valuation",
   "metadata": {},
   "outputs": [
    {
     "data": {
      "text/plain": [
       "[array([[ 0],\n",
       "        [ 4],\n",
       "        [ 8],\n",
       "        [12],\n",
       "        [16]]),\n",
       " array([[ 1],\n",
       "        [ 5],\n",
       "        [ 9],\n",
       "        [13],\n",
       "        [17]]),\n",
       " array([[ 2],\n",
       "        [ 6],\n",
       "        [10],\n",
       "        [14],\n",
       "        [18]]),\n",
       " array([[ 3],\n",
       "        [ 7],\n",
       "        [11],\n",
       "        [15],\n",
       "        [19]])]"
      ]
     },
     "execution_count": 112,
     "metadata": {},
     "output_type": "execute_result"
    }
   ],
   "source": [
    "np.hsplit(m, 4)\n",
    "\n",
    "# 4 sütunumuz vardı. direkt 4'e bölelim"
   ]
  },
  {
   "cell_type": "markdown",
   "id": "shaped-reviewer",
   "metadata": {},
   "source": [
    "# Sorting of the Arrays"
   ]
  },
  {
   "cell_type": "code",
   "execution_count": 113,
   "id": "greatest-proposal",
   "metadata": {},
   "outputs": [],
   "source": [
    "v = np.array([2,1,3,4,5])"
   ]
  },
  {
   "cell_type": "code",
   "execution_count": 114,
   "id": "corporate-spending",
   "metadata": {},
   "outputs": [
    {
     "data": {
      "text/plain": [
       "array([1, 2, 3, 4, 5])"
      ]
     },
     "execution_count": 114,
     "metadata": {},
     "output_type": "execute_result"
    }
   ],
   "source": [
    "# array i sort edelim\n",
    "\n",
    "np.sort(v)"
   ]
  },
  {
   "cell_type": "markdown",
   "id": "engaged-bidder",
   "metadata": {},
   "source": [
    "# 2d matrix te sort"
   ]
  },
  {
   "cell_type": "code",
   "execution_count": 115,
   "id": "worst-tsunami",
   "metadata": {},
   "outputs": [],
   "source": [
    "twoD = np.random.randint(5, 100, (3,3))"
   ]
  },
  {
   "cell_type": "code",
   "execution_count": 116,
   "id": "proprietary-machine",
   "metadata": {},
   "outputs": [
    {
     "data": {
      "text/plain": [
       "array([[88, 20, 45],\n",
       "       [62, 68, 20],\n",
       "       [ 6, 96, 35]])"
      ]
     },
     "execution_count": 116,
     "metadata": {},
     "output_type": "execute_result"
    }
   ],
   "source": [
    "twoD"
   ]
  },
  {
   "cell_type": "code",
   "execution_count": 117,
   "id": "rental-narrative",
   "metadata": {},
   "outputs": [
    {
     "data": {
      "text/plain": [
       "array([[ 6, 20, 20],\n",
       "       [62, 68, 35],\n",
       "       [88, 96, 45]])"
      ]
     },
     "execution_count": 117,
     "metadata": {},
     "output_type": "execute_result"
    }
   ],
   "source": [
    "np.sort(twoD, axis = 0) \n",
    "\n",
    "  # axis'i 0 olarak belirleyince satıra bazında sıralayacak"
   ]
  },
  {
   "cell_type": "code",
   "execution_count": 118,
   "id": "alike-cable",
   "metadata": {},
   "outputs": [
    {
     "data": {
      "text/plain": [
       "array([[20, 45, 88],\n",
       "       [20, 62, 68],\n",
       "       [ 6, 35, 96]])"
      ]
     },
     "execution_count": 118,
     "metadata": {},
     "output_type": "execute_result"
    }
   ],
   "source": [
    " # aynısını sütun için de yapalım,\n",
    "\n",
    "np.sort(twoD, axis = 1)\n",
    "\n",
    " # axis'i 1 olarak belirleyince sütun bazında sıralayacak"
   ]
  },
  {
   "cell_type": "code",
   "execution_count": null,
   "id": "assisted-fleet",
   "metadata": {},
   "outputs": [],
   "source": []
  },
  {
   "cell_type": "code",
   "execution_count": null,
   "id": "sound-safety",
   "metadata": {},
   "outputs": [],
   "source": []
  },
  {
   "cell_type": "code",
   "execution_count": null,
   "id": "timely-satisfaction",
   "metadata": {},
   "outputs": [],
   "source": []
  },
  {
   "cell_type": "markdown",
   "id": "accompanied-state",
   "metadata": {},
   "source": [
    "# seed"
   ]
  },
  {
   "cell_type": "code",
   "execution_count": null,
   "id": "surgical-depth",
   "metadata": {},
   "outputs": [],
   "source": [
    "\"\"\"\n",
    "np.random.seed()\n",
    "\n",
    "seed ile set etmek çok kullanışlıdır. seed, rastgele durum üretir. \n",
    "böylece rastgele sonuçlar yeniden üretilebilir.\n",
    "\"\"\""
   ]
  },
  {
   "cell_type": "code",
   "execution_count": 119,
   "id": "interesting-drink",
   "metadata": {},
   "outputs": [
    {
     "data": {
      "text/plain": [
       "array([0.37454012, 0.95071431, 0.73199394, 0.59865848])"
      ]
     },
     "execution_count": 119,
     "metadata": {},
     "output_type": "execute_result"
    }
   ],
   "source": [
    "np.random.seed(42)\n",
    "np.random.rand(4)\n",
    "\n",
    "# so what the seed allows us to do is set a particular set of random numbers.\n",
    "# seed burda bize belirli bir rasgele sayılar kümesi ayarladı.\n",
    "# 42 burada tamamen keyfi bir seçim\n"
   ]
  },
  {
   "cell_type": "code",
   "execution_count": 120,
   "id": "modern-madagascar",
   "metadata": {},
   "outputs": [
    {
     "data": {
      "text/plain": [
       "array([0.51639863, 0.57066759, 0.02847423, 0.17152166])"
      ]
     },
     "execution_count": 120,
     "metadata": {},
     "output_type": "execute_result"
    }
   ],
   "source": [
    "np.random.seed(101)\n",
    "np.random.rand(4)"
   ]
  },
  {
   "cell_type": "code",
   "execution_count": 121,
   "id": "delayed-richmond",
   "metadata": {},
   "outputs": [
    {
     "data": {
      "text/plain": [
       "array([0.68527698, 0.83389686, 0.30696622, 0.89361308])"
      ]
     },
     "execution_count": 121,
     "metadata": {},
     "output_type": "execute_result"
    }
   ],
   "source": [
    "np.random.rand(4)"
   ]
  },
  {
   "cell_type": "code",
   "execution_count": 122,
   "id": "coated-orbit",
   "metadata": {},
   "outputs": [
    {
     "data": {
      "text/plain": [
       "array([0.72154386, 0.18993895, 0.55422759, 0.35213195])"
      ]
     },
     "execution_count": 122,
     "metadata": {},
     "output_type": "execute_result"
    }
   ],
   "source": [
    "np.random.rand(4)\n",
    "\n",
    "# 101 ile set ettikten sonra her np.random.rand(4) fonksiyonu bize ayrı bir random dizi verecektir."
   ]
  },
  {
   "cell_type": "code",
   "execution_count": 123,
   "id": "minor-arthritis",
   "metadata": {},
   "outputs": [
    {
     "data": {
      "text/plain": [
       "array([0.51639863, 0.57066759, 0.02847423, 0.17152166])"
      ]
     },
     "execution_count": 123,
     "metadata": {},
     "output_type": "execute_result"
    }
   ],
   "source": [
    "np.random.seed(101)\n",
    "np.random.rand(4)\n",
    "\n",
    "# fakat 101'i tekrar set ettiğimizde yeniden bize ilk orjinal diziyi verecektir."
   ]
  },
  {
   "cell_type": "code",
   "execution_count": null,
   "id": "residential-classic",
   "metadata": {},
   "outputs": [],
   "source": []
  }
 ],
 "metadata": {
  "kernelspec": {
   "display_name": "Python 3",
   "language": "python",
   "name": "python3"
  },
  "language_info": {
   "codemirror_mode": {
    "name": "ipython",
    "version": 3
   },
   "file_extension": ".py",
   "mimetype": "text/x-python",
   "name": "python",
   "nbconvert_exporter": "python",
   "pygments_lexer": "ipython3",
   "version": "3.7.8"
  }
 },
 "nbformat": 4,
 "nbformat_minor": 5
}
