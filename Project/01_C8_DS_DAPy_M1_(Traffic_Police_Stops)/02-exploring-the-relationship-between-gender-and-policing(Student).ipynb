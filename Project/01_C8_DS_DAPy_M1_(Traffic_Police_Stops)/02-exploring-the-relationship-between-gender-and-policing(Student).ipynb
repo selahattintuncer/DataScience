{
 "cells": [
  {
   "cell_type": "markdown",
   "source": [
    "___\n",
    "\n",
    "<p style=\"text-align: center;\"><img src=\"https://docs.google.com/uc?id=1lY0Uj5R04yMY3-ZppPWxqCr5pvBLYPnV\" class=\"img-fluid\" alt=\"CLRSWY\"></p>\n",
    "\n",
    "___"
   ],
   "metadata": {}
  },
  {
   "cell_type": "markdown",
   "source": [
    "<h1><p style=\"text-align: center;\">Data Analysis with Python <br>Project - 1</p><h1> - Traffic Police Stops <img src=\"https://docs.google.com/uc?id=17CPCwi3_VvzcS87TOsh4_U8eExOhL6Ki\" class=\"img-fluid\" alt=\"CLRSWY\" width=\"200\" height=\"100\"> "
   ],
   "metadata": {}
  },
  {
   "cell_type": "markdown",
   "source": [
    "Does the ``gender`` of a driver have an impact on police behavior during a traffic stop? **In this chapter**, you will explore that question while practicing filtering, grouping, method chaining, Boolean math, string methods, and more!"
   ],
   "metadata": {}
  },
  {
   "cell_type": "markdown",
   "source": [
    "***"
   ],
   "metadata": {}
  },
  {
   "cell_type": "markdown",
   "source": [
    "## Examining traffic violations"
   ],
   "metadata": {}
  },
  {
   "cell_type": "markdown",
   "source": [
    "Before comparing the violations being committed by each gender, you should examine the ``violations`` committed by all drivers to get a baseline understanding of the data.\n",
    "\n",
    "In this exercise, you'll count the unique values in the ``violation`` column, and then separately express those counts as proportions."
   ],
   "metadata": {}
  },
  {
   "cell_type": "markdown",
   "source": [
    "> Before starting your work in this section **repeat the steps which you did in the previos chapter for preparing the data.** Continue to this chapter based on where you were in the end of the previous chapter."
   ],
   "metadata": {}
  },
  {
   "cell_type": "code",
   "execution_count": 50,
   "metadata": {},
   "outputs": [
    {
     "output_type": "stream",
     "name": "stderr",
     "text": [
      "C:\\Users\\selo\\AppData\\Roaming\\Python\\Python39\\site-packages\\IPython\\core\\interactiveshell.py:3165: DtypeWarning: Columns (8) have mixed types.Specify dtype option on import or set low_memory=False.\n  has_raised = await self.run_ast_nodes(code_ast.body, cell_name,\n"
     ]
    }
   ],
   "source": [
    "import pandas as pd\n",
    "ri = pd.read_csv('RI_cleaned.csv', nrows=50000)\n",
    "drop_columns=[\"state\", \"county_name\", \"county_fips\", \"fine_grained_location\"]\n",
    "ri.drop(drop_columns, axis='columns', inplace=True)\n",
    "ri.dropna(subset=['driver_gender'], inplace=True)\n",
    "ri['is_arrested'] = ri.is_arrested.astype('bool')\n",
    "combined = ri.stop_date.str.cat(ri.stop_time, sep=' ')\n",
    "ri['stop_datetime'] = pd.to_datetime(combined)\n",
    "ri.drop([\"stop_date\", \"stop_time\"], axis='columns', inplace=True)\n",
    "ri.set_index('stop_datetime', inplace=True)"
   ]
  },
  {
   "cell_type": "code",
   "execution_count": 2,
   "metadata": {},
   "outputs": [
    {
     "output_type": "execute_result",
     "data": {
      "text/plain": [
       "                                id location_raw police_department  \\\n",
       "stop_datetime                                                       \n",
       "2005-01-02 01:55:00  RI-2005-00001      Zone K1               600   \n",
       "2005-01-02 20:30:00  RI-2005-00002      Zone X4               500   \n",
       "2005-01-04 12:55:00  RI-2005-00004      Zone X4               500   \n",
       "2005-01-06 01:30:00  RI-2005-00005      Zone X4               500   \n",
       "2005-01-12 08:05:00  RI-2005-00006      Zone X1                 0   \n",
       "\n",
       "                    driver_gender  driver_age_raw  driver_age driver_race_raw  \\\n",
       "stop_datetime                                                                   \n",
       "2005-01-02 01:55:00             M          1985.0        20.0               W   \n",
       "2005-01-02 20:30:00             M          1987.0        18.0               W   \n",
       "2005-01-04 12:55:00             M          1986.0        19.0               W   \n",
       "2005-01-06 01:30:00             M          1978.0        27.0               B   \n",
       "2005-01-12 08:05:00             M          1973.0        32.0               B   \n",
       "\n",
       "                    driver_race                   violation_raw  violation  \\\n",
       "stop_datetime                                                                \n",
       "2005-01-02 01:55:00       White                        Speeding   Speeding   \n",
       "2005-01-02 20:30:00       White                        Speeding   Speeding   \n",
       "2005-01-04 12:55:00       White  Equipment/Inspection Violation  Equipment   \n",
       "2005-01-06 01:30:00       Black  Equipment/Inspection Violation  Equipment   \n",
       "2005-01-12 08:05:00       Black                Call for Service      Other   \n",
       "\n",
       "                     search_conducted search_type_raw search_type  \\\n",
       "stop_datetime                                                       \n",
       "2005-01-02 01:55:00             False             NaN         NaN   \n",
       "2005-01-02 20:30:00             False             NaN         NaN   \n",
       "2005-01-04 12:55:00             False             NaN         NaN   \n",
       "2005-01-06 01:30:00             False             NaN         NaN   \n",
       "2005-01-12 08:05:00             False             NaN         NaN   \n",
       "\n",
       "                     contraband_found stop_outcome  is_arrested stop_duration  \\\n",
       "stop_datetime                                                                   \n",
       "2005-01-02 01:55:00             False     Citation        False      0-15 Min   \n",
       "2005-01-02 20:30:00             False     Citation        False     16-30 Min   \n",
       "2005-01-04 12:55:00             False     Citation        False      0-15 Min   \n",
       "2005-01-06 01:30:00             False     Citation        False      0-15 Min   \n",
       "2005-01-12 08:05:00             False     Citation        False       30+ Min   \n",
       "\n",
       "                    out_of_state  drugs_related_stop district  \n",
       "stop_datetime                                                  \n",
       "2005-01-02 01:55:00        False               False  Zone K1  \n",
       "2005-01-02 20:30:00        False               False  Zone X4  \n",
       "2005-01-04 12:55:00        False               False  Zone X4  \n",
       "2005-01-06 01:30:00        False               False  Zone X4  \n",
       "2005-01-12 08:05:00         True               False  Zone X1  "
      ],
      "text/html": "<div>\n<style scoped>\n    .dataframe tbody tr th:only-of-type {\n        vertical-align: middle;\n    }\n\n    .dataframe tbody tr th {\n        vertical-align: top;\n    }\n\n    .dataframe thead th {\n        text-align: right;\n    }\n</style>\n<table border=\"1\" class=\"dataframe\">\n  <thead>\n    <tr style=\"text-align: right;\">\n      <th></th>\n      <th>id</th>\n      <th>location_raw</th>\n      <th>police_department</th>\n      <th>driver_gender</th>\n      <th>driver_age_raw</th>\n      <th>driver_age</th>\n      <th>driver_race_raw</th>\n      <th>driver_race</th>\n      <th>violation_raw</th>\n      <th>violation</th>\n      <th>search_conducted</th>\n      <th>search_type_raw</th>\n      <th>search_type</th>\n      <th>contraband_found</th>\n      <th>stop_outcome</th>\n      <th>is_arrested</th>\n      <th>stop_duration</th>\n      <th>out_of_state</th>\n      <th>drugs_related_stop</th>\n      <th>district</th>\n    </tr>\n    <tr>\n      <th>stop_datetime</th>\n      <th></th>\n      <th></th>\n      <th></th>\n      <th></th>\n      <th></th>\n      <th></th>\n      <th></th>\n      <th></th>\n      <th></th>\n      <th></th>\n      <th></th>\n      <th></th>\n      <th></th>\n      <th></th>\n      <th></th>\n      <th></th>\n      <th></th>\n      <th></th>\n      <th></th>\n      <th></th>\n    </tr>\n  </thead>\n  <tbody>\n    <tr>\n      <th>2005-01-02 01:55:00</th>\n      <td>RI-2005-00001</td>\n      <td>Zone K1</td>\n      <td>600</td>\n      <td>M</td>\n      <td>1985.0</td>\n      <td>20.0</td>\n      <td>W</td>\n      <td>White</td>\n      <td>Speeding</td>\n      <td>Speeding</td>\n      <td>False</td>\n      <td>NaN</td>\n      <td>NaN</td>\n      <td>False</td>\n      <td>Citation</td>\n      <td>False</td>\n      <td>0-15 Min</td>\n      <td>False</td>\n      <td>False</td>\n      <td>Zone K1</td>\n    </tr>\n    <tr>\n      <th>2005-01-02 20:30:00</th>\n      <td>RI-2005-00002</td>\n      <td>Zone X4</td>\n      <td>500</td>\n      <td>M</td>\n      <td>1987.0</td>\n      <td>18.0</td>\n      <td>W</td>\n      <td>White</td>\n      <td>Speeding</td>\n      <td>Speeding</td>\n      <td>False</td>\n      <td>NaN</td>\n      <td>NaN</td>\n      <td>False</td>\n      <td>Citation</td>\n      <td>False</td>\n      <td>16-30 Min</td>\n      <td>False</td>\n      <td>False</td>\n      <td>Zone X4</td>\n    </tr>\n    <tr>\n      <th>2005-01-04 12:55:00</th>\n      <td>RI-2005-00004</td>\n      <td>Zone X4</td>\n      <td>500</td>\n      <td>M</td>\n      <td>1986.0</td>\n      <td>19.0</td>\n      <td>W</td>\n      <td>White</td>\n      <td>Equipment/Inspection Violation</td>\n      <td>Equipment</td>\n      <td>False</td>\n      <td>NaN</td>\n      <td>NaN</td>\n      <td>False</td>\n      <td>Citation</td>\n      <td>False</td>\n      <td>0-15 Min</td>\n      <td>False</td>\n      <td>False</td>\n      <td>Zone X4</td>\n    </tr>\n    <tr>\n      <th>2005-01-06 01:30:00</th>\n      <td>RI-2005-00005</td>\n      <td>Zone X4</td>\n      <td>500</td>\n      <td>M</td>\n      <td>1978.0</td>\n      <td>27.0</td>\n      <td>B</td>\n      <td>Black</td>\n      <td>Equipment/Inspection Violation</td>\n      <td>Equipment</td>\n      <td>False</td>\n      <td>NaN</td>\n      <td>NaN</td>\n      <td>False</td>\n      <td>Citation</td>\n      <td>False</td>\n      <td>0-15 Min</td>\n      <td>False</td>\n      <td>False</td>\n      <td>Zone X4</td>\n    </tr>\n    <tr>\n      <th>2005-01-12 08:05:00</th>\n      <td>RI-2005-00006</td>\n      <td>Zone X1</td>\n      <td>0</td>\n      <td>M</td>\n      <td>1973.0</td>\n      <td>32.0</td>\n      <td>B</td>\n      <td>Black</td>\n      <td>Call for Service</td>\n      <td>Other</td>\n      <td>False</td>\n      <td>NaN</td>\n      <td>NaN</td>\n      <td>False</td>\n      <td>Citation</td>\n      <td>False</td>\n      <td>30+ Min</td>\n      <td>True</td>\n      <td>False</td>\n      <td>Zone X1</td>\n    </tr>\n  </tbody>\n</table>\n</div>"
     },
     "metadata": {},
     "execution_count": 2
    }
   ],
   "source": [
    "ri.head()"
   ]
  },
  {
   "cell_type": "code",
   "execution_count": null,
   "metadata": {},
   "outputs": [],
   "source": []
  },
  {
   "cell_type": "markdown",
   "source": [
    "**INSTRUCTIONS**\r\n",
    "\r\n",
    "*   Count the unique values in the ``violation`` column, to see what violations are being committed by all drivers.\r\n",
    "*   Express the violation counts as proportions of the total."
   ],
   "metadata": {}
  },
  {
   "cell_type": "code",
   "execution_count": null,
   "source": [
    "len(ri[\"violation\"].unique())"
   ],
   "outputs": [
    {
     "output_type": "execute_result",
     "data": {
      "text/plain": [
       "7"
      ]
     },
     "metadata": {},
     "execution_count": 25
    }
   ],
   "metadata": {}
  },
  {
   "cell_type": "code",
   "execution_count": null,
   "source": [
    "ri[\"violation\"].unique()"
   ],
   "outputs": [
    {
     "output_type": "execute_result",
     "data": {
      "text/plain": [
       "array(['Speeding', nan, 'Equipment', 'Other', 'Moving violation',\n",
       "       'Registration/plates', 'Seat belt'], dtype=object)"
      ]
     },
     "metadata": {},
     "execution_count": 26
    }
   ],
   "metadata": {}
  },
  {
   "cell_type": "markdown",
   "source": [
    "### ders'te yapılan ="
   ],
   "metadata": {}
  },
  {
   "cell_type": "code",
   "execution_count": 4,
   "metadata": {},
   "outputs": [
    {
     "output_type": "stream",
     "name": "stdout",
     "text": [
      "Speeding               36111\nMoving violation        6522\nEquipment               3022\nRegistration/plates     1463\nOther                    892\nName: violation, dtype: int64\n"
     ]
    }
   ],
   "source": [
    "print(ri.violation.value_counts(dropna=False))"
   ]
  },
  {
   "cell_type": "code",
   "execution_count": 5,
   "metadata": {},
   "outputs": [
    {
     "output_type": "stream",
     "name": "stdout",
     "text": [
      "Speeding               0.752156\nMoving violation       0.135847\nEquipment              0.062945\nRegistration/plates    0.030473\nOther                  0.018579\nName: violation, dtype: float64\n"
     ]
    }
   ],
   "source": [
    "print(ri.violation.value_counts(normalize=True))   # normalize : sütunlardaki değerleri -1 ile 1 arasında sayıya dönüştürerek gösterir. "
   ]
  },
  {
   "cell_type": "markdown",
   "source": [
    "## Comparing violations by gender"
   ],
   "metadata": {}
  },
  {
   "cell_type": "markdown",
   "source": [
    "The question we're trying to answer is whether male and female drivers tend to commit different types of traffic violations.\n",
    "\n",
    "You'll first create a ``DataFrame`` for each gender, and then analyze the ``violations`` in each ``DataFrame`` separately."
   ],
   "metadata": {}
  },
  {
   "cell_type": "markdown",
   "source": [
    "**INSTRUCTIONS**\n",
    "\n",
    "*   Create a ``DataFrame``, female, that only contains rows in which ``driver_gender`` is ``'F'``.\n",
    "*   Create a ``DataFrame``, male, that only contains rows in which ``driver_gender`` is ``'M'``.\n",
    "*   Count the ``violations`` committed by female drivers and express them as proportions.\n",
    "*   Count the violations committed by male drivers and express them as proportions."
   ],
   "metadata": {}
  },
  {
   "cell_type": "code",
   "execution_count": 6,
   "metadata": {},
   "outputs": [
    {
     "output_type": "execute_result",
     "data": {
      "text/plain": [
       "M    34701\n",
       "F    13309\n",
       "Name: driver_gender, dtype: int64"
      ]
     },
     "metadata": {},
     "execution_count": 6
    }
   ],
   "source": [
    "ri.driver_gender.value_counts()"
   ]
  },
  {
   "cell_type": "code",
   "execution_count": 7,
   "source": [
    "female = ri[ri.driver_gender == \"F\"]"
   ],
   "outputs": [],
   "metadata": {}
  },
  {
   "cell_type": "code",
   "execution_count": 8,
   "metadata": {},
   "outputs": [
    {
     "output_type": "execute_result",
     "data": {
      "text/plain": [
       "                                id location_raw police_department  \\\n",
       "stop_datetime                                                       \n",
       "2005-02-24 01:20:00  RI-2005-00016      Zone X3               200   \n",
       "2005-03-14 10:00:00  RI-2005-00019      Zone K3               300   \n",
       "2005-03-29 23:20:00  RI-2005-00026      Zone K3               300   \n",
       "2005-06-06 13:20:00  RI-2005-00035      Zone X4               500   \n",
       "2005-06-18 16:30:00  RI-2005-00037      Zone X4               500   \n",
       "...                            ...          ...               ...   \n",
       "2006-08-08 22:20:00  RI-2006-35911      Zone K3               300   \n",
       "2006-08-08 22:25:00  RI-2006-35913      Zone K3               300   \n",
       "2006-08-08 22:45:00  RI-2006-35916      Zone K1               600   \n",
       "2006-08-08 22:45:00  RI-2006-35918      Zone K3               300   \n",
       "2006-08-08 23:00:00  RI-2006-35920      Zone K1               600   \n",
       "\n",
       "                    driver_gender  driver_age_raw  driver_age driver_race_raw  \\\n",
       "stop_datetime                                                                   \n",
       "2005-02-24 01:20:00             F          1983.0        22.0               W   \n",
       "2005-03-14 10:00:00             F          1984.0        21.0               W   \n",
       "2005-03-29 23:20:00             F          1971.0        34.0               W   \n",
       "2005-06-06 13:20:00             F          1986.0        19.0               W   \n",
       "2005-06-18 16:30:00             F          1964.0        41.0               W   \n",
       "...                           ...             ...         ...             ...   \n",
       "2006-08-08 22:20:00             F          1980.0        26.0               W   \n",
       "2006-08-08 22:25:00             F          1987.0        19.0               W   \n",
       "2006-08-08 22:45:00             F          1978.0        28.0               B   \n",
       "2006-08-08 22:45:00             F          1971.0        35.0               B   \n",
       "2006-08-08 23:00:00             F          1982.0        24.0               W   \n",
       "\n",
       "                    driver_race            violation_raw         violation  \\\n",
       "stop_datetime                                                                \n",
       "2005-02-24 01:20:00       White                 Speeding          Speeding   \n",
       "2005-03-14 10:00:00       White                 Speeding          Speeding   \n",
       "2005-03-29 23:20:00       White                 Speeding          Speeding   \n",
       "2005-06-06 13:20:00       White                 Speeding          Speeding   \n",
       "2005-06-18 16:30:00       White  Other Traffic Violation  Moving violation   \n",
       "...                         ...                      ...               ...   \n",
       "2006-08-08 22:20:00       White                 Speeding          Speeding   \n",
       "2006-08-08 22:25:00       White                 Speeding          Speeding   \n",
       "2006-08-08 22:45:00       Black                 Speeding          Speeding   \n",
       "2006-08-08 22:45:00       Black                 Speeding          Speeding   \n",
       "2006-08-08 23:00:00       White                 Speeding          Speeding   \n",
       "\n",
       "                     search_conducted search_type_raw search_type  \\\n",
       "stop_datetime                                                       \n",
       "2005-02-24 01:20:00             False             NaN         NaN   \n",
       "2005-03-14 10:00:00             False             NaN         NaN   \n",
       "2005-03-29 23:20:00             False             NaN         NaN   \n",
       "2005-06-06 13:20:00             False             NaN         NaN   \n",
       "2005-06-18 16:30:00             False             NaN         NaN   \n",
       "...                               ...             ...         ...   \n",
       "2006-08-08 22:20:00             False             NaN         NaN   \n",
       "2006-08-08 22:25:00             False             NaN         NaN   \n",
       "2006-08-08 22:45:00             False             NaN         NaN   \n",
       "2006-08-08 22:45:00             False             NaN         NaN   \n",
       "2006-08-08 23:00:00             False             NaN         NaN   \n",
       "\n",
       "                     contraband_found   stop_outcome  is_arrested  \\\n",
       "stop_datetime                                                       \n",
       "2005-02-24 01:20:00             False       Citation        False   \n",
       "2005-03-14 10:00:00             False       Citation        False   \n",
       "2005-03-29 23:20:00             False       Citation        False   \n",
       "2005-06-06 13:20:00             False       Citation        False   \n",
       "2005-06-18 16:30:00             False  Arrest Driver         True   \n",
       "...                               ...            ...          ...   \n",
       "2006-08-08 22:20:00             False       Citation        False   \n",
       "2006-08-08 22:25:00             False       Citation        False   \n",
       "2006-08-08 22:45:00             False       Citation        False   \n",
       "2006-08-08 22:45:00             False       Citation        False   \n",
       "2006-08-08 23:00:00             False       Citation        False   \n",
       "\n",
       "                    stop_duration out_of_state  drugs_related_stop district  \n",
       "stop_datetime                                                                \n",
       "2005-02-24 01:20:00      0-15 Min         True               False  Zone X3  \n",
       "2005-03-14 10:00:00      0-15 Min        False               False  Zone K3  \n",
       "2005-03-29 23:20:00      0-15 Min         True               False  Zone K3  \n",
       "2005-06-06 13:20:00      0-15 Min        False               False  Zone X4  \n",
       "2005-06-18 16:30:00       30+ Min        False               False  Zone X4  \n",
       "...                           ...          ...                 ...      ...  \n",
       "2006-08-08 22:20:00      0-15 Min         True               False  Zone K3  \n",
       "2006-08-08 22:25:00      0-15 Min         True               False  Zone K3  \n",
       "2006-08-08 22:45:00      0-15 Min         True               False  Zone K1  \n",
       "2006-08-08 22:45:00      0-15 Min         True               False  Zone K3  \n",
       "2006-08-08 23:00:00      0-15 Min        False               False  Zone K1  \n",
       "\n",
       "[13309 rows x 20 columns]"
      ],
      "text/html": "<div>\n<style scoped>\n    .dataframe tbody tr th:only-of-type {\n        vertical-align: middle;\n    }\n\n    .dataframe tbody tr th {\n        vertical-align: top;\n    }\n\n    .dataframe thead th {\n        text-align: right;\n    }\n</style>\n<table border=\"1\" class=\"dataframe\">\n  <thead>\n    <tr style=\"text-align: right;\">\n      <th></th>\n      <th>id</th>\n      <th>location_raw</th>\n      <th>police_department</th>\n      <th>driver_gender</th>\n      <th>driver_age_raw</th>\n      <th>driver_age</th>\n      <th>driver_race_raw</th>\n      <th>driver_race</th>\n      <th>violation_raw</th>\n      <th>violation</th>\n      <th>search_conducted</th>\n      <th>search_type_raw</th>\n      <th>search_type</th>\n      <th>contraband_found</th>\n      <th>stop_outcome</th>\n      <th>is_arrested</th>\n      <th>stop_duration</th>\n      <th>out_of_state</th>\n      <th>drugs_related_stop</th>\n      <th>district</th>\n    </tr>\n    <tr>\n      <th>stop_datetime</th>\n      <th></th>\n      <th></th>\n      <th></th>\n      <th></th>\n      <th></th>\n      <th></th>\n      <th></th>\n      <th></th>\n      <th></th>\n      <th></th>\n      <th></th>\n      <th></th>\n      <th></th>\n      <th></th>\n      <th></th>\n      <th></th>\n      <th></th>\n      <th></th>\n      <th></th>\n      <th></th>\n    </tr>\n  </thead>\n  <tbody>\n    <tr>\n      <th>2005-02-24 01:20:00</th>\n      <td>RI-2005-00016</td>\n      <td>Zone X3</td>\n      <td>200</td>\n      <td>F</td>\n      <td>1983.0</td>\n      <td>22.0</td>\n      <td>W</td>\n      <td>White</td>\n      <td>Speeding</td>\n      <td>Speeding</td>\n      <td>False</td>\n      <td>NaN</td>\n      <td>NaN</td>\n      <td>False</td>\n      <td>Citation</td>\n      <td>False</td>\n      <td>0-15 Min</td>\n      <td>True</td>\n      <td>False</td>\n      <td>Zone X3</td>\n    </tr>\n    <tr>\n      <th>2005-03-14 10:00:00</th>\n      <td>RI-2005-00019</td>\n      <td>Zone K3</td>\n      <td>300</td>\n      <td>F</td>\n      <td>1984.0</td>\n      <td>21.0</td>\n      <td>W</td>\n      <td>White</td>\n      <td>Speeding</td>\n      <td>Speeding</td>\n      <td>False</td>\n      <td>NaN</td>\n      <td>NaN</td>\n      <td>False</td>\n      <td>Citation</td>\n      <td>False</td>\n      <td>0-15 Min</td>\n      <td>False</td>\n      <td>False</td>\n      <td>Zone K3</td>\n    </tr>\n    <tr>\n      <th>2005-03-29 23:20:00</th>\n      <td>RI-2005-00026</td>\n      <td>Zone K3</td>\n      <td>300</td>\n      <td>F</td>\n      <td>1971.0</td>\n      <td>34.0</td>\n      <td>W</td>\n      <td>White</td>\n      <td>Speeding</td>\n      <td>Speeding</td>\n      <td>False</td>\n      <td>NaN</td>\n      <td>NaN</td>\n      <td>False</td>\n      <td>Citation</td>\n      <td>False</td>\n      <td>0-15 Min</td>\n      <td>True</td>\n      <td>False</td>\n      <td>Zone K3</td>\n    </tr>\n    <tr>\n      <th>2005-06-06 13:20:00</th>\n      <td>RI-2005-00035</td>\n      <td>Zone X4</td>\n      <td>500</td>\n      <td>F</td>\n      <td>1986.0</td>\n      <td>19.0</td>\n      <td>W</td>\n      <td>White</td>\n      <td>Speeding</td>\n      <td>Speeding</td>\n      <td>False</td>\n      <td>NaN</td>\n      <td>NaN</td>\n      <td>False</td>\n      <td>Citation</td>\n      <td>False</td>\n      <td>0-15 Min</td>\n      <td>False</td>\n      <td>False</td>\n      <td>Zone X4</td>\n    </tr>\n    <tr>\n      <th>2005-06-18 16:30:00</th>\n      <td>RI-2005-00037</td>\n      <td>Zone X4</td>\n      <td>500</td>\n      <td>F</td>\n      <td>1964.0</td>\n      <td>41.0</td>\n      <td>W</td>\n      <td>White</td>\n      <td>Other Traffic Violation</td>\n      <td>Moving violation</td>\n      <td>False</td>\n      <td>NaN</td>\n      <td>NaN</td>\n      <td>False</td>\n      <td>Arrest Driver</td>\n      <td>True</td>\n      <td>30+ Min</td>\n      <td>False</td>\n      <td>False</td>\n      <td>Zone X4</td>\n    </tr>\n    <tr>\n      <th>...</th>\n      <td>...</td>\n      <td>...</td>\n      <td>...</td>\n      <td>...</td>\n      <td>...</td>\n      <td>...</td>\n      <td>...</td>\n      <td>...</td>\n      <td>...</td>\n      <td>...</td>\n      <td>...</td>\n      <td>...</td>\n      <td>...</td>\n      <td>...</td>\n      <td>...</td>\n      <td>...</td>\n      <td>...</td>\n      <td>...</td>\n      <td>...</td>\n      <td>...</td>\n    </tr>\n    <tr>\n      <th>2006-08-08 22:20:00</th>\n      <td>RI-2006-35911</td>\n      <td>Zone K3</td>\n      <td>300</td>\n      <td>F</td>\n      <td>1980.0</td>\n      <td>26.0</td>\n      <td>W</td>\n      <td>White</td>\n      <td>Speeding</td>\n      <td>Speeding</td>\n      <td>False</td>\n      <td>NaN</td>\n      <td>NaN</td>\n      <td>False</td>\n      <td>Citation</td>\n      <td>False</td>\n      <td>0-15 Min</td>\n      <td>True</td>\n      <td>False</td>\n      <td>Zone K3</td>\n    </tr>\n    <tr>\n      <th>2006-08-08 22:25:00</th>\n      <td>RI-2006-35913</td>\n      <td>Zone K3</td>\n      <td>300</td>\n      <td>F</td>\n      <td>1987.0</td>\n      <td>19.0</td>\n      <td>W</td>\n      <td>White</td>\n      <td>Speeding</td>\n      <td>Speeding</td>\n      <td>False</td>\n      <td>NaN</td>\n      <td>NaN</td>\n      <td>False</td>\n      <td>Citation</td>\n      <td>False</td>\n      <td>0-15 Min</td>\n      <td>True</td>\n      <td>False</td>\n      <td>Zone K3</td>\n    </tr>\n    <tr>\n      <th>2006-08-08 22:45:00</th>\n      <td>RI-2006-35916</td>\n      <td>Zone K1</td>\n      <td>600</td>\n      <td>F</td>\n      <td>1978.0</td>\n      <td>28.0</td>\n      <td>B</td>\n      <td>Black</td>\n      <td>Speeding</td>\n      <td>Speeding</td>\n      <td>False</td>\n      <td>NaN</td>\n      <td>NaN</td>\n      <td>False</td>\n      <td>Citation</td>\n      <td>False</td>\n      <td>0-15 Min</td>\n      <td>True</td>\n      <td>False</td>\n      <td>Zone K1</td>\n    </tr>\n    <tr>\n      <th>2006-08-08 22:45:00</th>\n      <td>RI-2006-35918</td>\n      <td>Zone K3</td>\n      <td>300</td>\n      <td>F</td>\n      <td>1971.0</td>\n      <td>35.0</td>\n      <td>B</td>\n      <td>Black</td>\n      <td>Speeding</td>\n      <td>Speeding</td>\n      <td>False</td>\n      <td>NaN</td>\n      <td>NaN</td>\n      <td>False</td>\n      <td>Citation</td>\n      <td>False</td>\n      <td>0-15 Min</td>\n      <td>True</td>\n      <td>False</td>\n      <td>Zone K3</td>\n    </tr>\n    <tr>\n      <th>2006-08-08 23:00:00</th>\n      <td>RI-2006-35920</td>\n      <td>Zone K1</td>\n      <td>600</td>\n      <td>F</td>\n      <td>1982.0</td>\n      <td>24.0</td>\n      <td>W</td>\n      <td>White</td>\n      <td>Speeding</td>\n      <td>Speeding</td>\n      <td>False</td>\n      <td>NaN</td>\n      <td>NaN</td>\n      <td>False</td>\n      <td>Citation</td>\n      <td>False</td>\n      <td>0-15 Min</td>\n      <td>False</td>\n      <td>False</td>\n      <td>Zone K1</td>\n    </tr>\n  </tbody>\n</table>\n<p>13309 rows × 20 columns</p>\n</div>"
     },
     "metadata": {},
     "execution_count": 8
    }
   ],
   "source": [
    "female"
   ]
  },
  {
   "cell_type": "code",
   "execution_count": 10,
   "metadata": {},
   "outputs": [],
   "source": [
    "male = ri[ri.driver_gender == \"M\"]"
   ]
  },
  {
   "cell_type": "code",
   "execution_count": 13,
   "metadata": {},
   "outputs": [
    {
     "output_type": "execute_result",
     "data": {
      "text/plain": [
       "                                id location_raw police_department  \\\n",
       "stop_datetime                                                       \n",
       "2005-01-02 01:55:00  RI-2005-00001      Zone K1               600   \n",
       "2005-01-02 20:30:00  RI-2005-00002      Zone X4               500   \n",
       "\n",
       "                    driver_gender  driver_age_raw  driver_age driver_race_raw  \\\n",
       "stop_datetime                                                                   \n",
       "2005-01-02 01:55:00             M          1985.0        20.0               W   \n",
       "2005-01-02 20:30:00             M          1987.0        18.0               W   \n",
       "\n",
       "                    driver_race violation_raw violation  search_conducted  \\\n",
       "stop_datetime                                                               \n",
       "2005-01-02 01:55:00       White      Speeding  Speeding             False   \n",
       "2005-01-02 20:30:00       White      Speeding  Speeding             False   \n",
       "\n",
       "                    search_type_raw search_type  contraband_found  \\\n",
       "stop_datetime                                                       \n",
       "2005-01-02 01:55:00             NaN         NaN             False   \n",
       "2005-01-02 20:30:00             NaN         NaN             False   \n",
       "\n",
       "                    stop_outcome  is_arrested stop_duration out_of_state  \\\n",
       "stop_datetime                                                              \n",
       "2005-01-02 01:55:00     Citation        False      0-15 Min        False   \n",
       "2005-01-02 20:30:00     Citation        False     16-30 Min        False   \n",
       "\n",
       "                     drugs_related_stop district  \n",
       "stop_datetime                                     \n",
       "2005-01-02 01:55:00               False  Zone K1  \n",
       "2005-01-02 20:30:00               False  Zone X4  "
      ],
      "text/html": "<div>\n<style scoped>\n    .dataframe tbody tr th:only-of-type {\n        vertical-align: middle;\n    }\n\n    .dataframe tbody tr th {\n        vertical-align: top;\n    }\n\n    .dataframe thead th {\n        text-align: right;\n    }\n</style>\n<table border=\"1\" class=\"dataframe\">\n  <thead>\n    <tr style=\"text-align: right;\">\n      <th></th>\n      <th>id</th>\n      <th>location_raw</th>\n      <th>police_department</th>\n      <th>driver_gender</th>\n      <th>driver_age_raw</th>\n      <th>driver_age</th>\n      <th>driver_race_raw</th>\n      <th>driver_race</th>\n      <th>violation_raw</th>\n      <th>violation</th>\n      <th>search_conducted</th>\n      <th>search_type_raw</th>\n      <th>search_type</th>\n      <th>contraband_found</th>\n      <th>stop_outcome</th>\n      <th>is_arrested</th>\n      <th>stop_duration</th>\n      <th>out_of_state</th>\n      <th>drugs_related_stop</th>\n      <th>district</th>\n    </tr>\n    <tr>\n      <th>stop_datetime</th>\n      <th></th>\n      <th></th>\n      <th></th>\n      <th></th>\n      <th></th>\n      <th></th>\n      <th></th>\n      <th></th>\n      <th></th>\n      <th></th>\n      <th></th>\n      <th></th>\n      <th></th>\n      <th></th>\n      <th></th>\n      <th></th>\n      <th></th>\n      <th></th>\n      <th></th>\n      <th></th>\n    </tr>\n  </thead>\n  <tbody>\n    <tr>\n      <th>2005-01-02 01:55:00</th>\n      <td>RI-2005-00001</td>\n      <td>Zone K1</td>\n      <td>600</td>\n      <td>M</td>\n      <td>1985.0</td>\n      <td>20.0</td>\n      <td>W</td>\n      <td>White</td>\n      <td>Speeding</td>\n      <td>Speeding</td>\n      <td>False</td>\n      <td>NaN</td>\n      <td>NaN</td>\n      <td>False</td>\n      <td>Citation</td>\n      <td>False</td>\n      <td>0-15 Min</td>\n      <td>False</td>\n      <td>False</td>\n      <td>Zone K1</td>\n    </tr>\n    <tr>\n      <th>2005-01-02 20:30:00</th>\n      <td>RI-2005-00002</td>\n      <td>Zone X4</td>\n      <td>500</td>\n      <td>M</td>\n      <td>1987.0</td>\n      <td>18.0</td>\n      <td>W</td>\n      <td>White</td>\n      <td>Speeding</td>\n      <td>Speeding</td>\n      <td>False</td>\n      <td>NaN</td>\n      <td>NaN</td>\n      <td>False</td>\n      <td>Citation</td>\n      <td>False</td>\n      <td>16-30 Min</td>\n      <td>False</td>\n      <td>False</td>\n      <td>Zone X4</td>\n    </tr>\n  </tbody>\n</table>\n</div>"
     },
     "metadata": {},
     "execution_count": 13
    }
   ],
   "source": [
    "male.head(2)"
   ]
  },
  {
   "cell_type": "code",
   "execution_count": 14,
   "metadata": {},
   "outputs": [
    {
     "output_type": "execute_result",
     "data": {
      "text/plain": [
       "Speeding               0.729518\n",
       "Moving violation       0.149967\n",
       "Equipment              0.069595\n",
       "Registration/plates    0.031584\n",
       "Other                  0.019337\n",
       "Name: violation, dtype: float64"
      ]
     },
     "metadata": {},
     "execution_count": 14
    }
   ],
   "source": [
    "male.violation.value_counts(normalize=True)"
   ]
  },
  {
   "cell_type": "code",
   "execution_count": 15,
   "metadata": {},
   "outputs": [
    {
     "output_type": "execute_result",
     "data": {
      "text/plain": [
       "Speeding               0.811180\n",
       "Moving violation       0.099031\n",
       "Equipment              0.045608\n",
       "Registration/plates    0.027575\n",
       "Other                  0.016605\n",
       "Name: violation, dtype: float64"
      ]
     },
     "metadata": {},
     "execution_count": 15
    }
   ],
   "source": [
    "female.violation.value_counts(normalize=True)"
   ]
  },
  {
   "cell_type": "code",
   "execution_count": null,
   "metadata": {},
   "outputs": [],
   "source": []
  },
  {
   "cell_type": "markdown",
   "source": [
    "***"
   ],
   "metadata": {}
  },
  {
   "cell_type": "markdown",
   "source": [
    "## Comparing speeding outcomes by gender"
   ],
   "metadata": {}
  },
  {
   "cell_type": "markdown",
   "source": [
    "When a driver is pulled over for speeding, many people believe that gender has an impact on whether the driver will receive a ticket or a warning. Can you find evidence of this in the dataset?\n",
    "\n",
    "First, you'll create two ``DataFrames`` of drivers who were stopped for ``speeding``: one containing ***females*** and the other containing ***males***.\n",
    "\n",
    "Then, for each **gender**, you'll use the ``stop_outcome`` column to calculate what percentage of stops resulted in a ``\"Citation\"`` (meaning a ticket) versus a ``\"Warning\"``."
   ],
   "metadata": {}
  },
  {
   "cell_type": "markdown",
   "source": [
    "**INSTRUCTIONS**\n",
    "\n",
    "*   Create a ``DataFrame``, ``female_and_speeding``, that only includes female drivers who were stopped for speeding.\n",
    "*   Create a ``DataFrame``, ``male_and_speeding``, that only includes male drivers who were stopped for speeding.\n",
    "*   Count the **stop outcomes** for the female drivers and express them as proportions.\n",
    "*   Count the **stop outcomes** for the male drivers and express them as proportions."
   ],
   "metadata": {}
  },
  {
   "cell_type": "code",
   "execution_count": 19,
   "source": [
    "female_and_speading = ri[(ri.driver_gender == \"F\") & (ri.violation == \"Speeding\")]"
   ],
   "outputs": [],
   "metadata": {}
  },
  {
   "source": [
    "female_and_speading.head()"
   ],
   "cell_type": "code",
   "metadata": {},
   "execution_count": 21,
   "outputs": [
    {
     "output_type": "execute_result",
     "data": {
      "text/plain": [
       "                                id location_raw police_department  \\\n",
       "stop_datetime                                                       \n",
       "2005-02-24 01:20:00  RI-2005-00016      Zone X3               200   \n",
       "2005-03-14 10:00:00  RI-2005-00019      Zone K3               300   \n",
       "2005-03-29 23:20:00  RI-2005-00026      Zone K3               300   \n",
       "2005-06-06 13:20:00  RI-2005-00035      Zone X4               500   \n",
       "2005-07-06 11:22:00  RI-2005-00038      Zone X1                 0   \n",
       "\n",
       "                    driver_gender  driver_age_raw  driver_age driver_race_raw  \\\n",
       "stop_datetime                                                                   \n",
       "2005-02-24 01:20:00             F          1983.0        22.0               W   \n",
       "2005-03-14 10:00:00             F          1984.0        21.0               W   \n",
       "2005-03-29 23:20:00             F          1971.0        34.0               W   \n",
       "2005-06-06 13:20:00             F          1986.0        19.0               W   \n",
       "2005-07-06 11:22:00             F          1973.0        32.0               W   \n",
       "\n",
       "                    driver_race violation_raw violation  search_conducted  \\\n",
       "stop_datetime                                                               \n",
       "2005-02-24 01:20:00       White      Speeding  Speeding             False   \n",
       "2005-03-14 10:00:00       White      Speeding  Speeding             False   \n",
       "2005-03-29 23:20:00       White      Speeding  Speeding             False   \n",
       "2005-06-06 13:20:00       White      Speeding  Speeding             False   \n",
       "2005-07-06 11:22:00       White      Speeding  Speeding             False   \n",
       "\n",
       "                    search_type_raw search_type  contraband_found  \\\n",
       "stop_datetime                                                       \n",
       "2005-02-24 01:20:00             NaN         NaN             False   \n",
       "2005-03-14 10:00:00             NaN         NaN             False   \n",
       "2005-03-29 23:20:00             NaN         NaN             False   \n",
       "2005-06-06 13:20:00             NaN         NaN             False   \n",
       "2005-07-06 11:22:00             NaN         NaN             False   \n",
       "\n",
       "                    stop_outcome  is_arrested stop_duration out_of_state  \\\n",
       "stop_datetime                                                              \n",
       "2005-02-24 01:20:00     Citation        False      0-15 Min         True   \n",
       "2005-03-14 10:00:00     Citation        False      0-15 Min        False   \n",
       "2005-03-29 23:20:00     Citation        False      0-15 Min         True   \n",
       "2005-06-06 13:20:00     Citation        False      0-15 Min        False   \n",
       "2005-07-06 11:22:00     Citation        False      0-15 Min        False   \n",
       "\n",
       "                     drugs_related_stop district  \n",
       "stop_datetime                                     \n",
       "2005-02-24 01:20:00               False  Zone X3  \n",
       "2005-03-14 10:00:00               False  Zone K3  \n",
       "2005-03-29 23:20:00               False  Zone K3  \n",
       "2005-06-06 13:20:00               False  Zone X4  \n",
       "2005-07-06 11:22:00               False  Zone X1  "
      ],
      "text/html": "<div>\n<style scoped>\n    .dataframe tbody tr th:only-of-type {\n        vertical-align: middle;\n    }\n\n    .dataframe tbody tr th {\n        vertical-align: top;\n    }\n\n    .dataframe thead th {\n        text-align: right;\n    }\n</style>\n<table border=\"1\" class=\"dataframe\">\n  <thead>\n    <tr style=\"text-align: right;\">\n      <th></th>\n      <th>id</th>\n      <th>location_raw</th>\n      <th>police_department</th>\n      <th>driver_gender</th>\n      <th>driver_age_raw</th>\n      <th>driver_age</th>\n      <th>driver_race_raw</th>\n      <th>driver_race</th>\n      <th>violation_raw</th>\n      <th>violation</th>\n      <th>search_conducted</th>\n      <th>search_type_raw</th>\n      <th>search_type</th>\n      <th>contraband_found</th>\n      <th>stop_outcome</th>\n      <th>is_arrested</th>\n      <th>stop_duration</th>\n      <th>out_of_state</th>\n      <th>drugs_related_stop</th>\n      <th>district</th>\n    </tr>\n    <tr>\n      <th>stop_datetime</th>\n      <th></th>\n      <th></th>\n      <th></th>\n      <th></th>\n      <th></th>\n      <th></th>\n      <th></th>\n      <th></th>\n      <th></th>\n      <th></th>\n      <th></th>\n      <th></th>\n      <th></th>\n      <th></th>\n      <th></th>\n      <th></th>\n      <th></th>\n      <th></th>\n      <th></th>\n      <th></th>\n    </tr>\n  </thead>\n  <tbody>\n    <tr>\n      <th>2005-02-24 01:20:00</th>\n      <td>RI-2005-00016</td>\n      <td>Zone X3</td>\n      <td>200</td>\n      <td>F</td>\n      <td>1983.0</td>\n      <td>22.0</td>\n      <td>W</td>\n      <td>White</td>\n      <td>Speeding</td>\n      <td>Speeding</td>\n      <td>False</td>\n      <td>NaN</td>\n      <td>NaN</td>\n      <td>False</td>\n      <td>Citation</td>\n      <td>False</td>\n      <td>0-15 Min</td>\n      <td>True</td>\n      <td>False</td>\n      <td>Zone X3</td>\n    </tr>\n    <tr>\n      <th>2005-03-14 10:00:00</th>\n      <td>RI-2005-00019</td>\n      <td>Zone K3</td>\n      <td>300</td>\n      <td>F</td>\n      <td>1984.0</td>\n      <td>21.0</td>\n      <td>W</td>\n      <td>White</td>\n      <td>Speeding</td>\n      <td>Speeding</td>\n      <td>False</td>\n      <td>NaN</td>\n      <td>NaN</td>\n      <td>False</td>\n      <td>Citation</td>\n      <td>False</td>\n      <td>0-15 Min</td>\n      <td>False</td>\n      <td>False</td>\n      <td>Zone K3</td>\n    </tr>\n    <tr>\n      <th>2005-03-29 23:20:00</th>\n      <td>RI-2005-00026</td>\n      <td>Zone K3</td>\n      <td>300</td>\n      <td>F</td>\n      <td>1971.0</td>\n      <td>34.0</td>\n      <td>W</td>\n      <td>White</td>\n      <td>Speeding</td>\n      <td>Speeding</td>\n      <td>False</td>\n      <td>NaN</td>\n      <td>NaN</td>\n      <td>False</td>\n      <td>Citation</td>\n      <td>False</td>\n      <td>0-15 Min</td>\n      <td>True</td>\n      <td>False</td>\n      <td>Zone K3</td>\n    </tr>\n    <tr>\n      <th>2005-06-06 13:20:00</th>\n      <td>RI-2005-00035</td>\n      <td>Zone X4</td>\n      <td>500</td>\n      <td>F</td>\n      <td>1986.0</td>\n      <td>19.0</td>\n      <td>W</td>\n      <td>White</td>\n      <td>Speeding</td>\n      <td>Speeding</td>\n      <td>False</td>\n      <td>NaN</td>\n      <td>NaN</td>\n      <td>False</td>\n      <td>Citation</td>\n      <td>False</td>\n      <td>0-15 Min</td>\n      <td>False</td>\n      <td>False</td>\n      <td>Zone X4</td>\n    </tr>\n    <tr>\n      <th>2005-07-06 11:22:00</th>\n      <td>RI-2005-00038</td>\n      <td>Zone X1</td>\n      <td>0</td>\n      <td>F</td>\n      <td>1973.0</td>\n      <td>32.0</td>\n      <td>W</td>\n      <td>White</td>\n      <td>Speeding</td>\n      <td>Speeding</td>\n      <td>False</td>\n      <td>NaN</td>\n      <td>NaN</td>\n      <td>False</td>\n      <td>Citation</td>\n      <td>False</td>\n      <td>0-15 Min</td>\n      <td>False</td>\n      <td>False</td>\n      <td>Zone X1</td>\n    </tr>\n  </tbody>\n</table>\n</div>"
     },
     "metadata": {},
     "execution_count": 21
    }
   ]
  },
  {
   "cell_type": "code",
   "execution_count": null,
   "metadata": {},
   "outputs": [],
   "source": []
  },
  {
   "cell_type": "code",
   "execution_count": 18,
   "metadata": {},
   "outputs": [],
   "source": [
    "male_and_speading = ri[(ri.driver_gender == \"M\") & (ri.violation == \"Speeding\")]"
   ]
  },
  {
   "cell_type": "code",
   "execution_count": 22,
   "metadata": {},
   "outputs": [
    {
     "output_type": "execute_result",
     "data": {
      "text/plain": [
       "                                id location_raw police_department  \\\n",
       "stop_datetime                                                       \n",
       "2005-01-02 01:55:00  RI-2005-00001      Zone K1               600   \n",
       "2005-01-02 20:30:00  RI-2005-00002      Zone X4               500   \n",
       "2005-01-18 08:15:00  RI-2005-00007      Zone K3               300   \n",
       "2005-01-23 23:15:00  RI-2005-00009      Zone K3               300   \n",
       "2005-01-24 20:32:00  RI-2005-00010      Zone K1               600   \n",
       "\n",
       "                    driver_gender  driver_age_raw  driver_age driver_race_raw  \\\n",
       "stop_datetime                                                                   \n",
       "2005-01-02 01:55:00             M          1985.0        20.0               W   \n",
       "2005-01-02 20:30:00             M          1987.0        18.0               W   \n",
       "2005-01-18 08:15:00             M          1965.0        40.0               W   \n",
       "2005-01-23 23:15:00             M          1972.0        33.0               W   \n",
       "2005-01-24 20:32:00             M          1987.0        18.0               W   \n",
       "\n",
       "                    driver_race violation_raw violation  search_conducted  \\\n",
       "stop_datetime                                                               \n",
       "2005-01-02 01:55:00       White      Speeding  Speeding             False   \n",
       "2005-01-02 20:30:00       White      Speeding  Speeding             False   \n",
       "2005-01-18 08:15:00       White      Speeding  Speeding             False   \n",
       "2005-01-23 23:15:00       White      Speeding  Speeding             False   \n",
       "2005-01-24 20:32:00       White      Speeding  Speeding              True   \n",
       "\n",
       "                    search_type_raw     search_type  contraband_found  \\\n",
       "stop_datetime                                                           \n",
       "2005-01-02 01:55:00             NaN             NaN             False   \n",
       "2005-01-02 20:30:00             NaN             NaN             False   \n",
       "2005-01-18 08:15:00             NaN             NaN             False   \n",
       "2005-01-23 23:15:00             NaN             NaN             False   \n",
       "2005-01-24 20:32:00  Probable Cause  Probable Cause              True   \n",
       "\n",
       "                    stop_outcome  is_arrested stop_duration out_of_state  \\\n",
       "stop_datetime                                                              \n",
       "2005-01-02 01:55:00     Citation        False      0-15 Min        False   \n",
       "2005-01-02 20:30:00     Citation        False     16-30 Min        False   \n",
       "2005-01-18 08:15:00     Citation        False      0-15 Min         True   \n",
       "2005-01-23 23:15:00     Citation        False      0-15 Min         True   \n",
       "2005-01-24 20:32:00     Citation        False      0-15 Min         True   \n",
       "\n",
       "                     drugs_related_stop district  \n",
       "stop_datetime                                     \n",
       "2005-01-02 01:55:00               False  Zone K1  \n",
       "2005-01-02 20:30:00               False  Zone X4  \n",
       "2005-01-18 08:15:00               False  Zone K3  \n",
       "2005-01-23 23:15:00               False  Zone K3  \n",
       "2005-01-24 20:32:00                True  Zone K1  "
      ],
      "text/html": "<div>\n<style scoped>\n    .dataframe tbody tr th:only-of-type {\n        vertical-align: middle;\n    }\n\n    .dataframe tbody tr th {\n        vertical-align: top;\n    }\n\n    .dataframe thead th {\n        text-align: right;\n    }\n</style>\n<table border=\"1\" class=\"dataframe\">\n  <thead>\n    <tr style=\"text-align: right;\">\n      <th></th>\n      <th>id</th>\n      <th>location_raw</th>\n      <th>police_department</th>\n      <th>driver_gender</th>\n      <th>driver_age_raw</th>\n      <th>driver_age</th>\n      <th>driver_race_raw</th>\n      <th>driver_race</th>\n      <th>violation_raw</th>\n      <th>violation</th>\n      <th>search_conducted</th>\n      <th>search_type_raw</th>\n      <th>search_type</th>\n      <th>contraband_found</th>\n      <th>stop_outcome</th>\n      <th>is_arrested</th>\n      <th>stop_duration</th>\n      <th>out_of_state</th>\n      <th>drugs_related_stop</th>\n      <th>district</th>\n    </tr>\n    <tr>\n      <th>stop_datetime</th>\n      <th></th>\n      <th></th>\n      <th></th>\n      <th></th>\n      <th></th>\n      <th></th>\n      <th></th>\n      <th></th>\n      <th></th>\n      <th></th>\n      <th></th>\n      <th></th>\n      <th></th>\n      <th></th>\n      <th></th>\n      <th></th>\n      <th></th>\n      <th></th>\n      <th></th>\n      <th></th>\n    </tr>\n  </thead>\n  <tbody>\n    <tr>\n      <th>2005-01-02 01:55:00</th>\n      <td>RI-2005-00001</td>\n      <td>Zone K1</td>\n      <td>600</td>\n      <td>M</td>\n      <td>1985.0</td>\n      <td>20.0</td>\n      <td>W</td>\n      <td>White</td>\n      <td>Speeding</td>\n      <td>Speeding</td>\n      <td>False</td>\n      <td>NaN</td>\n      <td>NaN</td>\n      <td>False</td>\n      <td>Citation</td>\n      <td>False</td>\n      <td>0-15 Min</td>\n      <td>False</td>\n      <td>False</td>\n      <td>Zone K1</td>\n    </tr>\n    <tr>\n      <th>2005-01-02 20:30:00</th>\n      <td>RI-2005-00002</td>\n      <td>Zone X4</td>\n      <td>500</td>\n      <td>M</td>\n      <td>1987.0</td>\n      <td>18.0</td>\n      <td>W</td>\n      <td>White</td>\n      <td>Speeding</td>\n      <td>Speeding</td>\n      <td>False</td>\n      <td>NaN</td>\n      <td>NaN</td>\n      <td>False</td>\n      <td>Citation</td>\n      <td>False</td>\n      <td>16-30 Min</td>\n      <td>False</td>\n      <td>False</td>\n      <td>Zone X4</td>\n    </tr>\n    <tr>\n      <th>2005-01-18 08:15:00</th>\n      <td>RI-2005-00007</td>\n      <td>Zone K3</td>\n      <td>300</td>\n      <td>M</td>\n      <td>1965.0</td>\n      <td>40.0</td>\n      <td>W</td>\n      <td>White</td>\n      <td>Speeding</td>\n      <td>Speeding</td>\n      <td>False</td>\n      <td>NaN</td>\n      <td>NaN</td>\n      <td>False</td>\n      <td>Citation</td>\n      <td>False</td>\n      <td>0-15 Min</td>\n      <td>True</td>\n      <td>False</td>\n      <td>Zone K3</td>\n    </tr>\n    <tr>\n      <th>2005-01-23 23:15:00</th>\n      <td>RI-2005-00009</td>\n      <td>Zone K3</td>\n      <td>300</td>\n      <td>M</td>\n      <td>1972.0</td>\n      <td>33.0</td>\n      <td>W</td>\n      <td>White</td>\n      <td>Speeding</td>\n      <td>Speeding</td>\n      <td>False</td>\n      <td>NaN</td>\n      <td>NaN</td>\n      <td>False</td>\n      <td>Citation</td>\n      <td>False</td>\n      <td>0-15 Min</td>\n      <td>True</td>\n      <td>False</td>\n      <td>Zone K3</td>\n    </tr>\n    <tr>\n      <th>2005-01-24 20:32:00</th>\n      <td>RI-2005-00010</td>\n      <td>Zone K1</td>\n      <td>600</td>\n      <td>M</td>\n      <td>1987.0</td>\n      <td>18.0</td>\n      <td>W</td>\n      <td>White</td>\n      <td>Speeding</td>\n      <td>Speeding</td>\n      <td>True</td>\n      <td>Probable Cause</td>\n      <td>Probable Cause</td>\n      <td>True</td>\n      <td>Citation</td>\n      <td>False</td>\n      <td>0-15 Min</td>\n      <td>True</td>\n      <td>True</td>\n      <td>Zone K1</td>\n    </tr>\n  </tbody>\n</table>\n</div>"
     },
     "metadata": {},
     "execution_count": 22
    }
   ],
   "source": [
    "male_and_speading.head()"
   ]
  },
  {
   "cell_type": "code",
   "execution_count": 23,
   "metadata": {},
   "outputs": [
    {
     "output_type": "execute_result",
     "data": {
      "text/plain": [
       "Citation            0.973416\n",
       "Warning             0.012968\n",
       "Arrest Driver       0.007410\n",
       "N/D                 0.003612\n",
       "Arrest Passenger    0.002316\n",
       "No Action           0.000278\n",
       "Name: stop_outcome, dtype: float64"
      ]
     },
     "metadata": {},
     "execution_count": 23
    }
   ],
   "source": [
    "female_and_speading.stop_outcome.value_counts(normalize=True)"
   ]
  },
  {
   "cell_type": "code",
   "execution_count": 24,
   "metadata": {},
   "outputs": [
    {
     "output_type": "execute_result",
     "data": {
      "text/plain": [
       "Citation            0.957298\n",
       "Arrest Driver       0.026230\n",
       "Warning             0.010666\n",
       "N/D                 0.003397\n",
       "Arrest Passenger    0.002015\n",
       "No Action           0.000395\n",
       "Name: stop_outcome, dtype: float64"
      ]
     },
     "metadata": {},
     "execution_count": 24
    }
   ],
   "source": [
    "male_and_speading.stop_outcome.value_counts(normalize=True)"
   ]
  },
  {
   "cell_type": "markdown",
   "source": [
    "## Calculating the search rate"
   ],
   "metadata": {}
  },
  {
   "cell_type": "markdown",
   "source": [
    "During a traffic stop, the police officer sometimes conducts a search of the vehicle. In this exercise, you'll calculate the percentage of all stops that result in a vehicle search, also known as the **search rate**."
   ],
   "metadata": {}
  },
  {
   "cell_type": "markdown",
   "source": [
    "**INSTRUCTIONS**\n",
    "\n",
    "*   Check the data type of ``search_conducted`` to confirm that it's a ``Boolean Series``.\n",
    "*   Calculate the search rate by counting the ``Series`` values and expressing them as proportions.\n",
    "*   Calculate the search rate by taking the mean of the ``Series``. (It should match the proportion of ``True`` values calculated above.)"
   ],
   "metadata": {}
  },
  {
   "cell_type": "code",
   "execution_count": 25,
   "source": [
    "ri.search_conducted.dtype"
   ],
   "outputs": [
    {
     "output_type": "execute_result",
     "data": {
      "text/plain": [
       "dtype('bool')"
      ]
     },
     "metadata": {},
     "execution_count": 25
    }
   ],
   "metadata": {}
  },
  {
   "cell_type": "code",
   "execution_count": 26,
   "metadata": {},
   "outputs": [
    {
     "output_type": "execute_result",
     "data": {
      "text/plain": [
       "False    0.958092\n",
       "True     0.041908\n",
       "Name: search_conducted, dtype: float64"
      ]
     },
     "metadata": {},
     "execution_count": 26
    }
   ],
   "source": [
    "ri.search_conducted.value_counts(normalize = True)"
   ]
  },
  {
   "cell_type": "markdown",
   "source": [
    "***"
   ],
   "metadata": {}
  },
  {
   "cell_type": "markdown",
   "source": [
    "## Comparing search rates by gender"
   ],
   "metadata": {}
  },
  {
   "cell_type": "markdown",
   "source": [
    "You'll compare the rates at which **female** and **male** drivers are searched during a traffic stop. Remember that the vehicle search rate across all stops is about **3.8%**.\n",
    "\n",
    "First, you'll filter the ``DataFrame`` by gender and calculate the search rate for each group separately. Then, you'll perform the same calculation for both genders at once using a ``.groupby()``."
   ],
   "metadata": {}
  },
  {
   "cell_type": "markdown",
   "source": [
    "**INSTRUCTIONS 1/3**\n",
    "\n",
    "*   Filter the ``DataFrame`` to only include **female** drivers, and then calculate the search rate by taking the mean of ``search_conducted``."
   ],
   "metadata": {}
  },
  {
   "cell_type": "code",
   "execution_count": 27,
   "source": [
    "female.search_conducted.mean()   # kadınların aranma oranını alırız"
   ],
   "outputs": [
    {
     "output_type": "execute_result",
     "data": {
      "text/plain": [
       "0.017807498685100308"
      ]
     },
     "metadata": {},
     "execution_count": 27
    }
   ],
   "metadata": {}
  },
  {
   "cell_type": "code",
   "execution_count": 28,
   "metadata": {},
   "outputs": [
    {
     "output_type": "execute_result",
     "data": {
      "text/plain": [
       "0.05115126365234431"
      ]
     },
     "metadata": {},
     "execution_count": 28
    }
   ],
   "source": [
    "male.search_conducted.mean()"
   ]
  },
  {
   "cell_type": "code",
   "execution_count": null,
   "metadata": {},
   "outputs": [],
   "source": []
  },
  {
   "cell_type": "code",
   "execution_count": null,
   "metadata": {},
   "outputs": [],
   "source": []
  },
  {
   "cell_type": "markdown",
   "source": [
    "**INSTRUCTIONS 2/3**\n",
    "\n",
    "*   Filter the ``DataFrame`` to only include **male** drivers, and then repeat the search rate calculation."
   ],
   "metadata": {}
  },
  {
   "cell_type": "code",
   "execution_count": null,
   "source": [],
   "outputs": [],
   "metadata": {}
  },
  {
   "cell_type": "markdown",
   "source": [
    "**INSTRUCTIONS 3/3**\n",
    "\n",
    "*   Group by driver gender to calculate the search rate for both groups simultaneously. (It should match the previous results.)"
   ],
   "metadata": {}
  },
  {
   "cell_type": "code",
   "execution_count": 29,
   "metadata": {},
   "outputs": [
    {
     "output_type": "execute_result",
     "data": {
      "text/plain": [
       "array(['M', 'F'], dtype=object)"
      ]
     },
     "metadata": {},
     "execution_count": 29
    }
   ],
   "source": [
    "ri.driver_gender.unique()"
   ]
  },
  {
   "cell_type": "code",
   "execution_count": 30,
   "metadata": {},
   "outputs": [
    {
     "output_type": "execute_result",
     "data": {
      "text/plain": [
       "driver_gender\n",
       "F    0.017807\n",
       "M    0.051151\n",
       "Name: search_conducted, dtype: float64"
      ]
     },
     "metadata": {},
     "execution_count": 30
    }
   ],
   "source": [
    "ri.groupby(\"driver_gender\").search_conducted.mean()"
   ]
  },
  {
   "cell_type": "code",
   "execution_count": 31,
   "source": [
    "ri.groupby(\"driver_gender\")[\"search_conducted\"].mean()  # yukarıdaki ile aynı sonucu verir."
   ],
   "outputs": [
    {
     "output_type": "execute_result",
     "data": {
      "text/plain": [
       "driver_gender\n",
       "F    0.017807\n",
       "M    0.051151\n",
       "Name: search_conducted, dtype: float64"
      ]
     },
     "metadata": {},
     "execution_count": 31
    }
   ],
   "metadata": {}
  },
  {
   "cell_type": "markdown",
   "source": [
    "## Adding a second factor to the analysis"
   ],
   "metadata": {}
  },
  {
   "cell_type": "markdown",
   "source": [
    "Even though the search rate for males is much higher than for females, it's possible that the difference is mostly due to a second factor.\n",
    "\n",
    "For example, you might hypothesize that the search rate varies by violation type, and the difference in search rate between males and females is because they tend to commit different violations.\n",
    "\n",
    "You can test this hypothesis by examining the search rate for each combination of gender and violation. If the hypothesis was true, you would find that males and females are searched at about the same rate for each violation. Find out below if that's the case!"
   ],
   "metadata": {}
  },
  {
   "cell_type": "markdown",
   "source": [
    "**INSTRUCTIONS 1/2**\n",
    "\n",
    "*   Use a ``.groupby()`` to calculate the search rate for each combination of gender and violation. Are males and females searched at about the same rate for each violation?"
   ],
   "metadata": {}
  },
  {
   "cell_type": "code",
   "execution_count": 32,
   "metadata": {},
   "outputs": [
    {
     "output_type": "execute_result",
     "data": {
      "text/plain": [
       "array(['Speeding', 'Equipment', 'Other', 'Moving violation',\n",
       "       'Registration/plates'], dtype=object)"
      ]
     },
     "metadata": {},
     "execution_count": 32
    }
   ],
   "source": [
    "ri.violation.unique()"
   ]
  },
  {
   "cell_type": "code",
   "execution_count": null,
   "metadata": {},
   "outputs": [],
   "source": []
  },
  {
   "cell_type": "code",
   "execution_count": 34,
   "source": [
    "ri.groupby([\"driver_gender\", \"violation\"]).search_conducted.mean()"
   ],
   "outputs": [
    {
     "output_type": "execute_result",
     "data": {
      "text/plain": [
       "driver_gender  violation          \n",
       "F              Equipment              0.079077\n",
       "               Moving violation       0.047800\n",
       "               Other                  0.045249\n",
       "               Registration/plates    0.114441\n",
       "               Speeding               0.006854\n",
       "M              Equipment              0.123395\n",
       "               Moving violation       0.088778\n",
       "               Other                  0.154993\n",
       "               Registration/plates    0.171533\n",
       "               Speeding               0.028560\n",
       "Name: search_conducted, dtype: float64"
      ]
     },
     "metadata": {},
     "execution_count": 34
    }
   ],
   "metadata": {}
  },
  {
   "cell_type": "code",
   "execution_count": null,
   "metadata": {},
   "outputs": [],
   "source": []
  },
  {
   "cell_type": "markdown",
   "source": [
    "**INSTRUCTIONS 2/2**\n",
    "\n",
    "*   Reverse the ordering to group by violation before gender. The results may be easier to compare when presented this way."
   ],
   "metadata": {}
  },
  {
   "cell_type": "code",
   "execution_count": 35,
   "source": [
    "ri.groupby([\"violation\", \"driver_gender\" ]).search_conducted.mean()"
   ],
   "outputs": [
    {
     "output_type": "execute_result",
     "data": {
      "text/plain": [
       "violation            driver_gender\n",
       "Equipment            F                0.079077\n",
       "                     M                0.123395\n",
       "Moving violation     F                0.047800\n",
       "                     M                0.088778\n",
       "Other                F                0.045249\n",
       "                     M                0.154993\n",
       "Registration/plates  F                0.114441\n",
       "                     M                0.171533\n",
       "Speeding             F                0.006854\n",
       "                     M                0.028560\n",
       "Name: search_conducted, dtype: float64"
      ]
     },
     "metadata": {},
     "execution_count": 35
    }
   ],
   "metadata": {}
  },
  {
   "cell_type": "markdown",
   "source": [
    "***"
   ],
   "metadata": {}
  },
  {
   "cell_type": "markdown",
   "source": [
    "## Counting protective frisks"
   ],
   "metadata": {}
  },
  {
   "cell_type": "markdown",
   "source": [
    "During a vehicle search, the police officer may pat down the driver to check if they have a weapon. This is known as a ``\"protective frisk.\"``\n",
    "\n",
    "You'll first check to see how many times \"Protective Frisk\" was the only search type. Then, you'll use a string method to locate all instances in which the driver was frisked."
   ],
   "metadata": {}
  },
  {
   "cell_type": "markdown",
   "source": [
    "**INSTRUCTIONS**\n",
    "\n",
    "*   Count the ``search_type`` values to see how many times ``\"Protective Frisk\"`` was the only search type.\n",
    "*   Create a new column, frisk, that is ``True`` if ``search_type`` contains the string ``\"Protective Frisk\"`` and ``False`` otherwise.\n",
    "*   Check the data type of frisk to confirm that it's a ``Boolean Series``.\n",
    "*   Take the sum of frisk to count the total number of frisks."
   ],
   "metadata": {}
  },
  {
   "cell_type": "code",
   "execution_count": 36,
   "source": [
    "ri.search_type.value_counts()"
   ],
   "outputs": [
    {
     "output_type": "execute_result",
     "data": {
      "text/plain": [
       "Incident to Arrest                                          958\n",
       "Probable Cause                                              244\n",
       "Protective Frisk                                            204\n",
       "Inventory                                                   117\n",
       "Incident to Arrest,Inventory                                116\n",
       "Incident to Arrest,Probable Cause                            76\n",
       "Incident to Arrest,Protective Frisk                          63\n",
       "Reasonable Suspicion                                         43\n",
       "Probable Cause,Protective Frisk                              36\n",
       "Incident to Arrest,Inventory,Protective Frisk                33\n",
       "Inventory,Protective Frisk                                   23\n",
       "Incident to Arrest,Probable Cause,Protective Frisk           20\n",
       "Incident to Arrest,Inventory,Probable Cause                  19\n",
       "Protective Frisk,Reasonable Suspicion                        16\n",
       "Inventory,Probable Cause                                     16\n",
       "Probable Cause,Reasonable Suspicion                          12\n",
       "Probable Cause,Protective Frisk,Reasonable Suspicion          5\n",
       "Incident to Arrest,Reasonable Suspicion                       5\n",
       "Inventory,Probable Cause,Protective Frisk                     2\n",
       "Incident to Arrest,Protective Frisk,Reasonable Suspicion      1\n",
       "Inventory,Reasonable Suspicion                                1\n",
       "Incident to Arrest,Inventory,Reasonable Suspicion             1\n",
       "Incident to Arrest,Probable Cause,Reasonable Suspicion        1\n",
       "Name: search_type, dtype: int64"
      ]
     },
     "metadata": {},
     "execution_count": 36
    }
   ],
   "metadata": {}
  },
  {
   "cell_type": "code",
   "execution_count": 38,
   "metadata": {},
   "outputs": [
    {
     "output_type": "execute_result",
     "data": {
      "text/plain": [
       "                                id location_raw police_department  \\\n",
       "stop_datetime                                                       \n",
       "2005-10-06 21:35:00  RI-2005-01027      Zone X4               500   \n",
       "2005-10-07 11:33:00  RI-2005-01121      Zone X4               900   \n",
       "\n",
       "                    driver_gender  driver_age_raw  driver_age driver_race_raw  \\\n",
       "stop_datetime                                                                   \n",
       "2005-10-06 21:35:00             M          1966.0        39.0               W   \n",
       "2005-10-07 11:33:00             M          1980.0        25.0               W   \n",
       "\n",
       "                    driver_race                   violation_raw  violation  \\\n",
       "stop_datetime                                                                \n",
       "2005-10-06 21:35:00       White                        Speeding   Speeding   \n",
       "2005-10-07 11:33:00       White  Equipment/Inspection Violation  Equipment   \n",
       "\n",
       "                     search_conducted search_type_raw       search_type  \\\n",
       "stop_datetime                                                             \n",
       "2005-10-06 21:35:00              True     Terry Frisk  Protective Frisk   \n",
       "2005-10-07 11:33:00              True     Terry Frisk  Protective Frisk   \n",
       "\n",
       "                     contraband_found   stop_outcome  is_arrested  \\\n",
       "stop_datetime                                                       \n",
       "2005-10-06 21:35:00             False       Citation        False   \n",
       "2005-10-07 11:33:00             False  Arrest Driver         True   \n",
       "\n",
       "                    stop_duration out_of_state  drugs_related_stop district  \n",
       "stop_datetime                                                                \n",
       "2005-10-06 21:35:00      0-15 Min        False               False  Zone X4  \n",
       "2005-10-07 11:33:00     16-30 Min        False               False  Zone X4  "
      ],
      "text/html": "<div>\n<style scoped>\n    .dataframe tbody tr th:only-of-type {\n        vertical-align: middle;\n    }\n\n    .dataframe tbody tr th {\n        vertical-align: top;\n    }\n\n    .dataframe thead th {\n        text-align: right;\n    }\n</style>\n<table border=\"1\" class=\"dataframe\">\n  <thead>\n    <tr style=\"text-align: right;\">\n      <th></th>\n      <th>id</th>\n      <th>location_raw</th>\n      <th>police_department</th>\n      <th>driver_gender</th>\n      <th>driver_age_raw</th>\n      <th>driver_age</th>\n      <th>driver_race_raw</th>\n      <th>driver_race</th>\n      <th>violation_raw</th>\n      <th>violation</th>\n      <th>search_conducted</th>\n      <th>search_type_raw</th>\n      <th>search_type</th>\n      <th>contraband_found</th>\n      <th>stop_outcome</th>\n      <th>is_arrested</th>\n      <th>stop_duration</th>\n      <th>out_of_state</th>\n      <th>drugs_related_stop</th>\n      <th>district</th>\n    </tr>\n    <tr>\n      <th>stop_datetime</th>\n      <th></th>\n      <th></th>\n      <th></th>\n      <th></th>\n      <th></th>\n      <th></th>\n      <th></th>\n      <th></th>\n      <th></th>\n      <th></th>\n      <th></th>\n      <th></th>\n      <th></th>\n      <th></th>\n      <th></th>\n      <th></th>\n      <th></th>\n      <th></th>\n      <th></th>\n      <th></th>\n    </tr>\n  </thead>\n  <tbody>\n    <tr>\n      <th>2005-10-06 21:35:00</th>\n      <td>RI-2005-01027</td>\n      <td>Zone X4</td>\n      <td>500</td>\n      <td>M</td>\n      <td>1966.0</td>\n      <td>39.0</td>\n      <td>W</td>\n      <td>White</td>\n      <td>Speeding</td>\n      <td>Speeding</td>\n      <td>True</td>\n      <td>Terry Frisk</td>\n      <td>Protective Frisk</td>\n      <td>False</td>\n      <td>Citation</td>\n      <td>False</td>\n      <td>0-15 Min</td>\n      <td>False</td>\n      <td>False</td>\n      <td>Zone X4</td>\n    </tr>\n    <tr>\n      <th>2005-10-07 11:33:00</th>\n      <td>RI-2005-01121</td>\n      <td>Zone X4</td>\n      <td>900</td>\n      <td>M</td>\n      <td>1980.0</td>\n      <td>25.0</td>\n      <td>W</td>\n      <td>White</td>\n      <td>Equipment/Inspection Violation</td>\n      <td>Equipment</td>\n      <td>True</td>\n      <td>Terry Frisk</td>\n      <td>Protective Frisk</td>\n      <td>False</td>\n      <td>Arrest Driver</td>\n      <td>True</td>\n      <td>16-30 Min</td>\n      <td>False</td>\n      <td>False</td>\n      <td>Zone X4</td>\n    </tr>\n  </tbody>\n</table>\n</div>"
     },
     "metadata": {},
     "execution_count": 38
    }
   ],
   "source": [
    "ri[ri.search_type == \"Protective Frisk\"].head(2)\n"
   ]
  },
  {
   "cell_type": "code",
   "execution_count": 39,
   "metadata": {},
   "outputs": [],
   "source": [
    "ri[\"frisk\"] = ri.search_type.str.contains(\"Protective Frisk\", na= False)"
   ]
  },
  {
   "cell_type": "code",
   "execution_count": 44,
   "metadata": {},
   "outputs": [
    {
     "output_type": "execute_result",
     "data": {
      "text/plain": [
       "False    47607\n",
       "True       403\n",
       "Name: frisk, dtype: int64"
      ]
     },
     "metadata": {},
     "execution_count": 44
    }
   ],
   "source": [
    "ri[\"frisk\"].value_counts()"
   ]
  },
  {
   "source": [
    "***"
   ],
   "cell_type": "markdown",
   "metadata": {}
  },
  {
   "cell_type": "markdown",
   "source": [
    "## Comparing frisk rates by gender"
   ],
   "metadata": {}
  },
  {
   "cell_type": "markdown",
   "source": [
    "You'll compare the rates at which female and male drivers are frisked during a search. Are males frisked more often than females, perhaps because police officers consider them to be higher risk?\n",
    "\n",
    "Before doing any calculations, it's important to filter the ``DataFrame`` to only include the relevant subset of data, namely stops in which a search was conducted."
   ],
   "metadata": {}
  },
  {
   "cell_type": "markdown",
   "source": [
    "**INSTRUCTIONS**\n",
    "\n",
    "*   Create a ``DataFrame``, searched, that only contains rows in which ``search_conducted`` is ``True``.\n",
    "*   Take the mean of the frisk column to find out what percentage of searches included a frisk.\n",
    "*   Calculate the frisk rate for each gender using a ``.groupby()``."
   ],
   "metadata": {}
  },
  {
   "cell_type": "code",
   "execution_count": 46,
   "source": [
    "searched = ri[ri.search_conducted]"
   ],
   "outputs": [],
   "metadata": {}
  },
  {
   "cell_type": "code",
   "execution_count": 47,
   "metadata": {},
   "outputs": [
    {
     "output_type": "execute_result",
     "data": {
      "text/plain": [
       "                                id location_raw police_department  \\\n",
       "stop_datetime                                                       \n",
       "2005-01-24 20:32:00  RI-2005-00010      Zone K1               600   \n",
       "2005-02-09 03:05:00  RI-2005-00011      Zone X4               500   \n",
       "2005-08-28 01:00:00  RI-2005-00084      Zone X1                 0   \n",
       "2005-09-15 02:20:00  RI-2005-00094      Zone X4               500   \n",
       "2005-09-24 02:20:00  RI-2005-00115      Zone K3               300   \n",
       "\n",
       "                    driver_gender  driver_age_raw  driver_age driver_race_raw  \\\n",
       "stop_datetime                                                                   \n",
       "2005-01-24 20:32:00             M          1987.0        18.0               W   \n",
       "2005-02-09 03:05:00             M          1976.0        29.0               W   \n",
       "2005-08-28 01:00:00             M          1979.0        26.0               W   \n",
       "2005-09-15 02:20:00             M          1988.0        17.0               W   \n",
       "2005-09-24 02:20:00             M          1987.0        18.0               W   \n",
       "\n",
       "                    driver_race            violation_raw            violation  \\\n",
       "stop_datetime                                                                   \n",
       "2005-01-24 20:32:00       White                 Speeding             Speeding   \n",
       "2005-02-09 03:05:00       White   Registration Violation  Registration/plates   \n",
       "2005-08-28 01:00:00       White  Other Traffic Violation     Moving violation   \n",
       "2005-09-15 02:20:00       White  Other Traffic Violation     Moving violation   \n",
       "2005-09-24 02:20:00       White  Other Traffic Violation     Moving violation   \n",
       "\n",
       "                     ...                 search_type_raw  \\\n",
       "stop_datetime        ...                                   \n",
       "2005-01-24 20:32:00  ...                  Probable Cause   \n",
       "2005-02-09 03:05:00  ...      Probable Cause,Terry Frisk   \n",
       "2005-08-28 01:00:00  ...  Incident to Arrest,Terry Frisk   \n",
       "2005-09-15 02:20:00  ...              Incident to Arrest   \n",
       "2005-09-24 02:20:00  ...              Incident to Arrest   \n",
       "\n",
       "                                             search_type contraband_found  \\\n",
       "stop_datetime                                                               \n",
       "2005-01-24 20:32:00                       Probable Cause             True   \n",
       "2005-02-09 03:05:00      Probable Cause,Protective Frisk            False   \n",
       "2005-08-28 01:00:00  Incident to Arrest,Protective Frisk            False   \n",
       "2005-09-15 02:20:00                   Incident to Arrest            False   \n",
       "2005-09-24 02:20:00                   Incident to Arrest            False   \n",
       "\n",
       "                      stop_outcome is_arrested  stop_duration out_of_state  \\\n",
       "stop_datetime                                                                \n",
       "2005-01-24 20:32:00       Citation       False       0-15 Min         True   \n",
       "2005-02-09 03:05:00       Citation       False       0-15 Min        False   \n",
       "2005-08-28 01:00:00  Arrest Driver        True      16-30 Min         True   \n",
       "2005-09-15 02:20:00  Arrest Driver        True      16-30 Min        False   \n",
       "2005-09-24 02:20:00  Arrest Driver        True      16-30 Min        False   \n",
       "\n",
       "                    drugs_related_stop  district  frisk  \n",
       "stop_datetime                                            \n",
       "2005-01-24 20:32:00               True   Zone K1  False  \n",
       "2005-02-09 03:05:00              False   Zone X4   True  \n",
       "2005-08-28 01:00:00              False   Zone X1   True  \n",
       "2005-09-15 02:20:00              False   Zone X4  False  \n",
       "2005-09-24 02:20:00              False   Zone K3  False  \n",
       "\n",
       "[5 rows x 21 columns]"
      ],
      "text/html": "<div>\n<style scoped>\n    .dataframe tbody tr th:only-of-type {\n        vertical-align: middle;\n    }\n\n    .dataframe tbody tr th {\n        vertical-align: top;\n    }\n\n    .dataframe thead th {\n        text-align: right;\n    }\n</style>\n<table border=\"1\" class=\"dataframe\">\n  <thead>\n    <tr style=\"text-align: right;\">\n      <th></th>\n      <th>id</th>\n      <th>location_raw</th>\n      <th>police_department</th>\n      <th>driver_gender</th>\n      <th>driver_age_raw</th>\n      <th>driver_age</th>\n      <th>driver_race_raw</th>\n      <th>driver_race</th>\n      <th>violation_raw</th>\n      <th>violation</th>\n      <th>...</th>\n      <th>search_type_raw</th>\n      <th>search_type</th>\n      <th>contraband_found</th>\n      <th>stop_outcome</th>\n      <th>is_arrested</th>\n      <th>stop_duration</th>\n      <th>out_of_state</th>\n      <th>drugs_related_stop</th>\n      <th>district</th>\n      <th>frisk</th>\n    </tr>\n    <tr>\n      <th>stop_datetime</th>\n      <th></th>\n      <th></th>\n      <th></th>\n      <th></th>\n      <th></th>\n      <th></th>\n      <th></th>\n      <th></th>\n      <th></th>\n      <th></th>\n      <th></th>\n      <th></th>\n      <th></th>\n      <th></th>\n      <th></th>\n      <th></th>\n      <th></th>\n      <th></th>\n      <th></th>\n      <th></th>\n      <th></th>\n    </tr>\n  </thead>\n  <tbody>\n    <tr>\n      <th>2005-01-24 20:32:00</th>\n      <td>RI-2005-00010</td>\n      <td>Zone K1</td>\n      <td>600</td>\n      <td>M</td>\n      <td>1987.0</td>\n      <td>18.0</td>\n      <td>W</td>\n      <td>White</td>\n      <td>Speeding</td>\n      <td>Speeding</td>\n      <td>...</td>\n      <td>Probable Cause</td>\n      <td>Probable Cause</td>\n      <td>True</td>\n      <td>Citation</td>\n      <td>False</td>\n      <td>0-15 Min</td>\n      <td>True</td>\n      <td>True</td>\n      <td>Zone K1</td>\n      <td>False</td>\n    </tr>\n    <tr>\n      <th>2005-02-09 03:05:00</th>\n      <td>RI-2005-00011</td>\n      <td>Zone X4</td>\n      <td>500</td>\n      <td>M</td>\n      <td>1976.0</td>\n      <td>29.0</td>\n      <td>W</td>\n      <td>White</td>\n      <td>Registration Violation</td>\n      <td>Registration/plates</td>\n      <td>...</td>\n      <td>Probable Cause,Terry Frisk</td>\n      <td>Probable Cause,Protective Frisk</td>\n      <td>False</td>\n      <td>Citation</td>\n      <td>False</td>\n      <td>0-15 Min</td>\n      <td>False</td>\n      <td>False</td>\n      <td>Zone X4</td>\n      <td>True</td>\n    </tr>\n    <tr>\n      <th>2005-08-28 01:00:00</th>\n      <td>RI-2005-00084</td>\n      <td>Zone X1</td>\n      <td>0</td>\n      <td>M</td>\n      <td>1979.0</td>\n      <td>26.0</td>\n      <td>W</td>\n      <td>White</td>\n      <td>Other Traffic Violation</td>\n      <td>Moving violation</td>\n      <td>...</td>\n      <td>Incident to Arrest,Terry Frisk</td>\n      <td>Incident to Arrest,Protective Frisk</td>\n      <td>False</td>\n      <td>Arrest Driver</td>\n      <td>True</td>\n      <td>16-30 Min</td>\n      <td>True</td>\n      <td>False</td>\n      <td>Zone X1</td>\n      <td>True</td>\n    </tr>\n    <tr>\n      <th>2005-09-15 02:20:00</th>\n      <td>RI-2005-00094</td>\n      <td>Zone X4</td>\n      <td>500</td>\n      <td>M</td>\n      <td>1988.0</td>\n      <td>17.0</td>\n      <td>W</td>\n      <td>White</td>\n      <td>Other Traffic Violation</td>\n      <td>Moving violation</td>\n      <td>...</td>\n      <td>Incident to Arrest</td>\n      <td>Incident to Arrest</td>\n      <td>False</td>\n      <td>Arrest Driver</td>\n      <td>True</td>\n      <td>16-30 Min</td>\n      <td>False</td>\n      <td>False</td>\n      <td>Zone X4</td>\n      <td>False</td>\n    </tr>\n    <tr>\n      <th>2005-09-24 02:20:00</th>\n      <td>RI-2005-00115</td>\n      <td>Zone K3</td>\n      <td>300</td>\n      <td>M</td>\n      <td>1987.0</td>\n      <td>18.0</td>\n      <td>W</td>\n      <td>White</td>\n      <td>Other Traffic Violation</td>\n      <td>Moving violation</td>\n      <td>...</td>\n      <td>Incident to Arrest</td>\n      <td>Incident to Arrest</td>\n      <td>False</td>\n      <td>Arrest Driver</td>\n      <td>True</td>\n      <td>16-30 Min</td>\n      <td>False</td>\n      <td>False</td>\n      <td>Zone K3</td>\n      <td>False</td>\n    </tr>\n  </tbody>\n</table>\n<p>5 rows × 21 columns</p>\n</div>"
     },
     "metadata": {},
     "execution_count": 47
    }
   ],
   "source": [
    "searched.head()"
   ]
  },
  {
   "cell_type": "code",
   "execution_count": 48,
   "metadata": {},
   "outputs": [
    {
     "output_type": "execute_result",
     "data": {
      "text/plain": [
       "0.20029821073558648"
      ]
     },
     "metadata": {},
     "execution_count": 48
    }
   ],
   "source": [
    "searched.frisk.mean()"
   ]
  },
  {
   "cell_type": "code",
   "execution_count": 49,
   "metadata": {},
   "outputs": [
    {
     "output_type": "execute_result",
     "data": {
      "text/plain": [
       "driver_gender\n",
       "F    0.164557\n",
       "M    0.205070\n",
       "Name: frisk, dtype: float64"
      ]
     },
     "metadata": {},
     "execution_count": 49
    }
   ],
   "source": [
    "searched.groupby(\"driver_gender\").frisk.mean()"
   ]
  },
  {
   "cell_type": "code",
   "execution_count": null,
   "metadata": {},
   "outputs": [],
   "source": []
  },
  {
   "cell_type": "code",
   "execution_count": null,
   "metadata": {},
   "outputs": [],
   "source": []
  }
 ],
 "metadata": {
  "kernelspec": {
   "name": "python3",
   "display_name": "Python 3.9.2 64-bit"
  },
  "language_info": {
   "codemirror_mode": {
    "name": "ipython",
    "version": 3
   },
   "file_extension": ".py",
   "mimetype": "text/x-python",
   "name": "python",
   "nbconvert_exporter": "python",
   "pygments_lexer": "ipython3",
   "version": "3.9.2"
  },
  "interpreter": {
   "hash": "8aa71f66831ae3a9c893a3b058ea0ed6f85404695a12d9a8794cb7bab518847e"
  }
 },
 "nbformat": 4,
 "nbformat_minor": 4
}