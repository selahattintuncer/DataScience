{
 "metadata": {
  "language_info": {
   "codemirror_mode": {
    "name": "ipython",
    "version": 3
   },
   "file_extension": ".py",
   "mimetype": "text/x-python",
   "name": "python",
   "nbconvert_exporter": "python",
   "pygments_lexer": "ipython3",
   "version": "3.9.2"
  },
  "orig_nbformat": 4,
  "kernelspec": {
   "name": "python3",
   "display_name": "Python 3.9.2 64-bit"
  },
  "interpreter": {
   "hash": "8aa71f66831ae3a9c893a3b058ea0ed6f85404695a12d9a8794cb7bab518847e"
  }
 },
 "nbformat": 4,
 "nbformat_minor": 2,
 "cells": [
  {
   "source": [
    "### Expressions :\n",
    "***\n",
    "`\\d`                         Any numeric digit from `0` to `9`.\n",
    "\n",
    "`\\D`                         Matches any character which is not a decimal digit.\n",
    "                           This is the opposite of `\\d`.\n",
    "\n",
    "`\\w`                         Any letter, numeric digit, or the underscore\n",
    "                           character.  (Think of this as matching\n",
    "                           \"word\" characters.)\n",
    "\n",
    "`\\W`                         Any character that is not a letter,\n",
    "                           numeric digit, or the underscore character.\n",
    "\n",
    "`\\s`                         Any space, tab, or newline character.  (\n",
    "                           Think of this as matching white-space\n",
    "                           characters.)\n",
    "                           \n",
    "`\\S`                         Any character that is not a space, tab,"
   ],
   "cell_type": "markdown",
   "metadata": {}
  },
  {
   "cell_type": "code",
   "execution_count": 2,
   "metadata": {},
   "outputs": [],
   "source": [
    "import re\n",
    "import pandas as pd"
   ]
  },
  {
   "cell_type": "code",
   "execution_count": 3,
   "metadata": {},
   "outputs": [],
   "source": [
    "text = \"A23B\""
   ]
  },
  {
   "cell_type": "code",
   "execution_count": 5,
   "metadata": {},
   "outputs": [
    {
     "output_type": "execute_result",
     "data": {
      "text/plain": [
       "'23'"
      ]
     },
     "metadata": {},
     "execution_count": 5
    }
   ],
   "source": [
    "num = re.search(\"\\d\\d\", text)  # \\d rakamsal değeri döndürür\n",
    "num.group()"
   ]
  },
  {
   "cell_type": "code",
   "execution_count": 7,
   "metadata": {},
   "outputs": [],
   "source": [
    "text = \"A238B\""
   ]
  },
  {
   "cell_type": "code",
   "execution_count": 8,
   "metadata": {},
   "outputs": [
    {
     "output_type": "execute_result",
     "data": {
      "text/plain": [
       "'238'"
      ]
     },
     "metadata": {},
     "execution_count": 8
    }
   ],
   "source": [
    "num = re.search(\"\\d\\d\\d\", text) \n",
    "num.group()"
   ]
  },
  {
   "cell_type": "code",
   "execution_count": 11,
   "metadata": {},
   "outputs": [],
   "source": [
    "text = \"4PM5\""
   ]
  },
  {
   "cell_type": "code",
   "execution_count": 13,
   "metadata": {},
   "outputs": [
    {
     "output_type": "execute_result",
     "data": {
      "text/plain": [
       "'PM'"
      ]
     },
     "metadata": {},
     "execution_count": 13
    }
   ],
   "source": [
    "nondeci = re.search(\"\\D\\D\", text)  #\\D sayı olmayan değerleri döndürür\n",
    "nondeci.group()"
   ]
  },
  {
   "cell_type": "code",
   "execution_count": null,
   "metadata": {},
   "outputs": [],
   "source": []
  },
  {
   "cell_type": "code",
   "execution_count": null,
   "metadata": {},
   "outputs": [],
   "source": []
  },
  {
   "cell_type": "code",
   "execution_count": null,
   "metadata": {},
   "outputs": [],
   "source": []
  },
  {
   "cell_type": "code",
   "execution_count": null,
   "metadata": {},
   "outputs": [],
   "source": []
  },
  {
   "cell_type": "code",
   "execution_count": null,
   "metadata": {},
   "outputs": [],
   "source": []
  },
  {
   "cell_type": "code",
   "execution_count": null,
   "metadata": {},
   "outputs": [],
   "source": []
  }
 ]
}